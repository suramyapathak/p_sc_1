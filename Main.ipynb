{
 "cells": [
  {
   "cell_type": "code",
   "execution_count": null,
   "id": "b6c01464",
   "metadata": {},
   "outputs": [],
   "source": [
    "#hp one"
   ]
  },
  {
   "cell_type": "code",
   "execution_count": 14,
   "id": "bb208ed9",
   "metadata": {},
   "outputs": [],
   "source": [
    "class dog:\n",
    "    tricks=[]\n",
    "    def __init__(self, name):\n",
    "        self.name=name\n",
    "    def teach_trick(self, trick):\n",
    "        self.tricks.append(trick)"
   ]
  },
  {
   "cell_type": "code",
   "execution_count": 15,
   "id": "4d84beed",
   "metadata": {},
   "outputs": [],
   "source": [
    "d1=dog('scooby')"
   ]
  },
  {
   "cell_type": "code",
   "execution_count": 16,
   "id": "6f216af9",
   "metadata": {},
   "outputs": [],
   "source": [
    "d1.name='scooby'"
   ]
  },
  {
   "cell_type": "code",
   "execution_count": 7,
   "id": "67695e47",
   "metadata": {},
   "outputs": [
    {
     "data": {
      "text/plain": [
       "'scooby'"
      ]
     },
     "execution_count": 7,
     "metadata": {},
     "output_type": "execute_result"
    }
   ],
   "source": [
    "d1.name"
   ]
  },
  {
   "cell_type": "code",
   "execution_count": 19,
   "id": "b56e0a24",
   "metadata": {},
   "outputs": [],
   "source": [
    "d1.random_method = lambda :\"I am random\""
   ]
  },
  {
   "cell_type": "code",
   "execution_count": 20,
   "id": "f1477953",
   "metadata": {},
   "outputs": [
    {
     "data": {
      "text/plain": [
       "'I am random'"
      ]
     },
     "execution_count": 20,
     "metadata": {},
     "output_type": "execute_result"
    }
   ],
   "source": [
    "d1.random_method()"
   ]
  },
  {
   "cell_type": "code",
   "execution_count": 22,
   "id": "c62b75f8",
   "metadata": {},
   "outputs": [
    {
     "data": {
      "text/plain": [
       "<function __main__.<lambda>()>"
      ]
     },
     "execution_count": 22,
     "metadata": {},
     "output_type": "execute_result"
    }
   ],
   "source": [
    "d1.random_method"
   ]
  },
  {
   "cell_type": "markdown",
   "id": "a5ee34df",
   "metadata": {},
   "source": [
    "Live classes\n",
    "A mentor 1:1 every two week\n",
    "Teaching assistant\n",
    "Peers\n",
    "\n",
    "\n",
    "Mentors \n",
    "Relevant background\n",
    "Do not Over index on experience\n",
    "Do not over index on FAANG\n",
    "\n",
    "Teaching assistants\n",
    "Unable to solve problem\n",
    "Do not ask for copy paste the code\n",
    "Design problem can't be marked from the system, teaching assistant rate that and provide you where can you improve \n",
    "\n",
    "Classroom feature\n",
    "Pre reading and post reading marterial in class is there\n",
    "\n",
    "Community\n",
    "Peers community\n",
    "Three sections\n",
    "1.Discuss academic content\n",
    "for ex: problem state can be discussed over there\n",
    "2. Group for carrier: carrier interview group: job oppurtunity, interview experience\n",
    "3. Interest related group: discuss common interest and for example book reading, cricket\n",
    "\n",
    "\n",
    "Placements:\n",
    "\n",
    "Placement starts when you have cleared mock interviews\n",
    "\n",
    "\n",
    "Number Theory\n",
    "Prime numbers\n",
    "Natural numbers\n",
    "Composite numbers: opposite of prime numbers, numbers that are not prime\n",
    "1 is neither composite or prime\n",
    "prime factorization convert all the factors to prime for a number\n",
    "co prime/relatively prime: if there is no common factor other than 1\n",
    "\n",
    "2,4,6,8,10,12,\n",
    "1,2,3,4,5,6,  2\n",
    "1,1,3,2,5,3,  4\n",
    "1,1,1,2,5,1,  12\n",
    "120\n",
    "\n",
    "1,5,8,5 15\n",
    "1,1,8,1, 75\n",
    "\n",
    "Anil Kumar Patel\n",
    "MD Junaid khan\n",
    "Vinay Katiyar\n",
    "Shewta Sharma\n",
    "Ruturaj Kulkarni\n",
    "\n",
    "\n",
    "\n",
    "Python is a interpreter language\n",
    "Everything in python is an object(integer, functions, strings, classes, boolean etc)\n",
    "FCC are special datatypes, implementations of which are written in python interpreter\n",
    "_ is a special identifier in python, which stores the previous expression that was run\n",
    "Python has only three mutable datastructures: list, sets, dict, everything else is immutable\n",
    "\n",
    "\n",
    "https://www.youtube.com/watch?v=rTgjOV0uTV0\n",
    "\n",
    "a.sort()\n",
    "inplace sorting, it will sort the original list\n",
    "\n",
    "sorted(a)\n",
    "it will sort the list, but won't make any changes to the orignial list\n",
    "\n",
    "dictonary is not ordered i.e, dict[0] has no value, they work on key value pair only\n",
    "\n",
    "iterate dictory\n",
    "\n",
    "for key in dict:\n",
    " print(key)\n",
    "it will print key\n",
    "\n",
    "to print values\n",
    "\n",
    "for value in dict.values():\n",
    "  print(values)\n",
    "or \n",
    "for value in dict:\n",
    "  print(dict[value])\n",
    "\n",
    "to print both\n",
    "\n",
    "for key, values in dict.items():\n",
    " print(key, \"->\", values)\n",
    "\n",
    "dict.get()\n",
    "if there's no key in the dict, it will return None, or you can give it a default value, which will be published in case if there's no key in the dict\n",
    "\n",
    "dict.get(7, \"Not Found:\")\n",
    "\n",
    "\n",
    "sets\n",
    "\n",
    "sets can only store immutable data types and structures simillar to keys in dictionary\n",
    "only hold unique value\n",
    "mutable \n",
    "unordered\n",
    "iterable\n",
    "not indexable\n",
    "\n",
    "intialisation\n",
    "set1={2,3,4}\n",
    "creating a empty set\n",
    "s1=set()\n",
    "if you try to do this: set1={}, it will create a dictionary\n",
    "Updating the set, can't use pop fuction as a use case, if you use pop function, it will remove random element as set is not indexed\n",
    "s.add()\n",
    "s.remove()\n",
    "\n",
    "\n",
    "can perform mathematical function of sets like union, intersection, difference A-B etc\n",
    "example:\n",
    "s1.union(s2)\n",
    "s1|s2 -> pipe opearator work as union\n",
    "s1.intersection()\n",
    "s1 & s2 -> & opearator work as intersection\n",
    "s1.difference(s2)\n",
    "s1-s2\n",
    "\n",
    "\n",
    "symmetric difference -> (a union b) - (a intersection b)\n",
    "python representation\n",
    "s1.symmetric_difference(s2)\n",
    "s1^s2\n",
    "\n",
    "Comprehension\n",
    "  lambda function\n",
    "\n",
    "the normal for loop\n",
    "for i in a :\n",
    "  b.append(i**2)\n",
    "\n",
    "can be written as\n",
    "\n",
    "b= [i**2 for i in a]\n",
    "\n",
    "if else comprehension:\n",
    "\n",
    "a1=[0 if i<5 else 1 for i in a]\n",
    "\n",
    "can't use elif \n",
    "\n",
    "Nested loop comprehension\n",
    "\n",
    "cool_list = [i*j for j in range(1,11) for i in range(1,11)] no time saved \n",
    "only a new type to write\n",
    "\n",
    "work for list, set\n",
    "\n",
    "since tuple are immutable, we can't directly use it for comprehension\n",
    "if we try to make a tuple using () brackets, it will give us generator object, which can then converted into tuple using \n",
    "t1= (statement)\n",
    "t2= tuple(t1)\n",
    "t2 would show the values as tuples\n",
    "t1 will show a message something like Generator object <ghiohdn> at 0x7bcd6d0\n",
    "\n",
    "comprehension for dictionary\n",
    "d1 = {key:value for key in range(0,11)}\n",
    "\n",
    "PRINT FORMAT\n",
    "s2= 'Length = {}, Breadth ={}, Area ={}\" .format(l,b,a)\n",
    "\n",
    "another way\n",
    "s2= f'Length = {l}, Breadth ={b}, Area ={a}\" \n",
    "\n",
    "Use with Compreshension\n",
    "\n",
    "d1 = { f'Square of {x}:x**2 for x in range(0,11)}\n",
    "\n",
    "\n",
    "Functions\n",
    "\n",
    "def square(x):\n",
    "  return x**2\n",
    "\n",
    "same thing in lambda\n",
    "\n",
    "defining lambda function\n",
    "square_lambda = lambda x: x**2\n",
    "\n",
    "calling lambda function\n",
    "square_lambda(2)\n",
    "\n",
    "lambda working\n",
    "                          x            :           x**2\n",
    "lambda (argument the function requires):(the value that the function returns)\n",
    "\n",
    "lambda can accept multiple arguments \n",
    "add_lambda=lambda x,y: x+y\n",
    "add_lambda(5,4)\n",
    "\n",
    "calling lambda function without variable\n",
    "(function definition)(function calling and passing arguments)\n",
    "(lambda x:x**3)(5)\n",
    "it will give 125\n",
    "no need to assign the variable to it if needs to use one time\n",
    "\n",
    "sorting the dictonary on the basis of marks\n",
    "dict {\n",
    "'name':a, 'marks':50,\n",
    ".......\n",
    "\n",
    "}\n",
    "sorted(students, key= lambda x:x['marks])\n",
    "\n",
    "higher order functions\n",
    "\n",
    "higher order functions are functions that returns function, this is different from recurrsion function\n",
    "example\n",
    "\n",
    "def a(n):\n",
    "   def b(m):\n",
    "       return m*n\n",
    "   return b\n",
    "\n",
    "so the function a is higher order function as it is returning b function\n",
    "\n",
    "implimentation\n",
    "\n",
    "mul_5 = a(5) -> this value would be assign to n\n",
    "type(mul_5)\n",
    "->function\n",
    "\n",
    "so basically the value of n becomes 5 while we need to send value of n for function mul_5\n",
    "\n",
    "mul_5(2)  -> this value would be assign to m\n",
    "->10\n",
    "another example\n",
    "mul_7 = a(7)\n",
    "mul_7(3)\n",
    "->21 \n",
    "\n",
    "Decorators\n",
    "\n",
    "it will accept a function as an argument and return the function\n",
    "\n",
    "so it will be like\n",
    "\n",
    "def a(func):\n",
    "  def b():  <- no arguments\n",
    "\tprint(\"hello\")\n",
    "\tfunc()\n",
    "\tprint(\"bye\") <- function b is not returning anything  return wrapper\n",
    "  return b\n",
    "real time use case\n",
    "\n",
    "where we don't want to go through the same thing again and again\n",
    "\n",
    "for example we want to print something like \n",
    "\n",
    "---------------------\n",
    "Hello <- desired text\n",
    "---------------------\n",
    "\n",
    "so we can do this in two ways\n",
    "\n",
    "first make a function everytime\n",
    "\n",
    "taking example in above case, we need hello and bye as desired case\n",
    "\n",
    "the first way is to write two different function one for hello and another for bye\n",
    "\n",
    "something like this\n",
    "\n",
    "def hello:\n",
    "  print(\"-\"*50)\n",
    "  print(\"Hello\")\n",
    "  print(\"-\"*50)\n",
    "\n",
    "def bye:\n",
    "  print(\"-\"*50)\n",
    "  print(\"Bye\")\n",
    "  print(\"-\"*50)\n",
    "\n",
    "instead of these two functions, we can use\n",
    "\n",
    "def decor(func):\n",
    "  def wrapper():\n",
    "    print(\"-\"*50)\n",
    "    func()\n",
    "    print(\"-\"*50)\n",
    "  return wrapper\n",
    "\n",
    "calling the function\n",
    "we need to create a function as we pass func()\n",
    "\n",
    "def say_hello():\n",
    "  print(\"hello\")\n",
    "\n",
    "decorated_say_hello= decor(say_hello)\n",
    "decorated_say_hello  -> this is also a function\n",
    "decorated_say_hello()\n",
    "-> \n",
    "-------------\n",
    "Hello\n",
    "-------------\n",
    "\n",
    "another way of writing the above code, is pointing to decorator function, but that will change the original function\n",
    "\n",
    "@decor\n",
    "def say_bye():\n",
    "  print(\"Bye\")\n",
    "\n",
    "say_bye() -> calling the function itself, no need to go for another variable\n",
    "->\n",
    "-------------\n",
    "Bye\n",
    "-------------\n",
    "\n",
    "\n",
    "Three principles of functional programming\n",
    "\n",
    "1. Data should be seprated from mutations\n",
    "2. Treat data as immutable\n",
    "3. Treat functions as FCC (objects)\n",
    "\n",
    "\n",
    "map, filter, reduce\n",
    "\n",
    "map\n",
    "it will map each individual value to a new one\n",
    "\n",
    "a=[1,2,3,4,5]\n",
    "\n",
    "m=map(lambda x:x**2, a)\n",
    "m\n",
    "-> <map at 07x1d2d6d3]\n",
    "m_list=list(m)<- converting map into a list\n",
    "m_list\n",
    "[1,4,9,16,25]\n",
    "\n",
    "another one\n",
    "a=[1,2,3]\n",
    "b=[4,5,6]\n",
    "\n",
    "m = list(map(lambda x, y: x+y, a,b)\n",
    "m\n",
    "-> [5,7,9]\n",
    "\n",
    "filter\n",
    "\n",
    "filter down the list\n",
    "\n",
    "a=[1,2,3,4,5,6]\n",
    "f= filter(lambda x : x%2 == 0, a)\n",
    "\n",
    "f\n",
    "-> <filter at 0x7f981ee400>\n",
    "f_list =list(f)\n",
    "\n",
    "f_list\n",
    "-> [2,4,6]\n",
    "\n",
    "the only caveat with filter is that the function should return true or false value\n",
    "\n",
    "filter can take only one iterable, while map can take multiple iterable\n",
    "\n",
    "any number except 0 is true, same goes for element, list, anything which has vaue of 1 or more is true, example, empty string, empty list all are false\n",
    "\n",
    "\n",
    "REDUCE\n",
    "\n",
    "it will reduce the list/other datatype to a single value\n",
    "\n",
    "r = reduce(lambda x,y:x+y, a)\n",
    "\n",
    "if we have two loops then it will work as inner and outer loop\n",
    "\n",
    "arr = [a+\" \" +b for a in [\"Hello\", \"Good\"] for b in [\"Dear\", \"Bye\"]]\n",
    "\n",
    "-> [\"Hello Dear\", \"Hello Bye\", \"Good Dear\", \"Bye Dear\"]\n",
    "\n",
    "\n",
    "OOPs\n",
    "\n",
    "\n",
    "\n",
    "functions defined in a class are called methods\n",
    "\n",
    "use pass to write empty function or class\n",
    " example\n",
    "\n",
    "class student:\n",
    " pass\n",
    "\n",
    "creating object\n",
    "\n",
    "s1=student()\n",
    "\n",
    "type(s1)\n",
    "__main__.student\n",
    "\n",
    "4 pillars of oops\n",
    "1. Encapsulation: putting data together, which belong together logically\n",
    "2. Abstraction\n",
    "3. Inheritence\n",
    "4. Polymorphism  one syntax,many behaviours\n",
    "\n",
    "constructors\n",
    "python does not have a constructor\n",
    "\n",
    "object life cycle\n",
    "1. __init__ <- intialize\n",
    "already has access to the object's' reference in memory\n",
    "2__del__  <- delete whenever a function/object is removed from the memory delete function is called\n",
    "object lives b/w these two\n",
    "these two are predefined\n",
    "these two are called dunders. also called magic methods covered later\n",
    "\n",
    "\n",
    "now if in class, we create an method(function within the class), and call it by the class name it will work but if we call it by the object name it will not, because we need to put self as an argument in the original method defined in the class\n",
    "\n",
    "for example\n",
    "\n",
    "class student:\n",
    "\tdef hello():\n",
    "\t\tprint('hello')\n",
    "s1=student()\n",
    "student.hello()\n",
    "->hello\n",
    "s1.hello\n",
    "-> TypeError -> hello() takes 0 positional arguments but 1 was given\n",
    "\n",
    "\n",
    "that happens because self is not pass in the method so we need to write class like this\n",
    "\n",
    "class student:\n",
    "\tdef hello(self):\n",
    "\t\tprint('hello')\n",
    "\n",
    "now s1.hello would work\n",
    "\n",
    "s1.hello\n",
    "->hello\n",
    "\n",
    "this is because an argument is passed from object which is self\n",
    "\n",
    "self is nothing but reference to the object, basically id(s1)\n",
    "\n",
    "but now we can't call the function using the class only like we did before with \n",
    "student.hello()\n",
    "->error\n",
    "instead we now need to pass object of the class as well\twhich is already defined\n",
    "so it should be\n",
    "student.helo(s1)\n",
    "->hello\n",
    "\n",
    "to create variables for the object\n",
    "-> you can put anything it place self like great, dodge etc\n",
    "any method need self as the first argument\n",
    "class Student:\n",
    "\tdef __init__(self, name, roll_number, age):\n",
    "\t\tself.name=name \n",
    "\t\tself.age=age\n",
    "\t\tself.roll_number=roll_number\n",
    "\n",
    "s1=student(abc, 10,101) -> first element that we passed that will pass to the second element of the method automatically by python\n",
    "s1.name\n",
    "->abc\n",
    "s1.age\n",
    "->10\n",
    "s1.roll_number\n",
    "->101\n",
    "\n",
    "\n",
    "Class variable -> something that is common for all the object of the class\n",
    "\n",
    "class dog:\n",
    "\tkind:\"labra\"\n",
    "\tdef __init__(self,name):\n",
    "\t\tself.name = name\n",
    "\n",
    "d1=dog(\"scooby\")\n",
    "d2=dog(\"tuffy\")\n",
    "d1.name\n",
    "->'scooby'\n",
    "d2.name\n",
    "->'tuffy'\n",
    "d1.kind    \n",
    "->'labra'    -> no change in the kind variable of the class\n",
    "d2.kind\n",
    "->'labra'    -> no change in the kind variable of the class\n",
    "d1.kind ='german shpehard'\n",
    "d2.kind\n",
    "->'labra'->no change in the kind variable of the class for other objects\n",
    "\n",
    "To change that we need to use\n",
    "dog.kind='pug'\n",
    "d2.kind\n",
    "->'pug'\n",
    "d1.kind\n",
    "->'german shephard' -> no change the ones that are defined outside the class, only the common variable is changed\n",
    "here pug and labra are class variables, and german shephard is instance variable\n",
    "\n",
    "class method and instance method\n",
    "\n",
    "in class method we don't have self as argument but in instance method we do\n",
    "class methods can only be called by class and instance method is only be called by instance\n",
    "example\n",
    "def class_method():\n",
    "\tprint('called using class\")\n",
    "def instance_method(self)\n",
    "\tprint('called using instance')\n",
    "\n",
    "dog.class_method()\n",
    "-> called using class\n",
    "d1.class_method\n",
    "-> error   -> as only class can call a class method\n",
    "\n",
    "d1.instance_method()\n",
    "-> called using instance\n",
    "\n",
    "dog.instance_method()\n",
    "-> error  -> as only instance can call a instance method\n",
    "\n",
    "class dog:\n",
    "\ttricks=[]\n",
    "\tdef __init(self, name):\n",
    "\t\tself.name=name\n",
    "\tdef teach_trick(self, trick):\n",
    "\t\tself.tricks.append(trick)\n",
    "\n",
    "if a class variable is mutable, as tricks in above example\n",
    "now if we define the tricks for one instance it will go for the other one as well\n",
    "\n",
    "if the class variable is immutable and try to mutate using instance, a new instance variable is create for that instance only. Original remains intact\n",
    "\n",
    "for example\n",
    "\n",
    "d1= dog('scooby')\n",
    "d2 = dog('tuffy')\n",
    "\n",
    "d1.teach_trick('Solve mysteries')\n",
    "d2.tricks\n",
    "-> Solve mysteries -> it was passed on with instance d1 but it automatically passed to instance d2\n",
    "\n",
    "\n",
    "creating a method outside class\n",
    "\n",
    "d1.random_method =lambda self: \"I am random\"\n",
    "d1.random_method(d1) -> need to pass the object\n",
    "->\"I am random\"\n",
    "\n",
    "also, if we remove self we don't need to pass the object\n",
    "\n",
    "d1.random_method= lambda: \"I am random\"\n",
    "\n",
    "d1.random_method()\n",
    "-> I am random\n",
    "\n",
    "dundors- for every behaviour there's a predefined function in python that can be use in a class, this could be use to modify the behaviour of that class instance\n",
    "\n",
    "for example if we want to print something using class instance we use __str__\n",
    "in below example we use it as whenever the print function is called on the class instance it will use the function that we have defined in the class\n"
   ]
  },
  {
   "cell_type": "code",
   "execution_count": 1,
   "id": "636dc219",
   "metadata": {},
   "outputs": [],
   "source": [
    "class car:\n",
    "    def __init__(self, name, mileage):\n",
    "        self.name=name\n",
    "        self.mileage = mileage\n",
    "\n",
    "    def __str__(self):#--> dundors str for print function\n",
    "        \n",
    "        return f'{self.name} -> {self.mileage}'\n",
    "    def __add__(self, other): # --> for '+' function \n",
    "        return self.mileage+other.mileage\n",
    "    def __call__(self):\n",
    "        print(\"Function Called\")\n",
    "        \n",
    "        \n",
    "c1=car(\"Nexon\", 13)\n",
    "c2=car(\"Altroz\", 13)\n"
   ]
  },
  {
   "cell_type": "code",
   "execution_count": 31,
   "id": "5dbccb2e",
   "metadata": {},
   "outputs": [
    {
     "name": "stdout",
     "output_type": "stream",
     "text": [
      "Nexon -> 13\n"
     ]
    }
   ],
   "source": [
    "print(c1) "
   ]
  },
  {
   "cell_type": "markdown",
   "id": "5d6a68af",
   "metadata": {},
   "source": [
    "if we look at the output, it is not the normal behaviour of the print function but it the behaviour that we defined using __str__ simillarly there are different function names to alter different predefined functions"
   ]
  },
  {
   "cell_type": "markdown",
   "id": "8f5a8a20",
   "metadata": {},
   "source": [
    "now same with the add dunder"
   ]
  },
  {
   "cell_type": "code",
   "execution_count": 36,
   "id": "4939876d",
   "metadata": {},
   "outputs": [
    {
     "data": {
      "text/plain": [
       "26"
      ]
     },
     "execution_count": 36,
     "metadata": {},
     "output_type": "execute_result"
    }
   ],
   "source": [
    "c1+c2"
   ]
  },
  {
   "cell_type": "markdown",
   "id": "ede56e2f",
   "metadata": {},
   "source": [
    "if we haven't defined the add dunder in the class it would have given the error, but since we have define it to add two mileages, it is just giving us added result"
   ]
  },
  {
   "cell_type": "markdown",
   "id": "6d2f58a9",
   "metadata": {},
   "source": [
    "documentation of dunder\n",
    "https://docs.python.org/3/reference/datamodel.html"
   ]
  },
  {
   "cell_type": "markdown",
   "id": "208818b5",
   "metadata": {},
   "source": [
    "another way of calling the same dunder"
   ]
  },
  {
   "cell_type": "code",
   "execution_count": 2,
   "id": "8f86dabf",
   "metadata": {},
   "outputs": [
    {
     "data": {
      "text/plain": [
       "26"
      ]
     },
     "execution_count": 2,
     "metadata": {},
     "output_type": "execute_result"
    }
   ],
   "source": [
    "c1.__add__(c2)"
   ]
  },
  {
   "cell_type": "markdown",
   "id": "c8b851b0",
   "metadata": {},
   "source": [
    "now there's a dunder that can be use as a call function  \""
   ]
  },
  {
   "cell_type": "code",
   "execution_count": 3,
   "id": "ad18d287",
   "metadata": {},
   "outputs": [
    {
     "name": "stdout",
     "output_type": "stream",
     "text": [
      "Function Called\n"
     ]
    }
   ],
   "source": [
    "c1()"
   ]
  },
  {
   "cell_type": "markdown",
   "id": "92de261c",
   "metadata": {},
   "source": [
    "## Inheritance"
   ]
  },
  {
   "cell_type": "markdown",
   "id": "d2f2a887",
   "metadata": {},
   "source": [
    "It uses DRY principle\n",
    "DRY: Don't repeat yourself\n",
    "\n"
   ]
  },
  {
   "cell_type": "code",
   "execution_count": 5,
   "id": "624ce999",
   "metadata": {},
   "outputs": [],
   "source": [
    "# How to inherit class"
   ]
  },
  {
   "cell_type": "code",
   "execution_count": 14,
   "id": "5fce4eb5",
   "metadata": {},
   "outputs": [],
   "source": [
    "class SchoolMember:\n",
    "    def __init__(self, name):\n",
    "        self.name = name\n",
    "        \n",
    "class Student(SchoolMember): #--> inherit the parent class SchoolMember class, just pass it as argument as we do it in function\n",
    "    def __init__(self, name, percentage): # no need to define name as it already defined in parent class\n",
    "        self.percentage=percentage \n",
    "class Staff(SchoolMember):\n",
    "    def __init__(self, name, salary):\n",
    "        self.salary= salary\n",
    "    \n",
    "class Teacher(Staff):\n",
    "    def __init__(self, name, salary, subject):\n",
    "        self.subject = subject\n",
    "    "
   ]
  },
  {
   "cell_type": "code",
   "execution_count": 9,
   "id": "2a74c3dc",
   "metadata": {},
   "outputs": [],
   "source": [
    "cool_teacher= Teacher(\"Bipin Kalra\", 100, 'Python')"
   ]
  },
  {
   "cell_type": "markdown",
   "id": "eccb7249",
   "metadata": {},
   "source": [
    "if we try to call a variable that is inherited from parent class and we are trying to call using child class instance it will give an error as below"
   ]
  },
  {
   "cell_type": "code",
   "execution_count": 16,
   "id": "c1a0cfd9",
   "metadata": {},
   "outputs": [
    {
     "ename": "AttributeError",
     "evalue": "'Teacher' object has no attribute 'name'",
     "output_type": "error",
     "traceback": [
      "\u001b[1;31m---------------------------------------------------------------------------\u001b[0m",
      "\u001b[1;31mAttributeError\u001b[0m                            Traceback (most recent call last)",
      "Input \u001b[1;32mIn [16]\u001b[0m, in \u001b[0;36m<cell line: 1>\u001b[1;34m()\u001b[0m\n\u001b[1;32m----> 1\u001b[0m \u001b[43mcool_teacher\u001b[49m\u001b[38;5;241;43m.\u001b[39;49m\u001b[43mname\u001b[49m\n",
      "\u001b[1;31mAttributeError\u001b[0m: 'Teacher' object has no attribute 'name'"
     ]
    }
   ],
   "source": [
    "cool_teacher.name"
   ]
  },
  {
   "cell_type": "code",
   "execution_count": 12,
   "id": "7d3a9915",
   "metadata": {},
   "outputs": [
    {
     "data": {
      "text/plain": [
       "'Python'"
      ]
     },
     "execution_count": 12,
     "metadata": {},
     "output_type": "execute_result"
    }
   ],
   "source": [
    "cool_teacher.subject"
   ]
  },
  {
   "cell_type": "markdown",
   "id": "cd95afcd",
   "metadata": {},
   "source": [
    "same goes for salary"
   ]
  },
  {
   "cell_type": "code",
   "execution_count": 17,
   "id": "66a71ce0",
   "metadata": {},
   "outputs": [
    {
     "ename": "AttributeError",
     "evalue": "'Teacher' object has no attribute 'salary'",
     "output_type": "error",
     "traceback": [
      "\u001b[1;31m---------------------------------------------------------------------------\u001b[0m",
      "\u001b[1;31mAttributeError\u001b[0m                            Traceback (most recent call last)",
      "Input \u001b[1;32mIn [17]\u001b[0m, in \u001b[0;36m<cell line: 1>\u001b[1;34m()\u001b[0m\n\u001b[1;32m----> 1\u001b[0m \u001b[43mcool_teacher\u001b[49m\u001b[38;5;241;43m.\u001b[39;49m\u001b[43msalary\u001b[49m\n",
      "\u001b[1;31mAttributeError\u001b[0m: 'Teacher' object has no attribute 'salary'"
     ]
    }
   ],
   "source": [
    "cool_teacher.salary"
   ]
  },
  {
   "cell_type": "markdown",
   "id": "86d8214d",
   "metadata": {},
   "source": [
    "to overcome it, we need to use super() function, the super() function is a special construct in python that will call the variable that correspond the __immediate parent class__ , we need to provide arguments of parent class that we need to call in the class\n",
    "so the above code would be something like this for class teacher"
   ]
  },
  {
   "cell_type": "code",
   "execution_count": 24,
   "id": "192c0487",
   "metadata": {},
   "outputs": [],
   "source": [
    "class SchoolMember:\n",
    "    def __init__(self, name):\n",
    "        self.name = name\n",
    "        \n",
    "class Student(SchoolMember): #--> inherit the parent class SchoolMember class, just pass it as argument as we do it in function\n",
    "    def __init__(self, name, percentage): # no need to define name as it already defined in parent class\n",
    "        self.percentage=percentage \n",
    "class Staff(SchoolMember):\n",
    "    def __init__(self, name, salary):\n",
    "        super().__init__(name) # initialization of super() from parent class so that we can pass it down the child class Teacher\n",
    "        self.salary= salary\n",
    "    \n",
    "class Teacher(Staff):\n",
    "    def __init__(self, name, salary, subject):\n",
    "        super().__init__(name, salary)  ##intialization for super() with the parameters\n",
    "        self.subject = subject\n",
    "    "
   ]
  },
  {
   "cell_type": "code",
   "execution_count": 25,
   "id": "1348ddd6",
   "metadata": {},
   "outputs": [],
   "source": [
    "cool_teacher= Teacher(\"Bipin Kalra\", 100, 'Python')"
   ]
  },
  {
   "cell_type": "code",
   "execution_count": 26,
   "id": "8f5eb17d",
   "metadata": {},
   "outputs": [
    {
     "data": {
      "text/plain": [
       "'Bipin Kalra'"
      ]
     },
     "execution_count": 26,
     "metadata": {},
     "output_type": "execute_result"
    }
   ],
   "source": [
    "cool_teacher.name"
   ]
  },
  {
   "cell_type": "code",
   "execution_count": 27,
   "id": "b386efe0",
   "metadata": {},
   "outputs": [
    {
     "data": {
      "text/plain": [
       "100"
      ]
     },
     "execution_count": 27,
     "metadata": {},
     "output_type": "execute_result"
    }
   ],
   "source": [
    "cool_teacher.salary"
   ]
  },
  {
   "cell_type": "raw",
   "id": "a86336b5",
   "metadata": {},
   "source": [
    "Or we can call the class using class_name.__init__, we do need to send self as an argument, as shown below in class teacher"
   ]
  },
  {
   "cell_type": "code",
   "execution_count": 2,
   "id": "5a8b2716",
   "metadata": {},
   "outputs": [],
   "source": [
    "class SchoolMember:\n",
    "    def __init__(self, name):\n",
    "        self.name = name\n",
    "        \n",
    "class Student(SchoolMember): #--> inherit the parent class SchoolMember class, just pass it as argument as we do it in function\n",
    "    def __init__(self, name, percentage): # no need to define name as it already defined in parent class\n",
    "        self.percentage=percentage \n",
    "class Staff(SchoolMember):\n",
    "    def __init__(self, name, salary):\n",
    "        super().__init__(name) # initialization of super() from parent class so that we can pass it down the child class Teacher\n",
    "        self.salary= salary\n",
    "    \n",
    "class Teacher(Staff):\n",
    "    def __init__(self, name, salary, subject):\n",
    "        Staff.__init__(self, name, salary)  ##intialization for super() with the parameters\n",
    "        self.subject = subject"
   ]
  },
  {
   "cell_type": "code",
   "execution_count": 5,
   "id": "f4c68753",
   "metadata": {},
   "outputs": [],
   "source": [
    "cool_teacher1= Teacher(\"Bipin Kalra\", 100, 'Python')"
   ]
  },
  {
   "cell_type": "code",
   "execution_count": 6,
   "id": "dede7711",
   "metadata": {},
   "outputs": [
    {
     "data": {
      "text/plain": [
       "'Bipin Kalra'"
      ]
     },
     "execution_count": 6,
     "metadata": {},
     "output_type": "execute_result"
    }
   ],
   "source": [
    "cool_teacher1.name"
   ]
  },
  {
   "cell_type": "code",
   "execution_count": 7,
   "id": "06eb14c0",
   "metadata": {},
   "outputs": [
    {
     "data": {
      "text/plain": [
       "100"
      ]
     },
     "execution_count": 7,
     "metadata": {},
     "output_type": "execute_result"
    }
   ],
   "source": [
    "cool_teacher.salary"
   ]
  },
  {
   "cell_type": "raw",
   "id": "4815dacb",
   "metadata": {},
   "source": [
    "difference b/w super() and the above method\n",
    "super takes away the responsiblity of knowning the exact heirarchy of the class, it is easy to use\n"
   ]
  },
  {
   "cell_type": "markdown",
   "id": "f6f988aa",
   "metadata": {},
   "source": [
    "Now the variables are working\n",
    "so basically, super is essentially telling python to intialize parent class properties\n",
    "\n",
    "Python performs name mangling on private attributes. Every member with a double underscore will be changed to _object._class__variable.\n",
    "\n",
    "below code won't work"
   ]
  },
  {
   "cell_type": "markdown",
   "id": "fc61fecd",
   "metadata": {},
   "source": [
    "## Private"
   ]
  },
  {
   "cell_type": "code",
   "execution_count": 28,
   "id": "2282fb9c",
   "metadata": {},
   "outputs": [
    {
     "ename": "AttributeError",
     "evalue": "'Modifiers' object has no attribute '__private_member'",
     "output_type": "error",
     "traceback": [
      "\u001b[1;31m---------------------------------------------------------------------------\u001b[0m",
      "\u001b[1;31mAttributeError\u001b[0m                            Traceback (most recent call last)",
      "Input \u001b[1;32mIn [28]\u001b[0m, in \u001b[0;36m<cell line: 7>\u001b[1;34m()\u001b[0m\n\u001b[0;32m      4\u001b[0m         \u001b[38;5;28mself\u001b[39m\u001b[38;5;241m.\u001b[39m__private_member \u001b[38;5;241m=\u001b[39m name  \u001b[38;5;66;03m# Private Attribute\u001b[39;00m\n\u001b[0;32m      6\u001b[0m m \u001b[38;5;241m=\u001b[39m Modifiers(\u001b[38;5;124m\"\u001b[39m\u001b[38;5;124mSKAUL05\u001b[39m\u001b[38;5;124m\"\u001b[39m)\n\u001b[1;32m----> 7\u001b[0m \u001b[38;5;28mprint\u001b[39m(\u001b[43mm\u001b[49m\u001b[38;5;241;43m.\u001b[39;49m\u001b[43m__private_member\u001b[49m)\n",
      "\u001b[1;31mAttributeError\u001b[0m: 'Modifiers' object has no attribute '__private_member'"
     ]
    }
   ],
   "source": [
    "class Modifiers:\n",
    "\n",
    "    def __init__(self, name):\n",
    "        self.__private_member = name  # Private Attribute\n",
    "\n",
    "m = Modifiers(\"SKAUL05\")\n",
    "print(m.__private_member)"
   ]
  },
  {
   "cell_type": "markdown",
   "id": "91125393",
   "metadata": {},
   "source": [
    "but using the  _object._class__variable syntax we can work it out"
   ]
  },
  {
   "cell_type": "code",
   "execution_count": 1,
   "id": "4411dc36",
   "metadata": {},
   "outputs": [
    {
     "name": "stdout",
     "output_type": "stream",
     "text": [
      "___________Output_____________\n",
      "SKAUL05\n",
      "Github\n"
     ]
    }
   ],
   "source": [
    "class Modifiers:\n",
    "\n",
    "    def __init__(self, name):\n",
    "        self.__private_member = name  # Private Attribute\n",
    "\n",
    "print(\"___________Output_____________\")\n",
    "m = Modifiers(\"SKAUL05\")\n",
    "print(m._Modifiers__private_member)\n",
    "m._Modifiers__private_member = \"Github\"\n",
    "print(m._Modifiers__private_member) ##-->>m-> class instance, Modifiers-> class name, __private member-> private attribute of class Modifiers"
   ]
  },
  {
   "cell_type": "code",
   "execution_count": null,
   "id": "08a739ad",
   "metadata": {},
   "outputs": [],
   "source": []
  }
 ],
 "metadata": {
  "kernelspec": {
   "display_name": "Python 3 (ipykernel)",
   "language": "python",
   "name": "python3"
  },
  "language_info": {
   "codemirror_mode": {
    "name": "ipython",
    "version": 3
   },
   "file_extension": ".py",
   "mimetype": "text/x-python",
   "name": "python",
   "nbconvert_exporter": "python",
   "pygments_lexer": "ipython3",
   "version": "3.8.12"
  }
 },
 "nbformat": 4,
 "nbformat_minor": 5
}
