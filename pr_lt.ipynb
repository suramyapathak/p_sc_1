{
 "cells": [
  {
   "cell_type": "code",
   "execution_count": null,
   "id": "404114b2",
   "metadata": {},
   "outputs": [],
   "source": [
    "##Committed to GitHub"
   ]
  },
  {
   "cell_type": "code",
   "execution_count": null,
   "id": "56bc53d5",
   "metadata": {},
   "outputs": [],
   "source": [
    "a=5\n",
    "b=5\n",
    "c=0"
   ]
  },
  {
   "cell_type": "code",
   "execution_count": null,
   "id": "b330c91d",
   "metadata": {},
   "outputs": [],
   "source": [
    "for i in range(a):\n",
    "   \n",
    "    for j in range(a):\n",
    "        print(a-c, end='')\n",
    "       \n",
    "    print()"
   ]
  },
  {
   "cell_type": "code",
   "execution_count": null,
   "id": "ecb965fe",
   "metadata": {},
   "outputs": [],
   "source": [
    "int(5/2)"
   ]
  },
  {
   "cell_type": "markdown",
   "id": "6653e5b4",
   "metadata": {},
   "source": [
    "from functools import reduce \n",
    "def func(integers, names, numbers):\n",
    "    '''\n",
    "    input:\n",
    "    integers -> list of integers to perform the square operation on\n",
    "    names -> list of names to filter out as per the condition\n",
    "    numbers -> list of numbers whose product we want\n",
    "    \n",
    "    output:\n",
    "    map_result -> output of integers list\n",
    "    filter_result -> output of the names lsit\n",
    "    reduce_result -> output of the numbers list\n",
    "    '''\n",
    "    map_result, filter_result, reduce_result = None, None, None\n",
    "    \n",
    "    # Your code stars here\n",
    "    \n",
    "    \n",
    "    # Your code ends here\n",
    "    \n",
    "    return map_result, filter_result, reduce_result"
   ]
  },
  {
   "cell_type": "markdown",
   "id": "35ef9d24",
   "metadata": {},
   "source": [
    "Problem Description:\n",
    "\n",
    "In this exercise, complete the function func, which takes integers, names, and numbers as the parameters.\n",
    "\n",
    "a. Use map() to return the list of the squares of each number.\n",
    "\n",
    "b. Use filter() to return the list with only those names that have less than or equal to seven letters.\n",
    "\n",
    "c. Use reduce() to return the product of elements of list numbers.\n",
    "\n",
    "Sample input:\n",
    "\n",
    "4 6 3 9 2 8 12\n",
    "scaler interviewbit rishabh student course\n",
    "4 6 9 23 5\n",
    "\n",
    "Sample output:\n",
    "\n",
    "[16, 36, 9, 81, 4, 64, 144]\n",
    "['scaler', 'rishabh', 'student', 'course']\n",
    "24840\n",
    "\n",
    "Sample Explanation:\n",
    "\n",
    "From the first list (integers), every number is squared and the resultant list [16, 36, 9, 81, 4, 64, 144] is returned. From the second list (names), only words with less than or equal to 7 characters are selected and added to the second resultant list, and ['scaler', 'rishabh', 'student', 'course'] is returned. From the last list (numbers), the product of all the numbers (24840) is returned."
   ]
  },
  {
   "cell_type": "code",
   "execution_count": null,
   "id": "74fc15a4",
   "metadata": {},
   "outputs": [],
   "source": [
    "integers = [4, 6, 3, 9, 2, 8, 12]\n",
    "k=0"
   ]
  },
  {
   "cell_type": "code",
   "execution_count": null,
   "id": "8ad9e7b1",
   "metadata": {},
   "outputs": [],
   "source": [
    "map_result = list(map(lambda x: x*x, integers))"
   ]
  },
  {
   "cell_type": "code",
   "execution_count": null,
   "id": "3ca50303",
   "metadata": {},
   "outputs": [],
   "source": [
    "map_result"
   ]
  },
  {
   "cell_type": "code",
   "execution_count": null,
   "id": "b2d06264",
   "metadata": {},
   "outputs": [],
   "source": [
    "names =['scaler', 'interviewbit', 'rishabh', 'student', 'course']"
   ]
  },
  {
   "cell_type": "code",
   "execution_count": null,
   "id": "a97cf79a",
   "metadata": {},
   "outputs": [],
   "source": [
    "filter_result = list(filter(lambda x: len(x)<8, names))"
   ]
  },
  {
   "cell_type": "code",
   "execution_count": null,
   "id": "652cf955",
   "metadata": {},
   "outputs": [],
   "source": [
    "numbers = [4, 6, 9, 23, 5]"
   ]
  },
  {
   "cell_type": "code",
   "execution_count": null,
   "id": "ea66f60f",
   "metadata": {},
   "outputs": [],
   "source": [
    "from functools import reduce "
   ]
  },
  {
   "cell_type": "code",
   "execution_count": null,
   "id": "8907c32c",
   "metadata": {},
   "outputs": [],
   "source": [
    "reduce_result = reduce(lambda x,y:x*y, numbers)"
   ]
  },
  {
   "cell_type": "code",
   "execution_count": null,
   "id": "d021b790",
   "metadata": {},
   "outputs": [],
   "source": [
    "reduce_result"
   ]
  },
  {
   "cell_type": "code",
   "execution_count": null,
   "id": "fe86e301",
   "metadata": {},
   "outputs": [],
   "source": [
    "map_result = list(map(lambda x: x*x, integers))\n",
    "filter_result = list(filter(lambda x: len(x)<8, names))\n",
    "reduce_result = reduce(lambda x,y:x*y, numbers)"
   ]
  },
  {
   "cell_type": "code",
   "execution_count": null,
   "id": "36ba471b",
   "metadata": {},
   "outputs": [],
   "source": [
    "n=4\n",
    "for i in range(n):\n",
    "    j=i\n",
    "    while j!=0:\n",
    "        print(j)\n",
    "        j=j//2"
   ]
  },
  {
   "cell_type": "code",
   "execution_count": null,
   "id": "b84da1e8",
   "metadata": {},
   "outputs": [],
   "source": [
    "j=3\n",
    "j=j//2"
   ]
  },
  {
   "cell_type": "code",
   "execution_count": null,
   "id": "a15fc846",
   "metadata": {},
   "outputs": [],
   "source": [
    "j"
   ]
  },
  {
   "cell_type": "code",
   "execution_count": null,
   "id": "c2cc4a0b",
   "metadata": {},
   "outputs": [],
   "source": [
    "def count_freq(x, y):\n",
    "    if(y!=1):\n",
    "        if(x!=1):\n",
    "            print(\"*\", x,y)\n",
    "            count_freq(x/2,y)\n",
    "        else:\n",
    "            print(\"#\",y)\n",
    "            y=y-1\n",
    "            count_freq(x,y)"
   ]
  },
  {
   "cell_type": "code",
   "execution_count": null,
   "id": "898de881",
   "metadata": {},
   "outputs": [],
   "source": [
    "count_freq(256, 4)"
   ]
  },
  {
   "cell_type": "code",
   "execution_count": null,
   "id": "54658c34",
   "metadata": {},
   "outputs": [],
   "source": [
    "def fun(n):\n",
    "    if (n > 50):\n",
    "        \n",
    "        return n - 5\n",
    "    \n",
    "    return fun(n+11)\n",
    "    \n",
    "print(fun(45))"
   ]
  },
  {
   "cell_type": "code",
   "execution_count": null,
   "id": "31d21cbc",
   "metadata": {},
   "outputs": [],
   "source": []
  },
  {
   "cell_type": "code",
   "execution_count": null,
   "id": "f42bdd71",
   "metadata": {},
   "outputs": [],
   "source": []
  },
  {
   "cell_type": "code",
   "execution_count": null,
   "id": "09cb5eee",
   "metadata": {},
   "outputs": [],
   "source": []
  },
  {
   "cell_type": "code",
   "execution_count": null,
   "id": "d8279327",
   "metadata": {},
   "outputs": [],
   "source": []
  },
  {
   "cell_type": "code",
   "execution_count": null,
   "id": "02f6db57",
   "metadata": {},
   "outputs": [],
   "source": []
  },
  {
   "cell_type": "code",
   "execution_count": null,
   "id": "7214ce1e",
   "metadata": {},
   "outputs": [],
   "source": []
  },
  {
   "cell_type": "code",
   "execution_count": null,
   "id": "8a1ecd85",
   "metadata": {},
   "outputs": [],
   "source": []
  },
  {
   "cell_type": "code",
   "execution_count": null,
   "id": "8f7ce36a",
   "metadata": {},
   "outputs": [],
   "source": []
  },
  {
   "cell_type": "code",
   "execution_count": null,
   "id": "42a93423",
   "metadata": {},
   "outputs": [],
   "source": []
  },
  {
   "cell_type": "code",
   "execution_count": null,
   "id": "d4188023",
   "metadata": {},
   "outputs": [],
   "source": []
  },
  {
   "cell_type": "code",
   "execution_count": null,
   "id": "2ae9b7a9",
   "metadata": {},
   "outputs": [],
   "source": []
  },
  {
   "cell_type": "code",
   "execution_count": null,
   "id": "5bde30a5",
   "metadata": {},
   "outputs": [],
   "source": [
    "\n",
    "\n"
   ]
  },
  {
   "cell_type": "code",
   "execution_count": null,
   "id": "b8e20c61",
   "metadata": {},
   "outputs": [],
   "source": [
    "\n",
    "    "
   ]
  },
  {
   "cell_type": "code",
   "execution_count": null,
   "id": "2f72f768",
   "metadata": {},
   "outputs": [],
   "source": []
  },
  {
   "cell_type": "code",
   "execution_count": null,
   "id": "dc17334b",
   "metadata": {},
   "outputs": [],
   "source": []
  },
  {
   "cell_type": "code",
   "execution_count": null,
   "id": "d2c0123e",
   "metadata": {},
   "outputs": [],
   "source": []
  },
  {
   "cell_type": "code",
   "execution_count": null,
   "id": "dd716191",
   "metadata": {},
   "outputs": [],
   "source": []
  },
  {
   "cell_type": "code",
   "execution_count": null,
   "id": "d7f02dbc",
   "metadata": {},
   "outputs": [],
   "source": []
  },
  {
   "cell_type": "code",
   "execution_count": null,
   "id": "6d2b267c",
   "metadata": {},
   "outputs": [],
   "source": []
  },
  {
   "cell_type": "code",
   "execution_count": null,
   "id": "ad048444",
   "metadata": {},
   "outputs": [],
   "source": []
  }
 ],
 "metadata": {
  "kernelspec": {
   "display_name": "Python 3 (ipykernel)",
   "language": "python",
   "name": "python3"
  },
  "language_info": {
   "codemirror_mode": {
    "name": "ipython",
    "version": 3
   },
   "file_extension": ".py",
   "mimetype": "text/x-python",
   "name": "python",
   "nbconvert_exporter": "python",
   "pygments_lexer": "ipython3",
   "version": "3.9.12"
  }
 },
 "nbformat": 4,
 "nbformat_minor": 5
}
