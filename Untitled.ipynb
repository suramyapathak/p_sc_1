{
 "cells": [
  {
   "cell_type": "code",
   "execution_count": 1,
   "id": "404114b2",
   "metadata": {},
   "outputs": [],
   "source": [
    "##Committed to GitHub"
   ]
  },
  {
   "cell_type": "code",
   "execution_count": 66,
   "id": "56bc53d5",
   "metadata": {},
   "outputs": [],
   "source": [
    "a=5\n",
    "b=5\n",
    "c=0"
   ]
  },
  {
   "cell_type": "code",
   "execution_count": 67,
   "id": "b330c91d",
   "metadata": {},
   "outputs": [
    {
     "name": "stdout",
     "output_type": "stream",
     "text": [
      "55555\n",
      "44444\n",
      "33333\n",
      "44444\n",
      "33333\n"
     ]
    }
   ],
   "source": [
    "for i in range(a):\n",
    "   \n",
    "    for j in range(a):\n",
    "        print(a-c, end='')\n",
    "       \n",
    "    print()"
   ]
  },
  {
   "cell_type": "code",
   "execution_count": 54,
   "id": "ecb965fe",
   "metadata": {},
   "outputs": [
    {
     "data": {
      "text/plain": [
       "2"
      ]
     },
     "execution_count": 54,
     "metadata": {},
     "output_type": "execute_result"
    }
   ],
   "source": [
    "int(5/2)"
   ]
  },
  {
   "cell_type": "markdown",
   "id": "ea794ac7",
   "metadata": {},
   "source": [
    "from functools import reduce \n",
    "def func(integers, names, numbers):\n",
    "    '''\n",
    "    input:\n",
    "    integers -> list of integers to perform the square operation on\n",
    "    names -> list of names to filter out as per the condition\n",
    "    numbers -> list of numbers whose product we want\n",
    "    \n",
    "    output:\n",
    "    map_result -> output of integers list\n",
    "    filter_result -> output of the names lsit\n",
    "    reduce_result -> output of the numbers list\n",
    "    '''\n",
    "    map_result, filter_result, reduce_result = None, None, None\n",
    "    \n",
    "    # Your code stars here\n",
    "    \n",
    "    \n",
    "    # Your code ends here\n",
    "    \n",
    "    return map_result, filter_result, reduce_result"
   ]
  },
  {
   "cell_type": "markdown",
   "id": "6c168ef7",
   "metadata": {},
   "source": [
    "Problem Description:\n",
    "\n",
    "In this exercise, complete the function func, which takes integers, names, and numbers as the parameters.\n",
    "\n",
    "a. Use map() to return the list of the squares of each number.\n",
    "\n",
    "b. Use filter() to return the list with only those names that have less than or equal to seven letters.\n",
    "\n",
    "c. Use reduce() to return the product of elements of list numbers.\n",
    "\n",
    "Sample input:\n",
    "\n",
    "4 6 3 9 2 8 12\n",
    "scaler interviewbit rishabh student course\n",
    "4 6 9 23 5\n",
    "\n",
    "Sample output:\n",
    "\n",
    "[16, 36, 9, 81, 4, 64, 144]\n",
    "['scaler', 'rishabh', 'student', 'course']\n",
    "24840\n",
    "\n",
    "Sample Explanation:\n",
    "\n",
    "From the first list (integers), every number is squared and the resultant list [16, 36, 9, 81, 4, 64, 144] is returned. From the second list (names), only words with less than or equal to 7 characters are selected and added to the second resultant list, and ['scaler', 'rishabh', 'student', 'course'] is returned. From the last list (numbers), the product of all the numbers (24840) is returned."
   ]
  },
  {
   "cell_type": "code",
   "execution_count": 4,
   "id": "2b9fa774",
   "metadata": {},
   "outputs": [],
   "source": [
    "integers = [4, 6, 3, 9, 2, 8, 12]\n",
    "k=0"
   ]
  },
  {
   "cell_type": "code",
   "execution_count": 5,
   "id": "2c05c6de",
   "metadata": {},
   "outputs": [
    {
     "ename": "TypeError",
     "evalue": "map() must have at least two arguments.",
     "output_type": "error",
     "traceback": [
      "\u001b[1;31m---------------------------------------------------------------------------\u001b[0m",
      "\u001b[1;31mTypeError\u001b[0m                                 Traceback (most recent call last)",
      "Input \u001b[1;32mIn [5]\u001b[0m, in \u001b[0;36m<cell line: 1>\u001b[1;34m()\u001b[0m\n\u001b[1;32m----> 1\u001b[0m \u001b[38;5;28;43mmap\u001b[39;49m\u001b[43m(\u001b[49m\u001b[38;5;28;43;01mlambda\u001b[39;49;00m\u001b[43m \u001b[49m\u001b[43mk\u001b[49m\u001b[43m:\u001b[49m\u001b[43mintegers\u001b[49m\u001b[38;5;241;43m*\u001b[39;49m\u001b[43mintegers\u001b[49m\u001b[43m)\u001b[49m\n",
      "\u001b[1;31mTypeError\u001b[0m: map() must have at least two arguments."
     ]
    }
   ],
   "source": [
    "map(lambda k:in)"
   ]
  },
  {
   "cell_type": "code",
   "execution_count": null,
   "id": "fdc4f5fe",
   "metadata": {},
   "outputs": [],
   "source": []
  }
 ],
 "metadata": {
  "kernelspec": {
   "display_name": "Python 3 (ipykernel)",
   "language": "python",
   "name": "python3"
  },
  "language_info": {
   "codemirror_mode": {
    "name": "ipython",
    "version": 3
   },
   "file_extension": ".py",
   "mimetype": "text/x-python",
   "name": "python",
   "nbconvert_exporter": "python",
   "pygments_lexer": "ipython3",
   "version": "3.8.12"
  }
 },
 "nbformat": 4,
 "nbformat_minor": 5
}
