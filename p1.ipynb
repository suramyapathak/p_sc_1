{
  "cells": [
    {
      "cell_type": "code",
      "execution_count": null,
      "id": "404114b2",
      "metadata": {
        "id": "404114b2"
      },
      "outputs": [],
      "source": [
        "##Committed to GitHub"
      ]
    },
    {
      "cell_type": "code",
      "execution_count": 4,
      "id": "56bc53d5",
      "metadata": {
        "id": "56bc53d5"
      },
      "outputs": [],
      "source": [
        "## First commit"
      ]
    },
    {
      "cell_type": "code",
      "source": [
        ""
      ],
      "metadata": {
        "id": "jMLNnm-qzWRr"
      },
      "id": "jMLNnm-qzWRr",
      "execution_count": null,
      "outputs": []
    }
  ],
  "metadata": {
    "kernelspec": {
      "display_name": "Python 3 (ipykernel)",
      "language": "python",
      "name": "python3"
    },
    "language_info": {
      "codemirror_mode": {
        "name": "ipython",
        "version": 3
      },
      "file_extension": ".py",
      "mimetype": "text/x-python",
      "name": "python",
      "nbconvert_exporter": "python",
      "pygments_lexer": "ipython3",
      "version": "3.8.12"
    },
    "colab": {
      "name": "Untitled.ipynb",
      "provenance": []
    }
  },
  "nbformat": 4,
  "nbformat_minor": 5
}