{
 "cells": [
  {
   "cell_type": "code",
   "execution_count": 1,
   "id": "e965d330",
   "metadata": {},
   "outputs": [],
   "source": [
    "a=5\n",
    "b=5"
   ]
  },
  {
   "cell_type": "code",
   "execution_count": 2,
   "id": "3757a337",
   "metadata": {},
   "outputs": [
    {
     "data": {
      "text/plain": [
       "1926127446448"
      ]
     },
     "execution_count": 2,
     "metadata": {},
     "output_type": "execute_result"
    }
   ],
   "source": [
    "id(a)"
   ]
  },
  {
   "cell_type": "code",
   "execution_count": 3,
   "id": "277dcdcd",
   "metadata": {},
   "outputs": [
    {
     "data": {
      "text/plain": [
       "1926127446448"
      ]
     },
     "execution_count": 3,
     "metadata": {},
     "output_type": "execute_result"
    }
   ],
   "source": [
    "id(b)"
   ]
  },
  {
   "cell_type": "markdown",
   "id": "adc33114",
   "metadata": {},
   "source": [
    "def second_lowest(students, scores):\n",
    "    '''\n",
    "    input:\n",
    "    students -> a list of students\n",
    "    scores -> list of the scores, with each score being that of the ith student\n",
    "    \n",
    "    output:\n",
    "    student_data -> 2d list of data, with each inner list having name of student as 1st and score of 2nd as second element respectively\n",
    "    second_low_score -> the second lowest score\n",
    "    second_names -> list of students with score same as second lowest score, in the same order as in the students list\n",
    "    '''\n",
    "    \n",
    "    student_data, second_low_score, second_names = None, None, None\n",
    "    \n",
    "    # Your code starts here\n",
    "    \n",
    "    \n",
    "    # Your code ends here\n",
    "    return student_data, second_low_score, second_names"
   ]
  },
  {
   "cell_type": "code",
   "execution_count": 25,
   "id": "2028e65d",
   "metadata": {},
   "outputs": [],
   "source": [
    "students = ['S ROY','B BOSE','N KAR','C DUTTA','G GHOSH' ]           \n",
    "scores = [1,2,2,5,3]"
   ]
  },
  {
   "cell_type": "code",
   "execution_count": 10,
   "id": "86f6a33f",
   "metadata": {},
   "outputs": [
    {
     "data": {
      "text/plain": [
       "[['S ROY', 1], ['B BOSE', 3], ['N KAR', 2], ['C DUTTA', 1], ['G GHOSH', 1]]"
      ]
     },
     "execution_count": 10,
     "metadata": {},
     "output_type": "execute_result"
    }
   ],
   "source": [
    "student_data =[]\n",
    "for a in zip(students, scores):\n",
    "    student_data.append(list(a))\n",
    "student_data"
   ]
  },
  {
   "cell_type": "code",
   "execution_count": null,
   "id": "436de2fc",
   "metadata": {},
   "outputs": [],
   "source": [
    "[(lambda x,y: x-y if x>y else y-x)(x,y) for x,y in zip(v1,v2)]"
   ]
  },
  {
   "cell_type": "code",
   "execution_count": 29,
   "id": "ef60c9c4",
   "metadata": {},
   "outputs": [],
   "source": [
    "\n",
    "\n"
   ]
  },
  {
   "cell_type": "code",
   "execution_count": 37,
   "id": "a0aac17f",
   "metadata": {},
   "outputs": [
    {
     "ename": "SyntaxError",
     "evalue": "invalid syntax (1271324687.py, line 3)",
     "output_type": "error",
     "traceback": [
      "\u001b[1;36m  Input \u001b[1;32mIn [37]\u001b[1;36m\u001b[0m\n\u001b[1;33m    student_data.sort(key=[:,1])\u001b[0m\n\u001b[1;37m                           ^\u001b[0m\n\u001b[1;31mSyntaxError\u001b[0m\u001b[1;31m:\u001b[0m invalid syntax\n"
     ]
    }
   ],
   "source": [
    "k=100\n",
    "l=100\n",
    "student_data.sort(key=[:,1])\n",
    "    \n",
    "    "
   ]
  },
  {
   "cell_type": "markdown",
   "id": "b5170201",
   "metadata": {},
   "source": []
  },
  {
   "cell_type": "code",
   "execution_count": 57,
   "id": "67a810eb",
   "metadata": {},
   "outputs": [
    {
     "data": {
      "text/plain": [
       "[['C DUTTA', 1], ['G GHOSH', 1], ['S ROY', 1], ['N KAR', 2], ['B BOSE', 3]]"
      ]
     },
     "execution_count": 57,
     "metadata": {},
     "output_type": "execute_result"
    }
   ],
   "source": [
    "student_data"
   ]
  },
  {
   "cell_type": "code",
   "execution_count": 115,
   "id": "b0cd3fcf",
   "metadata": {},
   "outputs": [],
   "source": [
    "scores=list(map(float,scores))\n",
    "student_data = [(lambda  x:x) (list(x)) for x in zip(students, scores)]\n",
    "pl=sorted(student_data,key= lambda x:x[1])\n",
    "k=student_data[0][1]\n",
    "\n",
    "for x in pl:\n",
    "    if x[1]>k:\n",
    "        second_low_score=float(x[1])\n",
    "        second_names=str(x[0])\n",
    "        break\n",
    "\n"
   ]
  },
  {
   "cell_type": "code",
   "execution_count": 95,
   "id": "caabc86a",
   "metadata": {},
   "outputs": [
    {
     "data": {
      "text/plain": [
       "[1.0, 3.0, 2.0, 1.0, 1.0]"
      ]
     },
     "execution_count": 95,
     "metadata": {},
     "output_type": "execute_result"
    }
   ],
   "source": [
    "scores"
   ]
  },
  {
   "cell_type": "code",
   "execution_count": 164,
   "id": "09b466ae",
   "metadata": {},
   "outputs": [
    {
     "name": "stdout",
     "output_type": "stream",
     "text": [
      "[['S ROY', 4.0], ['B BOSE', 3.0], ['N KAR', 2.0], ['C DUTTA', 5.0], ['G GHOSH', 3.0]] 5.0 ['C DUTTA']\n"
     ]
    }
   ],
   "source": [
    "print(student_data,second_low_score, second_names)"
   ]
  },
  {
   "cell_type": "code",
   "execution_count": 37,
   "id": "1622a15a",
   "metadata": {},
   "outputs": [],
   "source": [
    "second_low_score, second_names=[],[]"
   ]
  },
  {
   "cell_type": "code",
   "execution_count": 38,
   "id": "427d8fff",
   "metadata": {},
   "outputs": [
    {
     "name": "stdout",
     "output_type": "stream",
     "text": [
      "[['S ROY', 1.0], ['B BOSE', 2.0], ['N KAR', 2.0], ['C DUTTA', 5.0], ['G GHOSH', 3.0]] 2.0 ['B BOSE', 'N KAR']\n"
     ]
    }
   ],
   "source": [
    "second_low_score=[]\n",
    "l=0\n",
    "scores=list(map(float,scores))\n",
    "student_data = [(lambda  x:x) (list(x)) for x in zip(students, scores)]\n",
    "second_low_score=list(set(scores))[1]\n",
    "\n",
    "for a in student_data:\n",
    "    if a[1]==second_low_score:\n",
    "        second_names.append(a[0])\n",
    "\n",
    "\n",
    "        \n",
    "\n",
    "        \n",
    "print(student_data,second_low_score, second_names)"
   ]
  },
  {
   "cell_type": "code",
   "execution_count": 188,
   "id": "7605c2fa",
   "metadata": {},
   "outputs": [
    {
     "name": "stdout",
     "output_type": "stream",
     "text": [
      "B BOSE\n",
      "G GHOSH\n"
     ]
    }
   ],
   "source": [
    "for a in second_names:\n",
    "    print(a)"
   ]
  },
  {
   "cell_type": "code",
   "execution_count": 39,
   "id": "378e9bb9",
   "metadata": {},
   "outputs": [
    {
     "data": {
      "text/plain": [
       "float"
      ]
     },
     "execution_count": 39,
     "metadata": {},
     "output_type": "execute_result"
    }
   ],
   "source": [
    "type(second_low_score)"
   ]
  },
  {
   "cell_type": "code",
   "execution_count": 19,
   "id": "f37b105a",
   "metadata": {},
   "outputs": [
    {
     "data": {
      "text/plain": [
       "{1.0, 2.0, 3.0, 5.0}"
      ]
     },
     "execution_count": 19,
     "metadata": {},
     "output_type": "execute_result"
    }
   ],
   "source": [
    "set(scores)"
   ]
  },
  {
   "cell_type": "code",
   "execution_count": 24,
   "id": "27285af7",
   "metadata": {},
   "outputs": [
    {
     "data": {
      "text/plain": [
       "'N KAR'"
      ]
     },
     "execution_count": 24,
     "metadata": {},
     "output_type": "execute_result"
    }
   ],
   "source": []
  },
  {
   "cell_type": "code",
   "execution_count": 110,
   "id": "05b80ff0",
   "metadata": {},
   "outputs": [],
   "source": [
    "def count_unique_words(inp):\n",
    "    ans = 0\n",
    "    arr = list(inp.split())\n",
    "    for word in arr:\n",
    "        arr2=[]\n",
    "    if len(tuple(word)) == len(word) and len(word) > 3:\n",
    "        ans += 1\n",
    "    return ans"
   ]
  },
  {
   "cell_type": "code",
   "execution_count": 113,
   "id": "12c5be05",
   "metadata": {},
   "outputs": [
    {
     "data": {
      "text/plain": [
       "1"
      ]
     },
     "execution_count": 113,
     "metadata": {},
     "output_type": "execute_result"
    }
   ],
   "source": [
    "count_unique_words('platteu')"
   ]
  },
  {
   "cell_type": "code",
   "execution_count": 12,
   "id": "6d9c9118",
   "metadata": {},
   "outputs": [],
   "source": [
    "def most_frequent(List):\n",
    "\n",
    "    total=0\n",
    "    result= List[0]\n",
    "    for i in List:\n",
    "        curr_frequency = List.count(i)\n",
    "        if (curr_frequency > total):\n",
    "            total =curr_frequency\n",
    "            result = i\n",
    "\n",
    "    return(result)"
   ]
  },
  {
   "cell_type": "code",
   "execution_count": 13,
   "id": "d9d9f266",
   "metadata": {},
   "outputs": [
    {
     "data": {
      "text/plain": [
       "2"
      ]
     },
     "execution_count": 13,
     "metadata": {},
     "output_type": "execute_result"
    }
   ],
   "source": [
    "most_frequent(l1)"
   ]
  },
  {
   "cell_type": "code",
   "execution_count": 6,
   "id": "1e839d98",
   "metadata": {},
   "outputs": [],
   "source": [
    "l1 = [2,3,4,5,3,2]"
   ]
  },
  {
   "cell_type": "code",
   "execution_count": 8,
   "id": "45a6c704",
   "metadata": {},
   "outputs": [],
   "source": [
    "reversed?\n"
   ]
  },
  {
   "cell_type": "code",
   "execution_count": null,
   "id": "7d47039c",
   "metadata": {},
   "outputs": [],
   "source": []
  }
 ],
 "metadata": {
  "kernelspec": {
   "display_name": "Python 3 (ipykernel)",
   "language": "python",
   "name": "python3"
  },
  "language_info": {
   "codemirror_mode": {
    "name": "ipython",
    "version": 3
   },
   "file_extension": ".py",
   "mimetype": "text/x-python",
   "name": "python",
   "nbconvert_exporter": "python",
   "pygments_lexer": "ipython3",
   "version": "3.9.12"
  }
 },
 "nbformat": 4,
 "nbformat_minor": 5
}
