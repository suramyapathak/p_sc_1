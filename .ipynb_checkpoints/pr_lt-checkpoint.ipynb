{
 "cells": [
  {
   "cell_type": "code",
   "execution_count": 1,
   "id": "404114b2",
   "metadata": {},
   "outputs": [],
   "source": [
    "##Committed to GitHub"
   ]
  },
  {
   "cell_type": "code",
   "execution_count": 66,
   "id": "56bc53d5",
   "metadata": {},
   "outputs": [],
   "source": [
    "a=5\n",
    "b=5\n",
    "c=0"
   ]
  },
  {
   "cell_type": "code",
   "execution_count": 67,
   "id": "b330c91d",
   "metadata": {},
   "outputs": [
    {
     "name": "stdout",
     "output_type": "stream",
     "text": [
      "55555\n",
      "44444\n",
      "33333\n",
      "44444\n",
      "33333\n"
     ]
    }
   ],
   "source": [
    "for i in range(a):\n",
    "   \n",
    "    for j in range(a):\n",
    "        print(a-c, end='')\n",
    "       \n",
    "    print()"
   ]
  },
  {
   "cell_type": "code",
   "execution_count": 54,
   "id": "ecb965fe",
   "metadata": {},
   "outputs": [
    {
     "data": {
      "text/plain": [
       "2"
      ]
     },
     "execution_count": 54,
     "metadata": {},
     "output_type": "execute_result"
    }
   ],
   "source": [
    "int(5/2)"
   ]
  },
  {
   "cell_type": "markdown",
   "id": "6653e5b4",
   "metadata": {},
   "source": [
    "from functools import reduce \n",
    "def func(integers, names, numbers):\n",
    "    '''\n",
    "    input:\n",
    "    integers -> list of integers to perform the square operation on\n",
    "    names -> list of names to filter out as per the condition\n",
    "    numbers -> list of numbers whose product we want\n",
    "    \n",
    "    output:\n",
    "    map_result -> output of integers list\n",
    "    filter_result -> output of the names lsit\n",
    "    reduce_result -> output of the numbers list\n",
    "    '''\n",
    "    map_result, filter_result, reduce_result = None, None, None\n",
    "    \n",
    "    # Your code stars here\n",
    "    \n",
    "    \n",
    "    # Your code ends here\n",
    "    \n",
    "    return map_result, filter_result, reduce_result"
   ]
  },
  {
   "cell_type": "markdown",
   "id": "35ef9d24",
   "metadata": {},
   "source": [
    "Problem Description:\n",
    "\n",
    "In this exercise, complete the function func, which takes integers, names, and numbers as the parameters.\n",
    "\n",
    "a. Use map() to return the list of the squares of each number.\n",
    "\n",
    "b. Use filter() to return the list with only those names that have less than or equal to seven letters.\n",
    "\n",
    "c. Use reduce() to return the product of elements of list numbers.\n",
    "\n",
    "Sample input:\n",
    "\n",
    "4 6 3 9 2 8 12\n",
    "scaler interviewbit rishabh student course\n",
    "4 6 9 23 5\n",
    "\n",
    "Sample output:\n",
    "\n",
    "[16, 36, 9, 81, 4, 64, 144]\n",
    "['scaler', 'rishabh', 'student', 'course']\n",
    "24840\n",
    "\n",
    "Sample Explanation:\n",
    "\n",
    "From the first list (integers), every number is squared and the resultant list [16, 36, 9, 81, 4, 64, 144] is returned. From the second list (names), only words with less than or equal to 7 characters are selected and added to the second resultant list, and ['scaler', 'rishabh', 'student', 'course'] is returned. From the last list (numbers), the product of all the numbers (24840) is returned."
   ]
  },
  {
   "cell_type": "code",
   "execution_count": 4,
   "id": "74fc15a4",
   "metadata": {},
   "outputs": [],
   "source": [
    "integers = [4, 6, 3, 9, 2, 8, 12]\n",
    "k=0"
   ]
  },
  {
   "cell_type": "code",
   "execution_count": 9,
   "id": "8ad9e7b1",
   "metadata": {},
   "outputs": [],
   "source": [
    "map_result = list(map(lambda x: x*x, integers))"
   ]
  },
  {
   "cell_type": "code",
   "execution_count": 10,
   "id": "3ca50303",
   "metadata": {},
   "outputs": [
    {
     "data": {
      "text/plain": [
       "[16, 36, 9, 81, 4, 64, 144]"
      ]
     },
     "execution_count": 10,
     "metadata": {},
     "output_type": "execute_result"
    }
   ],
   "source": [
    "map_result"
   ]
  },
  {
   "cell_type": "code",
   "execution_count": 12,
   "id": "b2d06264",
   "metadata": {},
   "outputs": [],
   "source": [
    "names =['scaler', 'interviewbit', 'rishabh', 'student', 'course']"
   ]
  },
  {
   "cell_type": "code",
   "execution_count": 13,
   "id": "a97cf79a",
   "metadata": {},
   "outputs": [
    {
     "data": {
      "text/plain": [
       "['scaler', 'rishabh', 'student', 'course']"
      ]
     },
     "execution_count": 13,
     "metadata": {},
     "output_type": "execute_result"
    }
   ],
   "source": [
    "filter_result = list(filter(lambda x: len(x)<8, names))"
   ]
  },
  {
   "cell_type": "code",
   "execution_count": 14,
   "id": "652cf955",
   "metadata": {},
   "outputs": [],
   "source": [
    "numbers = [4, 6, 9, 23, 5]"
   ]
  },
  {
   "cell_type": "code",
   "execution_count": 18,
   "id": "ea66f60f",
   "metadata": {},
   "outputs": [],
   "source": [
    "from functools import reduce "
   ]
  },
  {
   "cell_type": "code",
   "execution_count": 19,
   "id": "8907c32c",
   "metadata": {},
   "outputs": [],
   "source": [
    "reduce_result = reduce(lambda x,y:x*y, numbers)"
   ]
  },
  {
   "cell_type": "code",
   "execution_count": 20,
   "id": "d021b790",
   "metadata": {},
   "outputs": [
    {
     "data": {
      "text/plain": [
       "24840"
      ]
     },
     "execution_count": 20,
     "metadata": {},
     "output_type": "execute_result"
    }
   ],
   "source": [
    "reduce_result"
   ]
  },
  {
   "cell_type": "code",
   "execution_count": null,
   "id": "fe86e301",
   "metadata": {},
   "outputs": [],
   "source": [
    "map_result = list(map(lambda x: x*x, integers))\n",
    "filter_result = list(filter(lambda x: len(x)<8, names))\n",
    "reduce_result = reduce(lambda x,y:x*y, numbers)"
   ]
  },
  {
   "cell_type": "code",
   "execution_count": 31,
   "id": "36ba471b",
   "metadata": {},
   "outputs": [
    {
     "name": "stdout",
     "output_type": "stream",
     "text": [
      "1\n",
      "2\n",
      "1\n",
      "3\n",
      "1\n"
     ]
    }
   ],
   "source": [
    "n=4\n",
    "for i in range(n):\n",
    "    j=i\n",
    "    while j!=0:\n",
    "        print(j)\n",
    "        j=j//2"
   ]
  },
  {
   "cell_type": "code",
   "execution_count": 11,
   "id": "b84da1e8",
   "metadata": {},
   "outputs": [],
   "source": [
    "j=3\n",
    "j=j//2"
   ]
  },
  {
   "cell_type": "code",
   "execution_count": 12,
   "id": "a15fc846",
   "metadata": {},
   "outputs": [
    {
     "data": {
      "text/plain": [
       "1"
      ]
     },
     "execution_count": 12,
     "metadata": {},
     "output_type": "execute_result"
    }
   ],
   "source": [
    "j"
   ]
  },
  {
   "cell_type": "code",
   "execution_count": 38,
   "id": "c2cc4a0b",
   "metadata": {},
   "outputs": [],
   "source": [
    "def count_freq(x, y):\n",
    "    if(y!=1):\n",
    "        if(x!=1):\n",
    "            print(\"*\", x,y)\n",
    "            count_freq(x/2,y)\n",
    "        else:\n",
    "            print(\"#\",y)\n",
    "            y=y-1\n",
    "            count_freq(x,y)"
   ]
  },
  {
   "cell_type": "code",
   "execution_count": 39,
   "id": "898de881",
   "metadata": {},
   "outputs": [
    {
     "name": "stdout",
     "output_type": "stream",
     "text": [
      "* 256 4\n",
      "* 128.0 4\n",
      "* 64.0 4\n",
      "* 32.0 4\n",
      "* 16.0 4\n",
      "* 8.0 4\n",
      "* 4.0 4\n",
      "* 2.0 4\n",
      "# 4\n",
      "# 3\n",
      "# 2\n"
     ]
    }
   ],
   "source": [
    "count_freq(256, 4)"
   ]
  },
  {
   "cell_type": "code",
   "execution_count": 48,
   "id": "54658c34",
   "metadata": {},
   "outputs": [
    {
     "name": "stdout",
     "output_type": "stream",
     "text": [
      "51\n"
     ]
    }
   ],
   "source": [
    "def fun(n):\n",
    "    if (n > 50):\n",
    "        \n",
    "        return n - 5\n",
    "    \n",
    "    return fun(n+11)\n",
    "    \n",
    "print(fun(45))"
   ]
  },
  {
   "cell_type": "code",
   "execution_count": 49,
   "id": "31d21cbc",
   "metadata": {},
   "outputs": [
    {
     "data": {
      "text/plain": [
       "(0, -7)"
      ]
     },
     "execution_count": 49,
     "metadata": {},
     "output_type": "execute_result"
    }
   ],
   "source": [
    "8,10\n",
    "10,3\n",
    "3,5\n",
    "5,-2\n",
    "-2,0\n",
    "0,-7"
   ]
  },
  {
   "cell_type": "code",
   "execution_count": 51,
   "id": "f42bdd71",
   "metadata": {},
   "outputs": [],
   "source": [
    "def power_of_3(n):\n",
    "    '''\n",
    "    input:\n",
    "    n -> an integer\n",
    "    output:\n",
    "    True or False -> depending on whether the number is power of n or not\n",
    "    '''\n",
    "    \n",
    "    # Your code starts here\n",
    "    if(n!=0): \n",
    "        \n",
    "        n=int(input)\n",
    "        if (n%3==0):\n",
    "            print(True)\n",
    "        else:\n",
    "            print(False)\n",
    "    \n",
    "    # Your code ends here"
   ]
  },
  {
   "cell_type": "code",
   "execution_count": 6,
   "id": "09cb5eee",
   "metadata": {},
   "outputs": [],
   "source": [
    "def power_of_3(n):\n",
    "    '''\n",
    "    input:\n",
    "    n -> an integer\n",
    "    output:\n",
    "    True or False -> depending on whether the number is power of n or not\n",
    "    '''\n",
    "    \n",
    "    # Your code starts here\n",
    "\n",
    "    if (n%3==0):\n",
    "        return True\n",
    "    else:\n",
    "        return False\n",
    "\n",
    "    # Your code ends here"
   ]
  },
  {
   "cell_type": "code",
   "execution_count": 7,
   "id": "d8279327",
   "metadata": {},
   "outputs": [
    {
     "data": {
      "text/plain": [
       "False"
      ]
     },
     "execution_count": 7,
     "metadata": {},
     "output_type": "execute_result"
    }
   ],
   "source": [
    "power_of_3(26761)"
   ]
  },
  {
   "cell_type": "code",
   "execution_count": 9,
   "id": "02f6db57",
   "metadata": {},
   "outputs": [],
   "source": [
    "def power_of_3(n):\n",
    "    \n",
    "    '''\n",
    "    input:\n",
    "    n -> an integer\n",
    "    output:\n",
    "    True or False -> depending on whether the number is power of n or not\n",
    "    '''\n",
    "    \n",
    "    # Your code starts here\n",
    "    if (n==3):\n",
    "        return True\n",
    "\n",
    "    if (n == 0) or (n % 3 != 0) :\n",
    "        return False\n",
    "          \n",
    "    return power_of_3(n/3)\n",
    "    \n",
    "    \n",
    "    \n",
    "    \n",
    "    \n",
    "    # Your code ends here"
   ]
  },
  {
   "cell_type": "code",
   "execution_count": 11,
   "id": "7214ce1e",
   "metadata": {},
   "outputs": [
    {
     "data": {
      "text/plain": [
       "False"
      ]
     },
     "execution_count": 11,
     "metadata": {},
     "output_type": "execute_result"
    }
   ],
   "source": [
    "power_of_3(44295)"
   ]
  },
  {
   "cell_type": "code",
   "execution_count": null,
   "id": "8a1ecd85",
   "metadata": {},
   "outputs": [],
   "source": []
  },
  {
   "cell_type": "code",
   "execution_count": 42,
   "id": "8f7ce36a",
   "metadata": {},
   "outputs": [],
   "source": [
    "def number_of_1s(num, left, right):\n",
    "    '''\n",
    "    input:\n",
    "    num -> binary number in string format\n",
    "    left -> initially 0, pointing to left index\n",
    "    right -> initially len(num) - 1, pointing to right index\n",
    "    output:\n",
    "    count of number of 1s in the string\n",
    "    '''\n",
    "    # Your code starts here\n",
    "    \n",
    "    if int(num)==0:\n",
    "        return 0\n",
    "    counter =0\n",
    "    while left<=right:\n",
    "        \n",
    "        mid=int((left+right)/2)\n",
    "        print(left, mid, right)\n",
    "        if num[mid]=='0':\n",
    "            left=mid+1\n",
    "            \n",
    "        elif num[mid]=='1':\n",
    "            if (num[left]=='1') and (num[left-1]=='0' or left==0):\n",
    "                return (right-left+1)\n",
    "                \n",
    "            if num[mid-1]=='0':\n",
    "                left=mid\n",
    "            if left==0 and num[left]!=1:\n",
    "                if (mid-left==1):\n",
    "                    left = mid \n",
    "            if num[left]=='0':\n",
    "                left=left+1\n",
    "                \n",
    "        counter+=1\n",
    "        if counter>=20:\n",
    "            print(num)\n",
    "            break\n",
    "            \n",
    "            \n",
    "                \n",
    "        \n",
    "    # Your code ends here"
   ]
  },
  {
   "cell_type": "code",
   "execution_count": 45,
   "id": "42a93423",
   "metadata": {},
   "outputs": [
    {
     "name": "stdout",
     "output_type": "stream",
     "text": [
      "0 3 6\n",
      "o\n",
      "1 3 6\n"
     ]
    },
    {
     "data": {
      "text/plain": [
       "6"
      ]
     },
     "execution_count": 45,
     "metadata": {},
     "output_type": "execute_result"
    }
   ],
   "source": [
    "\n",
    "s=\"0111111\"\n",
    "\n",
    "number_of_1s(s, 0,len(s)-1)"
   ]
  },
  {
   "cell_type": "code",
   "execution_count": 18,
   "id": "d4188023",
   "metadata": {},
   "outputs": [
    {
     "data": {
      "text/plain": [
       "['two']"
      ]
     },
     "execution_count": 18,
     "metadata": {},
     "output_type": "execute_result"
    }
   ],
   "source": [
    "string=\"two\"\n",
    "string.split()"
   ]
  },
  {
   "cell_type": "code",
   "execution_count": 2,
   "id": "2ae9b7a9",
   "metadata": {},
   "outputs": [
    {
     "data": {
      "text/plain": [
       "'t'"
      ]
     },
     "execution_count": 2,
     "metadata": {},
     "output_type": "execute_result"
    }
   ],
   "source": [
    "string[0]"
   ]
  },
  {
   "cell_type": "code",
   "execution_count": 75,
   "id": "5bde30a5",
   "metadata": {},
   "outputs": [],
   "source": [
    "s1='LUUFO'\n",
    "s2='IJZJX'\n",
    "s3='hello'\n",
    "s4='cahho'\n",
    "\n"
   ]
  },
  {
   "cell_type": "code",
   "execution_count": 84,
   "id": "b8e20c61",
   "metadata": {},
   "outputs": [],
   "source": [
    "def isIsomorphic(s1, s2):\n",
    "    '''\n",
    "    input:\n",
    "    s1 -> the first string \n",
    "    s2 -> the second string\n",
    "    \n",
    "    output:\n",
    "    True or False -> return True of False boolean values based on whether the two strings are isomorphic or not\n",
    "    '''\n",
    "    \n",
    "    if(len(s1)!=len(s2)):\n",
    "        return False\n",
    "    \n",
    "\n",
    "    \n",
    "    string1, string2 =dict(), dict()\n",
    "    list1, list2=[],[]\n",
    "    \n",
    "    for a,b in zip(s1,s2):\n",
    "        if a in string1:\n",
    "            string1[a]+=1\n",
    "        else:\n",
    "            string1[a]=1\n",
    "        \n",
    "        if b in string2:\n",
    "            string2[b]+=1\n",
    "        else:\n",
    "            string2[b]=1\n",
    "    \n",
    "    \n",
    "\n",
    "    for a,b in zip(string1, string2):\n",
    "        list1.append(string1[a])\n",
    "        list2.append(string2[b])\n",
    "    print(list1, list2)\n",
    "    \n",
    "    \n",
    "    if list1==list2:\n",
    "        return True\n",
    "    else:\n",
    "        return False\n",
    "    \n",
    "    "
   ]
  },
  {
   "cell_type": "code",
   "execution_count": 85,
   "id": "2f72f768",
   "metadata": {},
   "outputs": [
    {
     "name": "stdout",
     "output_type": "stream",
     "text": [
      "{'L': 1, 'U': 2, 'F': 1, 'O': 1} {'I': 1, 'J': 2, 'Z': 1, 'X': 1}\n",
      "[1, 2, 1, 1] [1, 2, 1, 1]\n"
     ]
    },
    {
     "data": {
      "text/plain": [
       "True"
      ]
     },
     "execution_count": 85,
     "metadata": {},
     "output_type": "execute_result"
    }
   ],
   "source": [
    "isIsomorphic(s1, s2)"
   ]
  },
  {
   "cell_type": "code",
   "execution_count": 106,
   "id": "dc17334b",
   "metadata": {},
   "outputs": [
    {
     "name": "stdout",
     "output_type": "stream",
     "text": [
      "{'L': 1, 'U': 2, 'F': 3, 'O': 4} {'I': 1, 'J': 2, 'Z': 3, 'X': 4}\n",
      "12234 12324\n"
     ]
    }
   ],
   "source": [
    "\n",
    "\n",
    "    \n",
    "string1, string2 =dict(), dict()\n",
    "list1, list2=[],[]\n",
    "counter1=1\n",
    "counter2=1\n",
    "\n",
    "for a,b in zip(s1,s2):\n",
    "    if a not in string1:\n",
    "        string1[a]=counter1\n",
    "        counter1+=1\n",
    "    if b not in string2:\n",
    "        string2[b]=counter2\n",
    "        counter2+=1   \n",
    "\n",
    "            \n",
    "\n",
    "print(string1, string2)\n",
    "\n",
    "num1=str()\n",
    "num2=str()\n",
    "for a,b in zip(s1, s2):\n",
    "    \n",
    "    num1+=str(string1[a])\n",
    "    num2+=str(string2[b])\n",
    "print(num1, num2)\n",
    "\n",
    "if num1==num2:\n",
    "    return True\n",
    "else:\n",
    "    return False"
   ]
  },
  {
   "cell_type": "code",
   "execution_count": 107,
   "id": "d2c0123e",
   "metadata": {},
   "outputs": [
    {
     "data": {
      "text/plain": [
       "'LUUFO'"
      ]
     },
     "execution_count": 107,
     "metadata": {},
     "output_type": "execute_result"
    }
   ],
   "source": [
    "s1"
   ]
  },
  {
   "cell_type": "code",
   "execution_count": 105,
   "id": "dd716191",
   "metadata": {},
   "outputs": [
    {
     "name": "stdout",
     "output_type": "stream",
     "text": [
      "12234 14345\n"
     ]
    }
   ],
   "source": []
  },
  {
   "cell_type": "code",
   "execution_count": 110,
   "id": "d7f02dbc",
   "metadata": {},
   "outputs": [],
   "source": [
    "def isIsomorphic(s1, s2):\n",
    "    \n",
    "    if(len(s1)!=len(s2)):\n",
    "        return False\n",
    "    \n",
    "    string1, string2 =dict(), dict()\n",
    "    counter1=1\n",
    "    counter2=1\n",
    "\n",
    "    for a,b in zip(s1,s2):\n",
    "        if a not in string1:\n",
    "            string1[a]=counter1\n",
    "            counter1+=1\n",
    "        if b not in string2:\n",
    "            string2[b]=counter2\n",
    "            counter2+=1   \n",
    "\n",
    "            \n",
    "\n",
    "\n",
    "\n",
    "    num1=str()\n",
    "    num2=str()\n",
    "    for a,b in zip(s1, s2):\n",
    "    \n",
    "        num1+=str(string1[a])\n",
    "        num2+=str(string2[b])\n",
    "    \n",
    "\n",
    "    if num1==num2:\n",
    "        return True\n",
    "    else:\n",
    "        return False\n",
    "    \n",
    "    "
   ]
  },
  {
   "cell_type": "code",
   "execution_count": 111,
   "id": "6d2b267c",
   "metadata": {},
   "outputs": [
    {
     "data": {
      "text/plain": [
       "False"
      ]
     },
     "execution_count": 111,
     "metadata": {},
     "output_type": "execute_result"
    }
   ],
   "source": [
    "isIsomorphic(s1, s2)"
   ]
  },
  {
   "cell_type": "code",
   "execution_count": null,
   "id": "ad048444",
   "metadata": {},
   "outputs": [],
   "source": []
  }
 ],
 "metadata": {
  "kernelspec": {
   "display_name": "Python 3 (ipykernel)",
   "language": "python",
   "name": "python3"
  },
  "language_info": {
   "codemirror_mode": {
    "name": "ipython",
    "version": 3
   },
   "file_extension": ".py",
   "mimetype": "text/x-python",
   "name": "python",
   "nbconvert_exporter": "python",
   "pygments_lexer": "ipython3",
   "version": "3.9.12"
  }
 },
 "nbformat": 4,
 "nbformat_minor": 5
}
