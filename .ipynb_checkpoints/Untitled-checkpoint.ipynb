{
 "cells": [
  {
   "cell_type": "code",
   "execution_count": 1,
   "id": "404114b2",
   "metadata": {},
   "outputs": [],
   "source": [
    "##Committed to GitHub"
   ]
  },
  {
   "cell_type": "code",
   "execution_count": 21,
   "id": "56bc53d5",
   "metadata": {},
   "outputs": [],
   "source": [
    "a=4\n",
    "b=5\n"
   ]
  },
  {
   "cell_type": "code",
   "execution_count": 24,
   "id": "15e26364",
   "metadata": {},
   "outputs": [
    {
     "name": "stdout",
     "output_type": "stream",
     "text": [
      "55555\n",
      "55555\n",
      "55555\n",
      "55555\n"
     ]
    }
   ],
   "source": [
    "for i in range(a):\n",
    "   \n",
    "    for j in range(a):\n",
    "        print(b, end=\"\")\n",
    "    print(b)"
   ]
  },
  {
   "cell_type": "code",
   "execution_count": null,
   "id": "d5db3c20",
   "metadata": {},
   "outputs": [],
   "source": []
  }
 ],
 "metadata": {
  "kernelspec": {
   "display_name": "Python 3 (ipykernel)",
   "language": "python",
   "name": "python3"
  },
  "language_info": {
   "codemirror_mode": {
    "name": "ipython",
    "version": 3
   },
   "file_extension": ".py",
   "mimetype": "text/x-python",
   "name": "python",
   "nbconvert_exporter": "python",
   "pygments_lexer": "ipython3",
   "version": "3.8.12"
  }
 },
 "nbformat": 4,
 "nbformat_minor": 5
}
