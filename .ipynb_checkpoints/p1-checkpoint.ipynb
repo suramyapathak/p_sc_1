{
 "cells": [
  {
   "cell_type": "code",
   "execution_count": 1,
   "id": "404114b2",
   "metadata": {
    "id": "404114b2"
   },
   "outputs": [],
   "source": [
    "## Committed to GitHub"
   ]
  },
  {
   "cell_type": "code",
   "execution_count": 2,
   "id": "56bc53d5",
   "metadata": {
    "id": "56bc53d5"
   },
   "outputs": [],
   "source": [
    "## First commit"
   ]
  },
  {
   "cell_type": "code",
   "execution_count": 3,
   "id": "jMLNnm-qzWRr",
   "metadata": {
    "id": "jMLNnm-qzWRr"
   },
   "outputs": [],
   "source": [
    "a=[1,2,3,2,1]\n",
    "b=[1,2,4,3,1]"
   ]
  },
  {
   "cell_type": "code",
   "execution_count": 7,
   "id": "9b02e058",
   "metadata": {},
   "outputs": [
    {
     "data": {
      "text/plain": [
       "[True, True, False, False, True]"
      ]
     },
     "execution_count": 7,
     "metadata": {},
     "output_type": "execute_result"
    }
   ],
   "source": [
    "c=list(map(lambda x,y:x==y, a, b))\n",
    "c"
   ]
  },
  {
   "cell_type": "code",
   "execution_count": 9,
   "id": "063a74de",
   "metadata": {},
   "outputs": [
    {
     "data": {
      "text/plain": [
       "[1, 1, 0, 0, 1]"
      ]
     },
     "execution_count": 9,
     "metadata": {},
     "output_type": "execute_result"
    }
   ],
   "source": [
    "c=list(map(lambda x,y:1 if x==y else 0, a, b))\n",
    "c"
   ]
  },
  {
   "cell_type": "code",
   "execution_count": null,
   "id": "37a40468",
   "metadata": {},
   "outputs": [],
   "source": [
    "  "
   ]
  }
 ],
 "metadata": {
  "colab": {
   "name": "Untitled.ipynb",
   "provenance": []
  },
  "kernelspec": {
   "display_name": "Python 3 (ipykernel)",
   "language": "python",
   "name": "python3"
  },
  "language_info": {
   "codemirror_mode": {
    "name": "ipython",
    "version": 3
   },
   "file_extension": ".py",
   "mimetype": "text/x-python",
   "name": "python",
   "nbconvert_exporter": "python",
   "pygments_lexer": "ipython3",
   "version": "3.8.12"
  }
 },
 "nbformat": 4,
 "nbformat_minor": 5
}
