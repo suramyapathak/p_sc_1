{
 "cells": [
  {
   "cell_type": "code",
   "execution_count": null,
   "id": "404114b2",
   "metadata": {
    "id": "404114b2"
   },
   "outputs": [],
   "source": [
    "##Committed to GitHub"
   ]
  },
  {
   "cell_type": "code",
   "execution_count": 4,
   "id": "56bc53d5",
   "metadata": {
    "id": "56bc53d5"
   },
   "outputs": [],
   "source": [
    "## First commit"
   ]
  },
  {
   "cell_type": "code",
   "execution_count": null,
   "id": "553d64cf",
   "metadata": {},
   "outputs": [],
   "source": []
  },
  {
   "cell_type": "markdown",
   "id": "4291c0a7",
   "metadata": {
    "id": "jMLNnm-qzWRr"
   },
   "source": [
    "def check(emails):\n",
    "    '''\n",
    "    input:\n",
    "    emails -> list of emails to check\n",
    "    \n",
    "    output:\n",
    "    verified_lex -> the verified list of emails, in lexicographical order\n",
    "    '''\n",
    "    \n",
    "    verified_lex = None\n",
    "    \n",
    "    # Your code starts here\n",
    "    \n",
    "    # Your code ends here\n",
    "    return verified_lex"
   ]
  },
  {
   "cell_type": "code",
   "execution_count": 23,
   "id": "84cb3666",
   "metadata": {},
   "outputs": [],
   "source": [
    "emails=['sara@scaler.com', 'brian-23@scaler.com', 'brute_54@scaler.com', 'new_good_beautiful_latest@.com',\"new_@est@.com\", \"as@\", \"@sd\" ]"
   ]
  },
  {
   "cell_type": "code",
   "execution_count": 14,
   "id": "2fe28f10",
   "metadata": {},
   "outputs": [
    {
     "name": "stdout",
     "output_type": "stream",
     "text": [
      "['sara@scaler.com', 'brian-23@scaler.com', 'brute_54@scaler.com']\n"
     ]
    }
   ],
   "source": [
    "verified_lex=[]\n",
    "for a in emails:\n",
    "    if a.count('@')==1:\n",
    "        check, check1=[],[]\n",
    "        for b in a:\n",
    "            if b!='@':\n",
    "                check.append(b)\n",
    " \n",
    "            if b=='@':\n",
    "                break\n",
    "        \n",
    "        for b in a:\n",
    "            if b == @:\n",
    "                \n",
    "            \n",
    "        \n",
    "        if len(check)<21 and len(check)>0:\n",
    "            verified_lex.append(a)\n",
    "print(verified_lex)\n",
    "            \n",
    "            \n",
    "        "
   ]
  },
  {
   "cell_type": "code",
   "execution_count": 26,
   "id": "4b05574a",
   "metadata": {},
   "outputs": [
    {
     "data": {
      "text/plain": [
       "['brute_54@scaler.com', 'brian-23@scaler.com', 'sara@scaler.com']"
      ]
     },
     "execution_count": 26,
     "metadata": {},
     "output_type": "execute_result"
    }
   ],
   "source": [
    "verified_lex=[]\n",
    "check, check1=[],[]\n",
    "\n",
    "\n",
    "for a in emails:\n",
    "    if a.count('@')==1 and len(a.partition('@')[0])>0 and len(a.partition('@')[2])>0 and len(a.partition('@')[0])<21:\n",
    "        verified_lex.append(a)\n",
    "        \n",
    "list(set(verified_lex ))"
   ]
  },
  {
   "cell_type": "code",
   "execution_count": 31,
   "id": "ccd420ad",
   "metadata": {},
   "outputs": [
    {
     "ename": "SyntaxError",
     "evalue": "invalid syntax (3828559030.py, line 2)",
     "output_type": "error",
     "traceback": [
      "\u001b[1;36m  Input \u001b[1;32mIn [31]\u001b[1;36m\u001b[0m\n\u001b[1;33m    verified_lex = sorted(filter([a:a if (a.count('@')==1 and len(a.partition('@')[0])>0 and len(a.partition('@')[2])>0 and len(a.partition('@')[0])<21),emails]))\u001b[0m\n\u001b[1;37m                                   ^\u001b[0m\n\u001b[1;31mSyntaxError\u001b[0m\u001b[1;31m:\u001b[0m invalid syntax\n"
     ]
    }
   ],
   "source": [
    "verified_lex=[]\n",
    "verified_lex = sorted(filter([a:a if (a.count('@')==1 and len(a.partition('@')[0])>0 and len(a.partition('@')[2])>0 and len(a.partition('@')[0])<21),emails]))"
   ]
  },
  {
   "cell_type": "code",
   "execution_count": 32,
   "id": "9dd0eedf",
   "metadata": {},
   "outputs": [],
   "source": [
    "names = ['M2004Sam', 'F2001Riya', 'M1998Ani', 'F2005Diya']"
   ]
  },
  {
   "cell_type": "code",
   "execution_count": null,
   "id": "284e916a",
   "metadata": {},
   "outputs": [],
   "source": [
    "def club_entry(names):\n",
    "    age_list =for i in names:[2022 - int(i[1:5])]#blank1\n",
    "    entry = []\n",
    "    for i in age_list:         \n",
    "        if ______                 #blank2                \n",
    "       entry.append('You can Enter')\n",
    "    else:\n",
    "      entry.append('No Entry for you')\n",
    "  return entry\n",
    "\n",
    ", i > 18:"
   ]
  },
  {
   "cell_type": "code",
   "execution_count": 33,
   "id": "56f171c3",
   "metadata": {},
   "outputs": [],
   "source": [
    "sampleDict = { \"class\":{ \"student\":{ \"name\":\"Mike\", \"marks\":{ \"physics\":70, \"history\":80 } } } }"
   ]
  },
  {
   "cell_type": "code",
   "execution_count": 35,
   "id": "d59ccb8f",
   "metadata": {},
   "outputs": [
    {
     "data": {
      "text/plain": [
       "80"
      ]
     },
     "execution_count": 35,
     "metadata": {},
     "output_type": "execute_result"
    }
   ],
   "source": [
    "sampleDict['class']['student']['marks']['history']"
   ]
  },
  {
   "cell_type": "code",
   "execution_count": 42,
   "id": "2a883727",
   "metadata": {},
   "outputs": [],
   "source": [
    "arr= [(1,2),(2,3),(2,3),(1,2),(5,6)]"
   ]
  },
  {
   "cell_type": "code",
   "execution_count": 43,
   "id": "ec48a48b",
   "metadata": {},
   "outputs": [
    {
     "data": {
      "text/plain": [
       "[(1, 2), (2, 3), (5, 6)]"
      ]
     },
     "execution_count": 43,
     "metadata": {},
     "output_type": "execute_result"
    }
   ],
   "source": [
    "[ (a,b) for i, [a,b] in enumerate(arr) if not any (c==b for _, c in arr[ : i])]"
   ]
  },
  {
   "cell_type": "code",
   "execution_count": 44,
   "id": "d56217ae",
   "metadata": {},
   "outputs": [
    {
     "data": {
      "text/plain": [
       "[(2, 3), (1, 2), (5, 6)]"
      ]
     },
     "execution_count": 44,
     "metadata": {},
     "output_type": "execute_result"
    }
   ],
   "source": [
    "[ item for item in set (tuple(i) for i in arr )]"
   ]
  },
  {
   "cell_type": "code",
   "execution_count": 45,
   "id": "3066253b",
   "metadata": {},
   "outputs": [
    {
     "data": {
      "text/plain": [
       "[(2, 3), (1, 2), (5, 6)]"
      ]
     },
     "execution_count": 45,
     "metadata": {},
     "output_type": "execute_result"
    }
   ],
   "source": [
    "list (set ( [ i for i in arr ]))"
   ]
  },
  {
   "cell_type": "code",
   "execution_count": 46,
   "id": "e2c5a1fe",
   "metadata": {},
   "outputs": [
    {
     "data": {
      "text/plain": [
       "{1: 1, 2: 4, 3: 9, 4: 16, 5: 25}"
      ]
     },
     "execution_count": 46,
     "metadata": {},
     "output_type": "execute_result"
    }
   ],
   "source": [
    "{x : x**2 for x in range(1, 6)}"
   ]
  },
  {
   "cell_type": "code",
   "execution_count": 47,
   "id": "74cc6479",
   "metadata": {},
   "outputs": [
    {
     "name": "stdout",
     "output_type": "stream",
     "text": [
      "9\n"
     ]
    }
   ],
   "source": [
    "lis = [(0, 2), (1, 3), (2, 4)]\n",
    "result = sum (n for _, n in lis)\n",
    "print(result)"
   ]
  },
  {
   "cell_type": "code",
   "execution_count": 49,
   "id": "d0a06cb9",
   "metadata": {},
   "outputs": [
    {
     "data": {
      "text/plain": [
       "[2, 3, 4]"
      ]
     },
     "execution_count": 49,
     "metadata": {},
     "output_type": "execute_result"
    }
   ],
   "source": [
    "[n for _, n in lis]"
   ]
  },
  {
   "cell_type": "code",
   "execution_count": 56,
   "id": "af54c8b4",
   "metadata": {},
   "outputs": [
    {
     "name": "stdout",
     "output_type": "stream",
     "text": [
      "(2, 4)\n",
      "(2, 4)\n",
      "(2, 4)\n"
     ]
    }
   ],
   "source": [
    "for n in lis:\n",
    "    print(_)"
   ]
  },
  {
   "cell_type": "code",
   "execution_count": 57,
   "id": "59f4f9c1",
   "metadata": {},
   "outputs": [
    {
     "ename": "SyntaxError",
     "evalue": "invalid character '‘' (U+2018) (2328968599.py, line 1)",
     "output_type": "error",
     "traceback": [
      "\u001b[1;36m  Input \u001b[1;32mIn [57]\u001b[1;36m\u001b[0m\n\u001b[1;33m    arr = [a+\" \"+b for a in [ ‘Hello’, ‘Good’] for b in [‘Dear’, ‘Bye’]]\u001b[0m\n\u001b[1;37m                              ^\u001b[0m\n\u001b[1;31mSyntaxError\u001b[0m\u001b[1;31m:\u001b[0m invalid character '‘' (U+2018)\n"
     ]
    }
   ],
   "source": [
    "arr = [a+\" \"+b for a in [ ‘Hello’, ‘Good’] for b in [‘Dear’, ‘Bye’]]\n",
    "print(arr) "
   ]
  },
  {
   "cell_type": "code",
   "execution_count": 58,
   "id": "fe7f829c",
   "metadata": {},
   "outputs": [
    {
     "name": "stdout",
     "output_type": "stream",
     "text": [
      "(1, 4)\n"
     ]
    }
   ],
   "source": [
    "def func2(c, d):\n",
    "    return c, d\n",
    "\n",
    "def func1(a, b):\n",
    "    c = a**1\n",
    "    d = b**2\n",
    "    return lambda: func2(c,d)\n",
    "\n",
    "result = func1(1, 2)\n",
    "\n",
    "print(result())"
   ]
  },
  {
   "cell_type": "code",
   "execution_count": 59,
   "id": "d787a031",
   "metadata": {},
   "outputs": [
    {
     "name": "stdout",
     "output_type": "stream",
     "text": [
      "0 2 4 6 8 "
     ]
    }
   ],
   "source": [
    "odd=lambda x: bool(x%2)\n",
    "result=[n for n in range(10)]\n",
    "\n",
    "for i in result:\n",
    "    if odd(i):\n",
    "        continue       \n",
    "    else:\n",
    "        print(i, end=\" \")"
   ]
  },
  {
   "cell_type": "code",
   "execution_count": 62,
   "id": "a9f7a41d",
   "metadata": {},
   "outputs": [
    {
     "name": "stdout",
     "output_type": "stream",
     "text": [
      "[]\n"
     ]
    }
   ],
   "source": [
    "array  = [1, 2, 3, 4, 5]\n",
    "def func1(x):\n",
    "    return x<0\n",
    "result=filter(func1, array)\n",
    "print(list(result))"
   ]
  },
  {
   "cell_type": "code",
   "execution_count": 63,
   "id": "2f642e6f",
   "metadata": {},
   "outputs": [
    {
     "data": {
      "text/plain": [
       "[]"
      ]
     },
     "execution_count": 63,
     "metadata": {},
     "output_type": "execute_result"
    }
   ],
   "source": [
    "list(filter(lambda x:x<0, array))"
   ]
  },
  {
   "cell_type": "code",
   "execution_count": 64,
   "id": "fde767cd",
   "metadata": {},
   "outputs": [
    {
     "ename": "TypeError",
     "evalue": "<lambda>() missing 1 required positional argument: 'y'",
     "output_type": "error",
     "traceback": [
      "\u001b[1;31m---------------------------------------------------------------------------\u001b[0m",
      "\u001b[1;31mTypeError\u001b[0m                                 Traceback (most recent call last)",
      "Input \u001b[1;32mIn [64]\u001b[0m, in \u001b[0;36m<cell line: 1>\u001b[1;34m()\u001b[0m\n\u001b[1;32m----> 1\u001b[0m \u001b[38;5;28;43mlist\u001b[39;49m\u001b[43m(\u001b[49m\u001b[38;5;28;43mfilter\u001b[39;49m\u001b[43m(\u001b[49m\u001b[38;5;28;43;01mlambda\u001b[39;49;00m\u001b[43m \u001b[49m\u001b[43mx\u001b[49m\u001b[43m,\u001b[49m\u001b[43m \u001b[49m\u001b[43my\u001b[49m\u001b[43m:\u001b[49m\u001b[43m \u001b[49m\u001b[43mx\u001b[49m\u001b[38;5;241;43m<\u001b[39;49m\u001b[38;5;241;43m0\u001b[39;49m\u001b[43m,\u001b[49m\u001b[43marray\u001b[49m\u001b[43m)\u001b[49m\u001b[43m)\u001b[49m\n",
      "\u001b[1;31mTypeError\u001b[0m: <lambda>() missing 1 required positional argument: 'y'"
     ]
    }
   ],
   "source": [
    "list(filter(lambda x, y: x<0,array))"
   ]
  },
  {
   "cell_type": "code",
   "execution_count": 65,
   "id": "9aebf60a",
   "metadata": {},
   "outputs": [
    {
     "ename": "SyntaxError",
     "evalue": "invalid syntax (2189658125.py, line 1)",
     "output_type": "error",
     "traceback": [
      "\u001b[1;36m  Input \u001b[1;32mIn [65]\u001b[1;36m\u001b[0m\n\u001b[1;33m    list(filter(reduce x<0, array))\u001b[0m\n\u001b[1;37m                       ^\u001b[0m\n\u001b[1;31mSyntaxError\u001b[0m\u001b[1;31m:\u001b[0m invalid syntax\n"
     ]
    }
   ],
   "source": [
    "list(filter(reduce x<0, array))"
   ]
  },
  {
   "cell_type": "code",
   "execution_count": 66,
   "id": "516ec68c",
   "metadata": {},
   "outputs": [
    {
     "ename": "SyntaxError",
     "evalue": "invalid syntax (88625848.py, line 1)",
     "output_type": "error",
     "traceback": [
      "\u001b[1;36m  Input \u001b[1;32mIn [66]\u001b[1;36m\u001b[0m\n\u001b[1;33m    list(reduce(x: x<0, array))\u001b[0m\n\u001b[1;37m                 ^\u001b[0m\n\u001b[1;31mSyntaxError\u001b[0m\u001b[1;31m:\u001b[0m invalid syntax\n"
     ]
    }
   ],
   "source": [
    "list(reduce(x: x<0, array))"
   ]
  },
  {
   "cell_type": "code",
   "execution_count": 1,
   "id": "f00a0158",
   "metadata": {},
   "outputs": [
    {
     "name": "stdout",
     "output_type": "stream",
     "text": [
      "[2, [2, 3, 2, 3], 8, 10]\n"
     ]
    }
   ],
   "source": [
    "a=[1,[2,3],4,5]\n",
    "result = lambda x: list(map(lambda y:2*y, x)) \n",
    "print(result(a))"
   ]
  },
  {
   "cell_type": "code",
   "execution_count": 10,
   "id": "e72d3339",
   "metadata": {},
   "outputs": [
    {
     "name": "stdout",
     "output_type": "stream",
     "text": [
      "['samJohnson@iit.com', 'SAM@harvard.com']\n"
     ]
    }
   ],
   "source": [
    "ids=[\"Sam@gmail.com\", \"Ram@gmail.com\", \"Sam@gmail.com\", \"samJohnson@iit.com\", \"SAM@harvard.com\"]\n",
    "name=\"sam\"\n",
    "result = list(filter(lambda x : name.lower() in x or name.upper() in x, ids))\n",
    "print(result)"
   ]
  },
  {
   "cell_type": "code",
   "execution_count": 9,
   "id": "e2c4b97a",
   "metadata": {},
   "outputs": [
    {
     "name": "stdout",
     "output_type": "stream",
     "text": [
      "['samJohnson@iit.com']\n"
     ]
    }
   ],
   "source": [
    "ids=[\"Sam@gmail.com\", \"Ram@gmail.com\", \"Sam@gmail.com\", \"samJohnson@iit.com\", \"SAM@harvard.com\"]\n",
    "name=\"sam\"\n",
    "result = list(filter(lambda x : (name.lower() or name.upper()) in x , ids))\n",
    "print(result)"
   ]
  },
  {
   "cell_type": "code",
   "execution_count": 11,
   "id": "42a9227a",
   "metadata": {},
   "outputs": [
    {
     "name": "stdout",
     "output_type": "stream",
     "text": [
      "[]\n"
     ]
    }
   ],
   "source": [
    "ids=[\"Sam@gmail.com\", \"Ram@gmail.com\", \"Sam@gmail.com\", \"samJohnson@iit.com\", \"SAM@harvard.com\"]\n",
    "name=\"sam\"\n",
    "result = list(filter(lambda x : name.lower() in x and name.upper() in x, ids))\n",
    "print(result)"
   ]
  },
  {
   "cell_type": "code",
   "execution_count": 12,
   "id": "6d03f207",
   "metadata": {},
   "outputs": [
    {
     "name": "stdout",
     "output_type": "stream",
     "text": [
      "['SAM@harvard.com']\n"
     ]
    }
   ],
   "source": [
    "ids=[\"Sam@gmail.com\", \"Ram@gmail.com\", \"Sam@gmail.com\", \"samJohnson@iit.com\", \"SAM@harvard.com\"]\n",
    "name=\"sam\"\n",
    "result = list(filter(lambda x : (name.lower() and name.upper()) in x, ids))\n",
    "print(result)"
   ]
  },
  {
   "cell_type": "code",
   "execution_count": 14,
   "id": "975b2eaa",
   "metadata": {},
   "outputs": [],
   "source": [
    "arr = ['php', \"w3r\", \"python\", \"aaa\", \"java\"]"
   ]
  },
  {
   "cell_type": "code",
   "execution_count": 24,
   "id": "62a6ec23",
   "metadata": {},
   "outputs": [
    {
     "data": {
      "text/plain": [
       "[<function __main__.<lambda>(x)>, ['php', 'w3r', 'python', 'aaa', 'java']]"
      ]
     },
     "execution_count": 24,
     "metadata": {},
     "output_type": "execute_result"
    }
   ],
   "source": []
  },
  {
   "cell_type": "code",
   "execution_count": 19,
   "id": "5bf81c14",
   "metadata": {},
   "outputs": [
    {
     "ename": "TypeError",
     "evalue": "'type' object is not iterable",
     "output_type": "error",
     "traceback": [
      "\u001b[1;31m---------------------------------------------------------------------------\u001b[0m",
      "\u001b[1;31mTypeError\u001b[0m                                 Traceback (most recent call last)",
      "Input \u001b[1;32mIn [19]\u001b[0m, in \u001b[0;36m<cell line: 1>\u001b[1;34m()\u001b[0m\n\u001b[1;32m----> 1\u001b[0m \u001b[38;5;28mlist\u001b[39m(\u001b[38;5;28;43mfilter\u001b[39;49m\u001b[43m(\u001b[49m\u001b[38;5;28;43;01mlambda\u001b[39;49;00m\u001b[43m \u001b[49m\u001b[43mx\u001b[49m\u001b[43m:\u001b[49m\u001b[43m \u001b[49m\u001b[43mx\u001b[49m\u001b[43m \u001b[49m\u001b[38;5;129;43;01min\u001b[39;49;00m\u001b[43m \u001b[49m\u001b[43marr\u001b[49m\u001b[43m,\u001b[49m\u001b[43m \u001b[49m\u001b[38;5;28;43mstr\u001b[39;49m\u001b[43m)\u001b[49m)\n",
      "\u001b[1;31mTypeError\u001b[0m: 'type' object is not iterable"
     ]
    }
   ],
   "source": [
    "list(filter(lambda x: x in arr, str))"
   ]
  },
  {
   "cell_type": "code",
   "execution_count": 25,
   "id": "b1852161",
   "metadata": {},
   "outputs": [
    {
     "name": "stdout",
     "output_type": "stream",
     "text": [
      "[{'name': 'Alice', 'salary': 180000, 'job': 'data scientist'}, {'name': 'Bob', 'salary': 99000, 'job': 'data engineer'}, {'name': 'Frank', 'salary': 87000, 'job': 'data analyst'}]\n"
     ]
    }
   ],
   "source": [
    "column_names = ['name', 'salary', 'job']\n",
    "db_rows = [('Alice', 180000, 'data scientist'),\n",
    "           ('Bob', 99000, 'data engineer'),\n",
    "           ('Frank', 87000, 'data analyst')]\n",
    "\n",
    "db = [dict(zip(column_names, row)) for row in db_rows]\n",
    "print(db)\n",
    "\n"
   ]
  },
  {
   "cell_type": "markdown",
   "id": "c2c7c935",
   "metadata": {},
   "source": [
    "Required Output: [{'name': 'Alice', 'salary': 180000, 'job': 'data scientist'}, {'name': 'Bob', 'salary': 99000, 'job': 'data engineer'}, {'name': 'Frank', 'salary': 87000, 'job': 'data analyst'}]"
   ]
  },
  {
   "cell_type": "code",
   "execution_count": 26,
   "id": "0f3ea6e1",
   "metadata": {},
   "outputs": [
    {
     "name": "stdout",
     "output_type": "stream",
     "text": [
      "4\n"
     ]
    }
   ],
   "source": [
    "import functools\n",
    "lists = [1,2,3,4]\n",
    "print(functools.reduce(lambda x,y : x if x > y else y ,lists))"
   ]
  },
  {
   "cell_type": "code",
   "execution_count": 34,
   "id": "22b7ee7d",
   "metadata": {},
   "outputs": [
    {
     "name": "stdout",
     "output_type": "stream",
     "text": [
      "[['a'], ['b'], ['c'], [' '], ['c'], ['d'], ['e'], [' '], ['d'], ['e'], ['f']]\n"
     ]
    }
   ],
   "source": [
    "sentence = \"abc cde def\"\n",
    "result = list(map(lambda x: list(x), sentence))\n",
    "print(result)"
   ]
  },
  {
   "cell_type": "code",
   "execution_count": 35,
   "id": "25c3ed85",
   "metadata": {},
   "outputs": [
    {
     "name": "stdout",
     "output_type": "stream",
     "text": [
      "[['a', 'b', 'c'], ['c', 'd', 'e'], ['d', 'e', 'f']]\n"
     ]
    }
   ],
   "source": [
    "sentence = \"abc cde def\"\n",
    "result = list(map(lambda x: list(x), sentence.split(\" \")))\n",
    "print(result)"
   ]
  },
  {
   "cell_type": "code",
   "execution_count": 30,
   "id": "7ad0aa61",
   "metadata": {},
   "outputs": [
    {
     "data": {
      "text/plain": [
       "['abc', 'cde', 'def']"
      ]
     },
     "execution_count": 30,
     "metadata": {},
     "output_type": "execute_result"
    }
   ],
   "source": [
    "sentence.split(\" \")"
   ]
  },
  {
   "cell_type": "code",
   "execution_count": 32,
   "id": "0337e800",
   "metadata": {},
   "outputs": [
    {
     "ename": "ValueError",
     "evalue": "empty separator",
     "output_type": "error",
     "traceback": [
      "\u001b[1;31m---------------------------------------------------------------------------\u001b[0m",
      "\u001b[1;31mValueError\u001b[0m                                Traceback (most recent call last)",
      "Input \u001b[1;32mIn [32]\u001b[0m, in \u001b[0;36m<cell line: 1>\u001b[1;34m()\u001b[0m\n\u001b[1;32m----> 1\u001b[0m \u001b[43msentence\u001b[49m\u001b[38;5;241;43m.\u001b[39;49m\u001b[43msplit\u001b[49m\u001b[43m(\u001b[49m\u001b[38;5;124;43m\"\u001b[39;49m\u001b[38;5;124;43m\"\u001b[39;49m\u001b[43m)\u001b[49m\n",
      "\u001b[1;31mValueError\u001b[0m: empty separator"
     ]
    }
   ],
   "source": [
    "sentence.split(\"\")"
   ]
  },
  {
   "cell_type": "code",
   "execution_count": null,
   "id": "ea5395d4",
   "metadata": {},
   "outputs": [],
   "source": []
  }
 ],
 "metadata": {
  "colab": {
   "name": "Untitled.ipynb",
   "provenance": []
  },
  "kernelspec": {
   "display_name": "Python 3 (ipykernel)",
   "language": "python",
   "name": "python3"
  },
  "language_info": {
   "codemirror_mode": {
    "name": "ipython",
    "version": 3
   },
   "file_extension": ".py",
   "mimetype": "text/x-python",
   "name": "python",
   "nbconvert_exporter": "python",
   "pygments_lexer": "ipython3",
   "version": "3.9.12"
  }
 },
 "nbformat": 4,
 "nbformat_minor": 5
}
