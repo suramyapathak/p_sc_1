{
 "cells": [
  {
   "cell_type": "markdown",
   "id": "ff6a62eb",
   "metadata": {},
   "source": [
    "Create a class Student and initialize it with details marks in subject 1, credit of subject 1, marks in subject 2, and credit of subject 2.\n",
    "\n",
    "Create a function grade_point_average() for the Student class which computes the GPA rounded to two decimals, based on the following criteria of points in a subject :\n",
    "\n",
    "1. If marks>=90:10 points\n",
    "2. If 90>marks>=75: 9 points\n",
    "3. If 75>marks>=60: 8 points\n",
    "4. If 60>marks>=45: 7 points\n",
    "5. If marks<45: 0 points\n",
    "\n",
    "GPA = (points in subject 1 * credit of subject 1+ points in subject 2 * credit of subject 2) / ( credit of subject 1 + credit of subject 2)\n",
    "\n",
    "The points in a subject should be calculated according to the criteria mentioned in the question.\n",
    "Also, implement a special zero case to handle when credits of both subjects are 0, return \"Zero credits for both subjects\".\n",
    "\n",
    "Input Example:\n",
    "\n",
    "# class Student takes (marks1,marks2,credits1,credits2)\n",
    "(85, 76, 3, 4)\n",
    "\n",
    "Output Example:\n",
    "\n",
    "#output is GPA value\n",
    "9.0"
   ]
  },
  {
   "cell_type": "code",
   "execution_count": 17,
   "id": "93ff97e8",
   "metadata": {},
   "outputs": [],
   "source": [
    "class student:\n",
    "    \n",
    "    def __init__ (self, marks1,marks2,credits1, credits2):\n",
    "        self.marks1=marks1\n",
    "        self.marks2=marks2\n",
    "        self.credits1=credits1\n",
    "        self.credits2=credits2\n",
    "        \n",
    "        \n",
    "    def grade_point_average(self):\n",
    "        gpa=0\n",
    "\n",
    "        #YOUR CODE GOES HERE\n",
    "        i=0\n",
    "        points=[]\n",
    "        for a in (self.marks1, self.marks2):\n",
    "            if a<45:\n",
    "                points.append(0)\n",
    "            elif (a>44 and a<60):\n",
    "                points.append(7)\n",
    "            elif (a>59 and a<75):\n",
    "                points.append(8)\n",
    "            elif (a>74 and a<90):\n",
    "                points.append(9)\n",
    "            elif a>90:\n",
    "                points.append(10)\n",
    "            i+=1\n",
    "\n",
    "        if (self.credits1==0) and (self.credits2==0):\n",
    "            print(\"Zero credits for both subjects\")\n",
    "        else:\n",
    "            gpa=round(((points[0]*self.credits1) + (points[1]*self.credits2))/(self.credits1+self.credits2),2)\n",
    "            print(points[0],self.marks1 , points[1],self.marks2,self.credits1,self.credits2)\n",
    "        return gpa\n",
    "        \n",
    "        "
   ]
  },
  {
   "cell_type": "code",
   "execution_count": 18,
   "id": "80dd79b4",
   "metadata": {},
   "outputs": [
    {
     "data": {
      "text/plain": [
       "9.0"
      ]
     },
     "execution_count": 18,
     "metadata": {},
     "output_type": "execute_result"
    }
   ],
   "source": [
    "(9*3+9*4)/7"
   ]
  },
  {
   "cell_type": "code",
   "execution_count": 19,
   "id": "4b6f15f8",
   "metadata": {},
   "outputs": [],
   "source": [
    "s1=student(35, 92, 4, 5)"
   ]
  },
  {
   "cell_type": "code",
   "execution_count": 20,
   "id": "f108036b",
   "metadata": {},
   "outputs": [
    {
     "name": "stdout",
     "output_type": "stream",
     "text": [
      "0 35 10 92 4 5\n"
     ]
    },
    {
     "data": {
      "text/plain": [
       "5.56"
      ]
     },
     "execution_count": 20,
     "metadata": {},
     "output_type": "execute_result"
    }
   ],
   "source": [
    "s1.grade_point_average()"
   ]
  },
  {
   "cell_type": "code",
   "execution_count": null,
   "id": "1ace0cc9",
   "metadata": {},
   "outputs": [],
   "source": [
    "\n",
    "points=[]\n",
    "i=0\n",
    "\n",
    "\n",
    "for a in (marks1, marks2):\n",
    "   \n",
    "    if a<45:\n",
    "        points.append(0)\n",
    "    elif a>44 and a<60:\n",
    "        points.append(7)\n",
    "    elif a>59 and a<75:\n",
    "        points.append(8)\n",
    "    elif a>74 and a<90:\n",
    "        points.append(9)\n",
    "    elif a>90:\n",
    "        points.append(10)\n",
    "    i+=1"
   ]
  },
  {
   "cell_type": "code",
   "execution_count": null,
   "id": "7ce92ed8",
   "metadata": {},
   "outputs": [],
   "source": [
    "points[0]"
   ]
  },
  {
   "cell_type": "code",
   "execution_count": 20,
   "id": "64569a05",
   "metadata": {},
   "outputs": [],
   "source": [
    "b1=bill(200, 650)"
   ]
  },
  {
   "cell_type": "code",
   "execution_count": 21,
   "id": "6e9e3014",
   "metadata": {},
   "outputs": [
    {
     "data": {
      "text/plain": [
       "3000"
      ]
     },
     "execution_count": 21,
     "metadata": {},
     "output_type": "execute_result"
    }
   ],
   "source": [
    "b1.total_bill()"
   ]
  },
  {
   "cell_type": "code",
   "execution_count": 36,
   "id": "4cadfbc6",
   "metadata": {},
   "outputs": [],
   "source": [
    "def timeHandle(a,b,c,d):\n",
    "    '''inputs: a,b = hours and mins of t1\n",
    "               c,d = hours and mins of t2\n",
    "        Output: Two lines of output for each pair of t1 and t2. The code for printing outputs is already just make sure to return in the methods.'''\n",
    "    # The code for taking input and printing output is already taken care of.\n",
    "\n",
    "    class Spanoftime:\n",
    "        def __init__(self,h,m):\n",
    "            self.hours=h\n",
    "            self.mins=m\n",
    "            \n",
    "        def displayTime(self):\n",
    "            return (\"{} hours and {} min\".format(self.hours,self.mins))\n",
    "        \n",
    "        def addTime(t1,t2):\n",
    "            t3=Spanoftime(0,0)\n",
    "            # Complete the function\n",
    "            h=0\n",
    "            m=0\n",
    "            if (t1.mins+t2.mins)>60:\n",
    "                h=1\n",
    "                m=60\n",
    "            k=t1.hours+t2.hours+h\n",
    "            l=t1.mins+t2.mins-m\n",
    "            t3=Spanoftime(k,l)\n",
    "            print(t1.hours, t2.hours)\n",
    "            return t3\n",
    "            \n",
    "        def returnMinutes(t1,t2):\n",
    "            # Return the total number of minutes\n",
    "            t=(t1.hours+t2.hours)*60+t1.mins+t2.mins\n",
    "            return t\n",
    "            \n",
    "        \n",
    "    t1=Spanoftime(a,b)\n",
    "    t2=Spanoftime(c,d)\n",
    "    t3=Spanoftime.addTime(t1,t2)\n",
    "    t3.displayTime()\n",
    "    totalmin=str(Spanoftime.returnMinutes(t1,t2))\n",
    "    return t3.displayTime(),(\"The total minutes in time t1 and t2 are: \" + totalmin)"
   ]
  },
  {
   "cell_type": "code",
   "execution_count": 37,
   "id": "fe68d1b9",
   "metadata": {},
   "outputs": [
    {
     "name": "stdout",
     "output_type": "stream",
     "text": [
      "1 2\n"
     ]
    },
    {
     "data": {
      "text/plain": [
       "('4 hours and 40 min', 'The total minutes in time t1 and t2 are: 280')"
      ]
     },
     "execution_count": 37,
     "metadata": {},
     "output_type": "execute_result"
    }
   ],
   "source": [
    "timeHandle(1,50,2,50)"
   ]
  },
  {
   "cell_type": "code",
   "execution_count": 22,
   "id": "21c52e81",
   "metadata": {},
   "outputs": [],
   "source": [
    "class Smaller:\n",
    "    def __init__(self,a):\n",
    "        self.string=a\n",
    "    \n",
    "    def display(self):\n",
    "        print(\"The type of Name is smaller\")\n",
    "    \n",
    "    def evaluate(self):\n",
    "        ans=0\n",
    "        for b in self.string:\n",
    "            if(b=='a') or(b=='A') or(b=='e') or(b=='E') or(b=='i') or(b=='I') or(b=='o') or(b=='O') or(b=='u') or(b=='U'):\n",
    "                ans+=1\n",
    "        # YOUR CODE GOES HERE\n",
    "        print(ans)\n",
    "        \n",
    "class Larger:\n",
    "    def __init__(self,a):\n",
    "        self.string=a\n",
    "    \n",
    "    def display(self):\n",
    "        print(\"The type of Name is larger\")\n",
    "    \n",
    "    def evaluate(self):\n",
    "        ans=0\n",
    "        \n",
    "        # YOUR CODE GOES HERE\n",
    "        for b in self.string:\n",
    "            s:\n",
    "                ans+=1\n",
    "        print(ans)\n",
    "\n",
    "def main(a):\n",
    "    '''\n",
    "    input a is string\n",
    "    '''\n",
    "    if len(a)<6:\n",
    "        obj=Smaller(a)\n",
    "        obj.display()\n",
    "        obj.evaluate()\n",
    "    else:\n",
    "        obj=Larger(a)\n",
    "        obj.display()\n",
    "        obj.evaluate()"
   ]
  },
  {
   "cell_type": "code",
   "execution_count": 23,
   "id": "5076d09a",
   "metadata": {},
   "outputs": [
    {
     "name": "stdout",
     "output_type": "stream",
     "text": [
      "The type of Name is larger\n",
      "6\n"
     ]
    }
   ],
   "source": [
    "main('amanrathore')"
   ]
  },
  {
   "cell_type": "code",
   "execution_count": 1,
   "id": "93eb6464",
   "metadata": {},
   "outputs": [
    {
     "name": "stdout",
     "output_type": "stream",
     "text": [
      "John\n"
     ]
    }
   ],
   "source": [
    "class People():\n",
    "    def __init__(self, name):\n",
    "        self.name = name\n",
    "\n",
    "    def get_name(self):\n",
    "        print(self.name)\n",
    "\n",
    "person1 = People(\"John\")\n",
    "person2 = People(\"Mary\")\n",
    "person1.get_name()"
   ]
  },
  {
   "cell_type": "code",
   "execution_count": 2,
   "id": "cac3818d",
   "metadata": {},
   "outputs": [
    {
     "name": "stdout",
     "output_type": "stream",
     "text": [
      "lose win\n"
     ]
    }
   ],
   "source": [
    "class football:\n",
    "    final_res= 'lose'\n",
    "    def __init__(self,name,score):\n",
    "        self.name = name\n",
    "        self.score = score\n",
    "        self.final_res = 'lose'\n",
    "    \n",
    "    def calc(self, winning_score):\n",
    "        if self.score>winning_score:\n",
    "            self.final_res='win'\n",
    "match = football('Juventus',3)\n",
    "match.calc(2)\n",
    "print(football.final_res, match.final_res)"
   ]
  },
  {
   "cell_type": "code",
   "execution_count": 6,
   "id": "abe44c7d",
   "metadata": {},
   "outputs": [
    {
     "name": "stdout",
     "output_type": "stream",
     "text": [
      "Emma 10 Machine Learning\n"
     ]
    }
   ],
   "source": [
    "class Student:\n",
    "  # Class variable\n",
    "  subject_name = 'Math for Machine Learning'\n",
    "\n",
    "  # constructor\n",
    "  def __init__(self, name, roll_no):\n",
    "    self.name = name\n",
    "    self.roll_no = roll_no\n",
    "\n",
    "  # create Objects\n",
    "s1 = Student('Emma', 10)\n",
    "Student.subject_name = 'Machine Learning'\n",
    "    #_____________________#blank1\n",
    "    #_____________________#blank2\n",
    "\n",
    "print(s1.name, s1.roll_no, s1.subject_name)"
   ]
  },
  {
   "cell_type": "code",
   "execution_count": 8,
   "id": "9e477748",
   "metadata": {},
   "outputs": [
    {
     "name": "stdout",
     "output_type": "stream",
     "text": [
      "[(True, 64), (False, 125), (True, 216)]\n"
     ]
    }
   ],
   "source": [
    "class solution:\n",
    "    def initial(self,sets):\n",
    "        return self.final(sets)\n",
    " \n",
    "    def final(self, sets):\n",
    "        return list(map(lambda x: ((x**3)%2==0,x**3),sets))\n",
    "\n",
    "print(solution().initial([4,5,6]))"
   ]
  },
  {
   "cell_type": "code",
   "execution_count": 12,
   "id": "20b5422e",
   "metadata": {},
   "outputs": [],
   "source": [
    "class Circle:\n",
    "    pi = 3.14\n",
    "    def __init__(self, diameter):\n",
    "        self.radius = diameter / 2\n",
    "        print(self.radius)\n",
    "\n",
    "    def circumference(self):\n",
    "        return 2 * self.pi * self.radius"
   ]
  },
  {
   "cell_type": "code",
   "execution_count": 13,
   "id": "9ad676ea",
   "metadata": {},
   "outputs": [
    {
     "name": "stdout",
     "output_type": "stream",
     "text": [
      "6.0\n",
      "37.68\n"
     ]
    }
   ],
   "source": [
    "pizza = Circle(12)\n",
    "print(pizza.circumference())"
   ]
  },
  {
   "cell_type": "code",
   "execution_count": 14,
   "id": "a0fdeb07",
   "metadata": {},
   "outputs": [
    {
     "ename": "AttributeError",
     "evalue": "'Employee' object has no attribute '__salary'",
     "output_type": "error",
     "traceback": [
      "\u001b[1;31m---------------------------------------------------------------------------\u001b[0m",
      "\u001b[1;31mAttributeError\u001b[0m                            Traceback (most recent call last)",
      "Input \u001b[1;32mIn [14]\u001b[0m, in \u001b[0;36m<cell line: 11>\u001b[1;34m()\u001b[0m\n\u001b[0;32m      7\u001b[0m         \u001b[38;5;28mself\u001b[39m\u001b[38;5;241m.\u001b[39m__salary\u001b[38;5;241m=\u001b[39mval\n\u001b[0;32m      9\u001b[0m e1\u001b[38;5;241m=\u001b[39mEmployee(\u001b[38;5;124m\"\u001b[39m\u001b[38;5;124mRahul\u001b[39m\u001b[38;5;124m\"\u001b[39m,\u001b[38;5;241m200\u001b[39m)\n\u001b[1;32m---> 11\u001b[0m \u001b[38;5;28mprint\u001b[39m(\u001b[43me1\u001b[49m\u001b[38;5;241;43m.\u001b[39;49m\u001b[43m__salary\u001b[49m)\n",
      "\u001b[1;31mAttributeError\u001b[0m: 'Employee' object has no attribute '__salary'"
     ]
    }
   ],
   "source": [
    "class Employee:\n",
    "\n",
    "    def __init__(self, name, val):\n",
    "\n",
    "        self.__name=name\n",
    "\n",
    "        self.__salary=val\n",
    "\n",
    "e1=Employee(\"Rahul\",200)\n",
    "\n",
    "print(e1.__salary)"
   ]
  },
  {
   "cell_type": "code",
   "execution_count": 15,
   "id": "d9295df8",
   "metadata": {},
   "outputs": [
    {
     "name": "stdout",
     "output_type": "stream",
     "text": [
      "200\n"
     ]
    }
   ],
   "source": [
    "class Employee:\n",
    "\n",
    "    def __init__(self, name, val):\n",
    "\n",
    "        self._name=name\n",
    "\n",
    "        self._salary=val\n",
    "\n",
    "e1=Employee(\"Rahul\",200)\n",
    "\n",
    "print(e1._salary)"
   ]
  },
  {
   "cell_type": "code",
   "execution_count": 16,
   "id": "2109fbc3",
   "metadata": {},
   "outputs": [
    {
     "ename": "AttributeError",
     "evalue": "'Employee' object has no attribute 'salary'",
     "output_type": "error",
     "traceback": [
      "\u001b[1;31m---------------------------------------------------------------------------\u001b[0m",
      "\u001b[1;31mAttributeError\u001b[0m                            Traceback (most recent call last)",
      "Input \u001b[1;32mIn [16]\u001b[0m, in \u001b[0;36m<cell line: 11>\u001b[1;34m()\u001b[0m\n\u001b[0;32m      7\u001b[0m         \u001b[38;5;28mself\u001b[39m\u001b[38;5;241m.\u001b[39m_salary\u001b[38;5;241m=\u001b[39mval\n\u001b[0;32m      9\u001b[0m e1\u001b[38;5;241m=\u001b[39mEmployee(\u001b[38;5;124m\"\u001b[39m\u001b[38;5;124mRahul\u001b[39m\u001b[38;5;124m\"\u001b[39m,\u001b[38;5;241m200\u001b[39m)\n\u001b[1;32m---> 11\u001b[0m \u001b[38;5;28mprint\u001b[39m(\u001b[43me1\u001b[49m\u001b[38;5;241;43m.\u001b[39;49m\u001b[43msalary\u001b[49m)\n",
      "\u001b[1;31mAttributeError\u001b[0m: 'Employee' object has no attribute 'salary'"
     ]
    }
   ],
   "source": [
    "class Employee:\n",
    "\n",
    "    def __init__(self, name, val):\n",
    "\n",
    "        self._name=name\n",
    "\n",
    "        self._salary=val\n",
    "\n",
    "e1=Employee(\"Rahul\",200)\n",
    "\n",
    "print(e1.salary)"
   ]
  },
  {
   "cell_type": "code",
   "execution_count": 17,
   "id": "fa5091c6",
   "metadata": {},
   "outputs": [
    {
     "name": "stdout",
     "output_type": "stream",
     "text": [
      "13\n"
     ]
    }
   ],
   "source": [
    "class fruits:\n",
    "    def __init__(self, price):\n",
    "        self.price = price\n",
    "\n",
    "obj=fruits(50)\n",
    "obj.quantity=10\n",
    "obj.bags=2\n",
    "\n",
    "print(obj.quantity+len(obj.__dict__))"
   ]
  },
  {
   "cell_type": "code",
   "execution_count": 18,
   "id": "945b33f6",
   "metadata": {},
   "outputs": [
    {
     "data": {
      "text/plain": [
       "{'price': 50, 'quantity': 10, 'bags': 2}"
      ]
     },
     "execution_count": 18,
     "metadata": {},
     "output_type": "execute_result"
    }
   ],
   "source": [
    "obj.__dict__"
   ]
  },
  {
   "cell_type": "code",
   "execution_count": 19,
   "id": "8c36977d",
   "metadata": {},
   "outputs": [
    {
     "name": "stdout",
     "output_type": "stream",
     "text": [
      "Roll: 34 Marks: A None Age: 17\n"
     ]
    }
   ],
   "source": [
    "class Student:\n",
    "    def __init__(self,roll,marks):\n",
    "        self.roll = roll\n",
    "        self.marks=marks\n",
    "    def display(self):\n",
    "        print('Roll:', self.roll,'Marks:',self.marks, end=\" \")\n",
    "\n",
    "student1= Student(34,'A')\n",
    "student1.age=17\n",
    "print(student1.display(), 'Age:',student1.age)"
   ]
  },
  {
   "cell_type": "code",
   "execution_count": 21,
   "id": "f8f19036",
   "metadata": {},
   "outputs": [
    {
     "name": "stdout",
     "output_type": "stream",
     "text": [
      "Emma 10 Machine Learning\n"
     ]
    }
   ],
   "source": [
    "class Student:\n",
    "  # Class variable\n",
    "  subject_name = 'Math for Machine Learning'\n",
    "\n",
    "  # constructor\n",
    "  def __init__(self, name, roll_no):\n",
    "    self.name = name\n",
    "    self.roll_no = roll_no\n",
    "\n",
    "  # create Objects\n",
    "    #_____________________#blank1\n",
    "    #_____________________#blank2\n",
    "    s1 = Student('Emma', 10)\n",
    "    s1.subject_name = 'Machine Learning'\n",
    "\n",
    "print(s1.name, s1.roll_no, s1.subject_name)"
   ]
  },
  {
   "cell_type": "code",
   "execution_count": 22,
   "id": "1f32db87",
   "metadata": {},
   "outputs": [
    {
     "name": "stdout",
     "output_type": "stream",
     "text": [
      "Name: Sanjay Club: Real Madrid Sports: Football Name: Ravi Club: United Sports: Tennis "
     ]
    }
   ],
   "source": [
    "class Player:\n",
    "    \n",
    "  # class variables\n",
    "    club = 'United'\n",
    "    sport = 'Football'\n",
    "\n",
    "    def __init__(self, name):\n",
    "    # Instance variable\n",
    "        self.name = name\n",
    "\n",
    "\n",
    "    def show(self):\n",
    "        print('Name:', self.name, 'Club:', self.club, 'Sports:', self.sport, end=\" \")\n",
    "\n",
    "p1 = Player('Sanjay')\n",
    "p1.club = 'Real Madrid'\n",
    "p1.show()\n",
    "\n",
    "p2 = Player('Ravi')\n",
    "p2.sport = 'Tennis'\n",
    "p2.show()"
   ]
  },
  {
   "cell_type": "code",
   "execution_count": 24,
   "id": "093ae6eb",
   "metadata": {},
   "outputs": [
    {
     "name": "stdout",
     "output_type": "stream",
     "text": [
      "c\n",
      "B\n"
     ]
    }
   ],
   "source": [
    "class A:\n",
    "    def one(self):\n",
    "        print(\"c\")\n",
    "        return self.two()\n",
    "    def two(self):\n",
    "        return 'A'\n",
    "class B(A):\n",
    "    def two(self):\n",
    "        return 'B'\n",
    "obj= B()\n",
    "print(obj.one())"
   ]
  },
  {
   "cell_type": "code",
   "execution_count": 25,
   "id": "d9201584",
   "metadata": {},
   "outputs": [
    {
     "name": "stdout",
     "output_type": "stream",
     "text": [
      "5\n",
      "4\n"
     ]
    }
   ],
   "source": [
    "try:\n",
    "    print(a)\n",
    "except ValueError:\n",
    "    a=3\n",
    "    print(a)\n",
    "except:\n",
    "    a=5\n",
    "    print(a)\n",
    "finally:\n",
    "    a=4\n",
    "    print(a)"
   ]
  },
  {
   "cell_type": "code",
   "execution_count": 1,
   "id": "1e8549fd",
   "metadata": {},
   "outputs": [
    {
     "ename": "NameError",
     "evalue": "name 'a' is not defined",
     "output_type": "error",
     "traceback": [
      "\u001b[1;31m---------------------------------------------------------------------------\u001b[0m",
      "\u001b[1;31mNameError\u001b[0m                                 Traceback (most recent call last)",
      "Input \u001b[1;32mIn [1]\u001b[0m, in \u001b[0;36m<cell line: 1>\u001b[1;34m()\u001b[0m\n\u001b[1;32m----> 1\u001b[0m \u001b[38;5;28mprint\u001b[39m(\u001b[43ma\u001b[49m)\n",
      "\u001b[1;31mNameError\u001b[0m: name 'a' is not defined"
     ]
    }
   ],
   "source": [
    " print(a)"
   ]
  },
  {
   "cell_type": "code",
   "execution_count": 1,
   "id": "80cf2508",
   "metadata": {},
   "outputs": [
    {
     "name": "stdout",
     "output_type": "stream",
     "text": [
      "3\n",
      "4\n"
     ]
    }
   ],
   "source": [
    "try:\n",
    "  print(a)\n",
    "except NameError:\n",
    "  a=3\n",
    "  print(a)\n",
    "except:\n",
    "  a=5\n",
    "  print(a)\n",
    "finally:\n",
    "  a=4\n",
    "  print(a)"
   ]
  },
  {
   "cell_type": "code",
   "execution_count": 3,
   "id": "df140029",
   "metadata": {},
   "outputs": [
    {
     "data": {
      "text/plain": [
       "5"
      ]
     },
     "execution_count": 3,
     "metadata": {},
     "output_type": "execute_result"
    }
   ],
   "source": [
    "import random\n",
    "random.randint(3, 6)"
   ]
  },
  {
   "cell_type": "code",
   "execution_count": 42,
   "id": "b9338af2",
   "metadata": {},
   "outputs": [
    {
     "data": {
      "text/plain": [
       "4"
      ]
     },
     "execution_count": 42,
     "metadata": {},
     "output_type": "execute_result"
    }
   ],
   "source": [
    "random.randint(3, 6)"
   ]
  },
  {
   "cell_type": "code",
   "execution_count": 31,
   "id": "f223be99",
   "metadata": {},
   "outputs": [
    {
     "data": {
      "text/plain": [
       "6"
      ]
     },
     "execution_count": 31,
     "metadata": {},
     "output_type": "execute_result"
    }
   ],
   "source": [
    "random.choice([3, 6])"
   ]
  },
  {
   "cell_type": "code",
   "execution_count": 39,
   "id": "717ac85a",
   "metadata": {},
   "outputs": [
    {
     "data": {
      "text/plain": [
       "4"
      ]
     },
     "execution_count": 39,
     "metadata": {},
     "output_type": "execute_result"
    }
   ],
   "source": [
    "random.randrange(3, 6)"
   ]
  },
  {
   "cell_type": "code",
   "execution_count": 6,
   "id": "531cc4dc",
   "metadata": {},
   "outputs": [
    {
     "data": {
      "text/plain": [
       "3"
      ]
     },
     "execution_count": 6,
     "metadata": {},
     "output_type": "execute_result"
    }
   ],
   "source": [
    "3 + random.randrange(3)"
   ]
  },
  {
   "cell_type": "code",
   "execution_count": 7,
   "id": "de12b9e9",
   "metadata": {},
   "outputs": [
    {
     "data": {
      "text/plain": [
       "4"
      ]
     },
     "execution_count": 7,
     "metadata": {},
     "output_type": "execute_result"
    }
   ],
   "source": [
    "3 + random.randrange(4)"
   ]
  },
  {
   "cell_type": "code",
   "execution_count": 49,
   "id": "34f9b9ba",
   "metadata": {},
   "outputs": [
    {
     "data": {
      "text/plain": [
       "1"
      ]
     },
     "execution_count": 49,
     "metadata": {},
     "output_type": "execute_result"
    }
   ],
   "source": [
    "random.randrange(4)"
   ]
  },
  {
   "cell_type": "code",
   "execution_count": 45,
   "id": "e10d7588",
   "metadata": {},
   "outputs": [
    {
     "name": "stdout",
     "output_type": "stream",
     "text": [
      "C\n"
     ]
    }
   ],
   "source": [
    "\n",
    "x = \"WELCOME\"\n",
    "\n",
    "print(random.choice(x)) "
   ]
  },
  {
   "cell_type": "code",
   "execution_count": 1,
   "id": "f956113f",
   "metadata": {},
   "outputs": [
    {
     "name": "stdout",
     "output_type": "stream",
     "text": [
      "Variable x is not defined\n"
     ]
    }
   ],
   "source": [
    "try:\n",
    "    print(x)\n",
    "except NameError:                       #1\n",
    "      print(\"Variable x is not defined\")\n",
    "except:                                 #2\n",
    "      print(\"Something else went wrong\")"
   ]
  },
  {
   "cell_type": "code",
   "execution_count": 2,
   "id": "27e2dd1d",
   "metadata": {},
   "outputs": [],
   "source": [
    " from math import factorial\n",
    "  "
   ]
  },
  {
   "cell_type": "code",
   "execution_count": 4,
   "id": "00c3290c",
   "metadata": {},
   "outputs": [
    {
     "name": "stdout",
     "output_type": "stream",
     "text": [
      "120\n"
     ]
    }
   ],
   "source": [
    "print(factorial(5))"
   ]
  },
  {
   "cell_type": "code",
   "execution_count": 1,
   "id": "6043edff",
   "metadata": {},
   "outputs": [
    {
     "name": "stdout",
     "output_type": "stream",
     "text": [
      "Enter a number3\n"
     ]
    }
   ],
   "source": [
    "try:\n",
    "    n=int(input(\"Enter a number\"))\n",
    "    while 100%n==0:\n",
    "        print(\"Good\")\n",
    "    \n",
    "except ValueError:\n",
    "    print(\"Invalid\")"
   ]
  },
  {
   "cell_type": "code",
   "execution_count": 3,
   "id": "54e8034f",
   "metadata": {},
   "outputs": [
    {
     "name": "stdout",
     "output_type": "stream",
     "text": [
      "Enter a number3\n"
     ]
    }
   ],
   "source": [
    "n=int(input(\"Enter a number\"))"
   ]
  },
  {
   "cell_type": "code",
   "execution_count": 4,
   "id": "aca43cda",
   "metadata": {},
   "outputs": [
    {
     "name": "stdout",
     "output_type": "stream",
     "text": [
      "integer\n",
      "integer\n"
     ]
    }
   ],
   "source": [
    "def even(x):\n",
    "    try:\n",
    "        if x%2==0:\n",
    "              return \"even\"\n",
    "        else:\n",
    "              raise Exception\n",
    "    except:\n",
    "        return(\"odd\")\n",
    "    finally:\n",
    "        return \"integer\"\n",
    "\n",
    "print(even(5))    #A\n",
    "print(even(4))    #B"
   ]
  },
  {
   "cell_type": "code",
   "execution_count": 4,
   "id": "5fd4ca90",
   "metadata": {},
   "outputs": [
    {
     "ename": "IndentationError",
     "evalue": "expected an indented block (2761678072.py, line 25)",
     "output_type": "error",
     "traceback": [
      "\u001b[1;36m  Input \u001b[1;32mIn [4]\u001b[1;36m\u001b[0m\n\u001b[1;33m    class Unsupervised(MachineLearning):\u001b[0m\n\u001b[1;37m                                        ^\u001b[0m\n\u001b[1;31mIndentationError\u001b[0m\u001b[1;31m:\u001b[0m expected an indented block\n"
     ]
    }
   ],
   "source": [
    "class MachineLearning:\n",
    "    \n",
    "    def __init__(self,name,category):\n",
    "        self.name=name\n",
    "        self.category=category\n",
    "        \n",
    "    def getname(self):\n",
    "        return self.name\n",
    "        \n",
    "    def getcategory(self):\n",
    "        return self.category\n",
    "        \n",
    "    def print(self):\n",
    "        print(\"Name:\",self.name)\n",
    "        print(\"Category:\",self.category)\n",
    "\n",
    "\n",
    "class Supervised(MachineLearning):\n",
    "    def __init__(self,name,category):\n",
    "        super().__init__(name, category)\n",
    "    \n",
    "    def type(self):\n",
    "        #YOUR CODE GOES HERE\n",
    "\n",
    "class Unsupervised(MachineLearning):\n",
    "    def __init__(self,name,category):\n",
    "        super().__init__(name, category)\n",
    "    \n",
    "    def type(self):\n",
    "        #YOUR CODE GOES HERE\n",
    "\n",
    "def mlAnalogy(a,b,c,d):\n",
    "    '''\n",
    "    input=> a,b = name and category for Supervised class\n",
    "            c,d = name and category for Unsupervised class\n",
    "    output=> type() is called for both classes in the end, it should first print the Name and Category then the type of class in new lines\n",
    "    '''\n",
    "    \n",
    "    obj1=Supervised(a,b)\n",
    "    obj1.type()\n",
    "    obj2=Unsupervised(c,d)\n",
    "    obj2.type()\n",
    "\n",
    "    return None"
   ]
  },
  {
   "cell_type": "code",
   "execution_count": 29,
   "id": "17136f68",
   "metadata": {},
   "outputs": [],
   "source": [
    "class MachineLearning:\n",
    "    \n",
    "    def __init__(self,name,category):\n",
    "        self.name=name\n",
    "        self.category=category\n",
    "    def getname(self):\n",
    "        return self.name\n",
    "        \n",
    "    def getcategory(self):\n",
    "        return self.category\n",
    "\n",
    "    def print(self):\n",
    "        print(\"Name:\",self.name)\n",
    "        print(\"Category:\",self.category)\n",
    "\n",
    "         \n",
    "class Supervised(MachineLearning):\n",
    "    def __init__(self,name,category):\n",
    "        super().__init__(name, category)\n",
    "    \n",
    "    def type(self):\n",
    "        MachineLearning.print(self)\n",
    "        if self.category==\"Classification Algo\" or self.category==\"Regression algo\":\n",
    "            print(\"Supervised Learning Algorithm\")\n",
    "            \n",
    "        \n",
    "class Unsupervised(MachineLearning):\n",
    "    def __init__(self,name,category):\n",
    "        super().__init__(name, category)\n",
    "    \n",
    "    def type(self):\n",
    "        MachineLearning.print(self)\n",
    "        if self.category==\"Clustering Algo\" or self.category==\"classification  algo\":\n",
    "            print(\"Unsupervised Learning Algorithm\")\n",
    "\n",
    "def mlAnalogy(a,b,c,d):\n",
    "    '''\n",
    "    input=> a,b = name and category for Supervised class\n",
    "            c,d = name and category for Unsupervised class\n",
    "    output=> type() is called for both classes in the end, it should first print the Name and Category then the type of class in new lines\n",
    "    '''\n",
    "    \n",
    "    obj1=Supervised(a,b)\n",
    "    obj1.type()\n",
    "    obj2=Unsupervised(c,d)\n",
    "    obj2.type()\n",
    "\n",
    "    return None"
   ]
  },
  {
   "cell_type": "code",
   "execution_count": 30,
   "id": "26e8f833",
   "metadata": {},
   "outputs": [
    {
     "name": "stdout",
     "output_type": "stream",
     "text": [
      "Name: Logistic Regression\n",
      "Category: Classification Algo\n",
      "Supervised Learning Algorithm\n",
      "Name: k-Means\n",
      "Category: Clustering Algo\n",
      "Unsupervised Learning Algorithm\n"
     ]
    }
   ],
   "source": [
    "mlAnalogy('Logistic Regression','Classification Algo','k-Means','Clustering Algo')"
   ]
  },
  {
   "cell_type": "code",
   "execution_count": null,
   "id": "1406eda2",
   "metadata": {},
   "outputs": [],
   "source": [
    "    \n",
    "\"\"\"\n",
    "  a is list, b is string, c is integer\n",
    "  return the exception in msg \n",
    "\"\"\" "
   ]
  },
  {
   "cell_type": "code",
   "execution_count": 9,
   "id": "c4060df1",
   "metadata": {},
   "outputs": [],
   "source": [
    "import numpy as np\n",
    "def calc(a,b,c):\n",
    "    try:\n",
    "        print(len(a))\n",
    "        if (len(a)==0) : raise Exception\n",
    "        if not (b==\"Percentile\" or b== \"Quantile\"): raise Exception\n",
    "        if b==\"Percentile\":\n",
    "            print(\"Percentile\")\n",
    "            n=np.percentile(a,c)\n",
    "           \n",
    "        if b==\"Quantile\":\n",
    "            print(\"Quantile\")\n",
    "            n=np.quantile(a,c)\n",
    "    except ( Exception) as e:\n",
    "            #YOUR CODE GOES HERE\n",
    "        if(len(a)==0):\n",
    "            print(\"Null value passed\") \n",
    "        else: \n",
    "            print(\"Formula Error: Wrong Formula\")   \n",
    "\n",
    "    else:\n",
    "        print(n)\n"
   ]
  },
  {
   "cell_type": "code",
   "execution_count": 10,
   "id": "1bb2ddb3",
   "metadata": {},
   "outputs": [
    {
     "name": "stdout",
     "output_type": "stream",
     "text": [
      "0\n",
      "Null value passed\n"
     ]
    }
   ],
   "source": [
    "calc([], \"Percentile\",.75)"
   ]
  },
  {
   "cell_type": "code",
   "execution_count": 106,
   "id": "616f65e8",
   "metadata": {},
   "outputs": [
    {
     "name": "stdout",
     "output_type": "stream",
     "text": [
      "Sorry ! You are dividing by zero \n"
     ]
    }
   ],
   "source": [
    "def divide(x, y):\n",
    "    try:\n",
    "        # Floor Division : Gives only Fractional Part as Answer\n",
    "        result = x // y\n",
    "        print(\"Yeah ! Your answer is :\", result)\n",
    "    except ZeroDivisionError:\n",
    "        print(\"Sorry ! You are dividing by zero \")\n",
    " \n",
    "# Look at parameters and note the working of Program\n",
    "divide(3, 0)"
   ]
  },
  {
   "cell_type": "code",
   "execution_count": 13,
   "id": "5bb83e03",
   "metadata": {},
   "outputs": [
    {
     "name": "stdout",
     "output_type": "stream",
     "text": [
      "5 5 5 5 5 \n",
      "5 4 4 4 5 \n",
      "5 4 3 4 5 \n",
      "5 4 4 4 5 \n",
      "5 5 5 5 5 \n"
     ]
    }
   ],
   "source": [
    "n=5\n",
    "for i in range(n):\n",
    "    for j in range(n):\n",
    "        print(max(i,j,n-1-i,n-1-j)+1, end=\" \")\n",
    "        \n",
    "    print(end=\"\\n\")"
   ]
  },
  {
   "cell_type": "code",
   "execution_count": 2,
   "id": "9a02a187",
   "metadata": {},
   "outputs": [
    {
     "name": "stdout",
     "output_type": "stream",
     "text": [
      "49\n",
      "3\n",
      "15\n",
      "31\n",
      "84\n",
      "39\n",
      "4\n",
      "11\n",
      "78\n",
      "10\n",
      "94\n",
      "99\n",
      "36\n",
      "93\n",
      "67\n",
      "20\n",
      "60\n",
      "46\n",
      "32\n",
      "14\n",
      "81\n",
      "28\n",
      "30\n",
      "6\n",
      "34\n",
      "90\n",
      "23\n",
      "45\n",
      "79\n",
      "64\n",
      "56\n",
      "47\n",
      "21\n",
      "33\n",
      "16\n",
      "29\n",
      "65\n",
      "35\n",
      "17\n",
      "83\n",
      "62\n",
      "5\n",
      "7\n",
      "87\n",
      "44\n",
      "82\n",
      "9\n",
      "72\n",
      "19\n",
      "0\n",
      "70\n",
      "97\n",
      "2\n",
      "54\n",
      "41\n",
      "96\n",
      "55\n",
      "40\n",
      "24\n",
      "61\n",
      "77\n",
      "98\n",
      "38\n",
      "68\n",
      "12\n",
      "58\n",
      "71\n",
      "22\n",
      "48\n",
      "66\n",
      "95\n",
      "50\n",
      "74\n",
      "63\n",
      "89\n",
      "76\n",
      "51\n",
      "86\n",
      "88\n",
      "69\n",
      "13\n",
      "85\n",
      "57\n",
      "27\n",
      "8\n",
      "59\n",
      "75\n",
      "92\n",
      "37\n",
      "53\n",
      "80\n",
      "26\n",
      "52\n",
      "73\n",
      "42\n",
      "91\n",
      "25\n",
      "1\n",
      "18\n",
      "43\n"
     ]
    }
   ],
   "source": [
    "import random\n",
    "\n",
    "array = list(range(100))\n",
    "random.shuffle(array)\n",
    "while len(array) != 0:\n",
    "      print(array.pop())"
   ]
  },
  {
   "cell_type": "code",
   "execution_count": 3,
   "id": "68e91958",
   "metadata": {},
   "outputs": [
    {
     "name": "stdout",
     "output_type": "stream",
     "text": [
      "2.72\n"
     ]
    }
   ],
   "source": [
    "import math\n",
    "result = 1\n",
    "for i in range(1,7):\n",
    "     result += 1/(math.factorial(i))#blank1\n",
    "print(round(result,2))"
   ]
  },
  {
   "cell_type": "code",
   "execution_count": 6,
   "id": "59629a99",
   "metadata": {},
   "outputs": [
    {
     "name": "stdout",
     "output_type": "stream",
     "text": [
      "2.49\n"
     ]
    }
   ],
   "source": [
    "import math\n",
    "result = 1\n",
    "for i in range(1,7):\n",
    "     result += 1/(math.pow(i,2))#blank1\n",
    "print(round(result,2))"
   ]
  },
  {
   "cell_type": "code",
   "execution_count": 7,
   "id": "d39883b5",
   "metadata": {},
   "outputs": [],
   "source": [
    "import math\n",
    "import numpy as np\n",
    "a=[1,2,3,45]"
   ]
  },
  {
   "cell_type": "code",
   "execution_count": 8,
   "id": "3d954d7b",
   "metadata": {},
   "outputs": [
    {
     "ename": "NameError",
     "evalue": "name 'numpy' is not defined",
     "output_type": "error",
     "traceback": [
      "\u001b[1;31m---------------------------------------------------------------------------\u001b[0m",
      "\u001b[1;31mNameError\u001b[0m                                 Traceback (most recent call last)",
      "Input \u001b[1;32mIn [8]\u001b[0m, in \u001b[0;36m<cell line: 1>\u001b[1;34m()\u001b[0m\n\u001b[1;32m----> 1\u001b[0m \u001b[43mnumpy\u001b[49m\u001b[38;5;241m.\u001b[39mmean(a) \u001b[38;5;129;01mand\u001b[39;00m numpy\u001b[38;5;241m.\u001b[39mstd(a)\n",
      "\u001b[1;31mNameError\u001b[0m: name 'numpy' is not defined"
     ]
    }
   ],
   "source": [
    "numpy.mean(a) and numpy.std(a)"
   ]
  },
  {
   "cell_type": "code",
   "execution_count": 11,
   "id": "ae4e0621",
   "metadata": {},
   "outputs": [
    {
     "data": {
      "text/plain": [
       "12.75"
      ]
     },
     "execution_count": 11,
     "metadata": {},
     "output_type": "execute_result"
    }
   ],
   "source": [
    "np.mean(a)  "
   ]
  },
  {
   "cell_type": "code",
   "execution_count": 12,
   "id": "252732c0",
   "metadata": {},
   "outputs": [
    {
     "data": {
      "text/plain": [
       "18.632968094214082"
      ]
     },
     "execution_count": 12,
     "metadata": {},
     "output_type": "execute_result"
    }
   ],
   "source": [
    "np.std(a)"
   ]
  },
  {
   "cell_type": "code",
   "execution_count": 13,
   "id": "0d84407f",
   "metadata": {},
   "outputs": [
    {
     "ename": "AttributeError",
     "evalue": "module 'math' has no attribute 'mean'",
     "output_type": "error",
     "traceback": [
      "\u001b[1;31m---------------------------------------------------------------------------\u001b[0m",
      "\u001b[1;31mAttributeError\u001b[0m                            Traceback (most recent call last)",
      "Input \u001b[1;32mIn [13]\u001b[0m, in \u001b[0;36m<cell line: 1>\u001b[1;34m()\u001b[0m\n\u001b[1;32m----> 1\u001b[0m \u001b[43mmath\u001b[49m\u001b[38;5;241;43m.\u001b[39;49m\u001b[43mmean\u001b[49m(a)\n",
      "\u001b[1;31mAttributeError\u001b[0m: module 'math' has no attribute 'mean'"
     ]
    }
   ],
   "source": [
    "math.mean(a) "
   ]
  },
  {
   "cell_type": "code",
   "execution_count": 14,
   "id": "d02c4efb",
   "metadata": {},
   "outputs": [
    {
     "ename": "AttributeError",
     "evalue": "module 'math' has no attribute 'std'",
     "output_type": "error",
     "traceback": [
      "\u001b[1;31m---------------------------------------------------------------------------\u001b[0m",
      "\u001b[1;31mAttributeError\u001b[0m                            Traceback (most recent call last)",
      "Input \u001b[1;32mIn [14]\u001b[0m, in \u001b[0;36m<cell line: 1>\u001b[1;34m()\u001b[0m\n\u001b[1;32m----> 1\u001b[0m \u001b[43mmath\u001b[49m\u001b[38;5;241;43m.\u001b[39;49m\u001b[43mstd\u001b[49m(a)\n",
      "\u001b[1;31mAttributeError\u001b[0m: module 'math' has no attribute 'std'"
     ]
    }
   ],
   "source": [
    "math.std(a)"
   ]
  },
  {
   "cell_type": "code",
   "execution_count": 17,
   "id": "1405748e",
   "metadata": {},
   "outputs": [
    {
     "name": "stdout",
     "output_type": "stream",
     "text": [
      "Enter your name: fig\n",
      "Error occured : Name cannot have less than  5 characters\n"
     ]
    }
   ],
   "source": [
    "try:\n",
    "    name = input(\"Enter your name: \")\n",
    "    if len(name) < 5:\n",
    "        raise Exception(\"Name cannot have less than  5 characters\")\n",
    "    elif len(name)==5: \n",
    "        raise Exception(\"Name should have more than five characters\")\n",
    "\n",
    "except Exception as e:\n",
    "    print(\"Error occured :\",e)"
   ]
  },
  {
   "cell_type": "code",
   "execution_count": 18,
   "id": "ed896783",
   "metadata": {},
   "outputs": [],
   "source": [
    "class Props:\n",
    "    def __init__(self, x, y):\n",
    "        self.x = x\n",
    "        self.y = y"
   ]
  },
  {
   "cell_type": "code",
   "execution_count": 25,
   "id": "49ddb2b8",
   "metadata": {},
   "outputs": [],
   "source": [
    "class Ball(Props):\n",
    "    def __init__(self, x, y):\n",
    "        super().__init__(x, y)\n",
    "        self.shape = \"o\"\n",
    "        self.number = 1\n",
    "        self.vely = 0\n",
    "        self.velx = 0\n",
    "\n",
    "    def get_x(self):\n",
    "        return self.x\n",
    " \n",
    "    def get_y(self):\n",
    "        return self.y\n",
    "\n",
    "    def get_velx(self):\n",
    "        return self.velx\n",
    " \n",
    "    def get_vely(self):\n",
    "        return self.vely\n",
    "    \n",
    "    def inc_velx(self):\n",
    "        self.velx = self.velx+2\n",
    "    \n",
    "    def inc_vely(self):\n",
    "        self.vely = self.vely+1"
   ]
  },
  {
   "cell_type": "code",
   "execution_count": 27,
   "id": "2939f070",
   "metadata": {},
   "outputs": [
    {
     "name": "stdout",
     "output_type": "stream",
     "text": [
      "27 3 0 0\n"
     ]
    }
   ],
   "source": [
    "obj_ball = Ball(27,3)\n",
    "\n",
    "bx = obj_ball.get_x()\n",
    "by = obj_ball.get_y()\n",
    "b_velx = obj_ball.get_velx()\n",
    "b_vely = obj_ball.get_vely()\n",
    "obj_ball.inc_velx()\n",
    "print(bx, by, b_velx, b_vely)"
   ]
  },
  {
   "cell_type": "code",
   "execution_count": 29,
   "id": "b47235ce",
   "metadata": {},
   "outputs": [
    {
     "data": {
      "text/plain": [
       "4"
      ]
     },
     "execution_count": 29,
     "metadata": {},
     "output_type": "execute_result"
    }
   ],
   "source": [
    "obj_ball.inc_velx()\n",
    "obj_ball.velx"
   ]
  },
  {
   "cell_type": "code",
   "execution_count": 30,
   "id": "244e86f2",
   "metadata": {},
   "outputs": [
    {
     "name": "stdout",
     "output_type": "stream",
     "text": [
      "Rachel says, Grrrr!\n"
     ]
    }
   ],
   "source": [
    "class A:\n",
    "    def __init__(self, name, sound=\"Grrrr\"):\n",
    "        self.name = name\n",
    "        self.sound = sound\n",
    "\n",
    "    def make_noise(self):\n",
    "        print(\"{} says, {}\".format(self.name,self.sound))\n",
    "\n",
    "class B(A):\n",
    "    def __init__(self, name=\"Rachel\"):\n",
    "        super().__init__(name, \"Meow!\")\n",
    "\n",
    "    def make_noise(self,sound=\"Grrrr!\"):\n",
    "        print(\"{} says, {}\".format(self.name, sound))\n",
    "\n",
    "pet_cat = B()\n",
    "pet_cat.make_noise()"
   ]
  },
  {
   "cell_type": "code",
   "execution_count": 31,
   "id": "72225414",
   "metadata": {},
   "outputs": [
    {
     "name": "stdout",
     "output_type": "stream",
     "text": [
      "AI's check ML's check "
     ]
    }
   ],
   "source": [
    "class AI:\n",
    "    def check(self):\n",
    "        return \"AI's check\"\n",
    "    def display(self):\n",
    "        print(self.check(),end=\" \")\n",
    "\n",
    "class ML(AI):\n",
    "    def check(self):\n",
    "        return \"ML's check\"\n",
    "\n",
    "AI().display()\n",
    "ML().display()"
   ]
  },
  {
   "cell_type": "code",
   "execution_count": 7,
   "id": "8918f136",
   "metadata": {},
   "outputs": [],
   "source": [
    "arr =[64, 34, 25, 12, 22, 11, 90]"
   ]
  },
  {
   "cell_type": "code",
   "execution_count": 2,
   "id": "86fb093b",
   "metadata": {},
   "outputs": [
    {
     "data": {
      "text/plain": [
       "7"
      ]
     },
     "execution_count": 2,
     "metadata": {},
     "output_type": "execute_result"
    }
   ],
   "source": [
    "n=len(arr)\n",
    "n"
   ]
  },
  {
   "cell_type": "code",
   "execution_count": 8,
   "id": "0a8d63f2",
   "metadata": {},
   "outputs": [
    {
     "data": {
      "text/plain": [
       "[12, 25, 34, 64, 22, 11, 90]"
      ]
     },
     "execution_count": 8,
     "metadata": {},
     "output_type": "execute_result"
    }
   ],
   "source": [
    "\n",
    "for i in range(k-1):\n",
    "    for j in range(k-i-1):\n",
    "        if arr[j]>arr[j+1]:\n",
    "            arr[j],arr[j+1]=arr[j+1], arr[j]\n",
    "arr    "
   ]
  },
  {
   "cell_type": "code",
   "execution_count": 12,
   "id": "ba0c64b3",
   "metadata": {},
   "outputs": [
    {
     "data": {
      "text/plain": [
       "102"
      ]
     },
     "execution_count": 12,
     "metadata": {},
     "output_type": "execute_result"
    }
   ],
   "source": [
    "res=arr[0]+arr[-1]\n",
    "res"
   ]
  },
  {
   "cell_type": "code",
   "execution_count": 9,
   "id": "bbf404b6",
   "metadata": {},
   "outputs": [
    {
     "data": {
      "text/plain": [
       "90"
      ]
     },
     "execution_count": 9,
     "metadata": {},
     "output_type": "execute_result"
    }
   ],
   "source": [
    "arr[-1]"
   ]
  },
  {
   "cell_type": "code",
   "execution_count": 1,
   "id": "d1795042",
   "metadata": {},
   "outputs": [
    {
     "name": "stdout",
     "output_type": "stream",
     "text": [
      "1\n",
      "3\n",
      "5\n"
     ]
    }
   ],
   "source": [
    "i=0\n",
    "n=5\n",
    "\n",
    "while(i<n):\n",
    "    i+=1\n",
    "    if(i%2!=0):\n",
    "        print(i)"
   ]
  },
  {
   "cell_type": "code",
   "execution_count": 2,
   "id": "ba50fdff",
   "metadata": {},
   "outputs": [
    {
     "data": {
      "text/plain": [
       "0"
      ]
     },
     "execution_count": 2,
     "metadata": {},
     "output_type": "execute_result"
    }
   ],
   "source": []
  },
  {
   "cell_type": "code",
   "execution_count": null,
   "id": "6cb94d99",
   "metadata": {},
   "outputs": [],
   "source": []
  },
  {
   "cell_type": "code",
   "execution_count": 32,
   "id": "139b2d1e",
   "metadata": {},
   "outputs": [],
   "source": [
    "def insertionSort(arr,k):\n",
    "    \"\"\"\n",
    "    arr is the list and k is the iteration number\n",
    "    store the result with variable name res\n",
    "    \"\"\"\n",
    "    for i in range(0, k+1):\n",
    "        key = arr[i]\n",
    "        \n",
    "        j=i-1\n",
    "        while j>=0 and key < arr[j]:\n",
    "            arr[j+1] = arr[j]\n",
    "            j-=1\n",
    "        arr[j+1] = key\n",
    "        t=len(arr)//2\n",
    "        res=arr[t]\n",
    "    \n",
    "    return arr, res"
   ]
  },
  {
   "cell_type": "code",
   "execution_count": 33,
   "id": "edc82ee1",
   "metadata": {},
   "outputs": [
    {
     "data": {
      "text/plain": [
       "([1, 4, 5, 7, 12, 32, 34], 7)"
      ]
     },
     "execution_count": 33,
     "metadata": {},
     "output_type": "execute_result"
    }
   ],
   "source": [
    "insertionSort([12, 4, 5, 7, 1, 32, 34],4)"
   ]
  },
  {
   "cell_type": "code",
   "execution_count": 6,
   "id": "3d0b42e5",
   "metadata": {},
   "outputs": [
    {
     "data": {
      "text/plain": [
       "13"
      ]
     },
     "execution_count": 6,
     "metadata": {},
     "output_type": "execute_result"
    }
   ],
   "source": [
    "arr=[12, 11, 13, 5, 6]\n",
    "i=len(arr)//2\n",
    "arr[i]"
   ]
  },
  {
   "cell_type": "code",
   "execution_count": 21,
   "id": "b9df0dbc",
   "metadata": {},
   "outputs": [],
   "source": [
    "arr=[12, 11, 13, 5, 6]"
   ]
  },
  {
   "cell_type": "code",
   "execution_count": 16,
   "id": "35b87479",
   "metadata": {},
   "outputs": [],
   "source": [
    "def bb(arr):\n",
    "    for j in range(len(arr)-1,-1,-1):\n",
    "        for k in range(0,j):\n",
    "            if(arr[k]>arr[k+1]):\n",
    "                temp=arr[k]\n",
    "                arr[k]=arr[k+1]\n",
    "                arr[k+1]=temp\n",
    "        print(arr)"
   ]
  },
  {
   "cell_type": "code",
   "execution_count": 22,
   "id": "f0e364b3",
   "metadata": {},
   "outputs": [],
   "source": [
    "bb(arr)"
   ]
  },
  {
   "cell_type": "code",
   "execution_count": 23,
   "id": "13e3386e",
   "metadata": {},
   "outputs": [],
   "source": [
    "def bb(arr):\n",
    "    for j in range(len(arr)-1,-1):\n",
    "        for k in range(0,j):\n",
    "            if(arr[k]>arr[k+1]):\n",
    "                temp=arr[k]\n",
    "                arr[k]=arr[k+1]\n",
    "                arr[k+1]=temp\n",
    "                print(arr)"
   ]
  },
  {
   "cell_type": "code",
   "execution_count": 26,
   "id": "29c48cb5",
   "metadata": {},
   "outputs": [
    {
     "name": "stdout",
     "output_type": "stream",
     "text": [
      "1\n",
      "2\n",
      "1\n",
      "3\n",
      "1\n",
      "4\n",
      "2\n",
      "1\n",
      "5\n",
      "2\n",
      "1\n",
      "6\n",
      "3\n",
      "1\n",
      "7\n",
      "3\n",
      "1\n"
     ]
    }
   ],
   "source": [
    "n=8\n",
    "for i in range(n):\n",
    "    \n",
    "    j=i\n",
    "    while j!=0:\n",
    "        \n",
    "        print(j)\n",
    "        j=j//2"
   ]
  },
  {
   "cell_type": "code",
   "execution_count": 30,
   "id": "8443d348",
   "metadata": {},
   "outputs": [
    {
     "name": "stdout",
     "output_type": "stream",
     "text": [
      "1.0 0.5 0.25 0.125 0.0625 0.03125 0.015625 0.0078125 0.00390625 0.001953125 0.0009765625 0.00048828125 0.000244140625 0.0001220703125 6.103515625e-05 3.0517578125e-05 1.52587890625e-05 7.62939453125e-06 3.814697265625e-06 1.9073486328125e-06 9.5367431640625e-07 4.76837158203125e-07 2.384185791015625e-07 1.1920928955078125e-07 5.960464477539063e-08 2.9802322387695312e-08 1.4901161193847656e-08 7.450580596923828e-09 3.725290298461914e-09 1.862645149230957e-09 9.313225746154785e-10 4.656612873077393e-10 2.3283064365386963e-10 1.1641532182693481e-10 5.820766091346741e-11 2.9103830456733704e-11 1.4551915228366852e-11 7.275957614183426e-12 3.637978807091713e-12 1.8189894035458565e-12 9.094947017729282e-13 4.547473508864641e-13 2.2737367544323206e-13 1.1368683772161603e-13 5.684341886080802e-14 2.842170943040401e-14 1.4210854715202004e-14 7.105427357601002e-15 3.552713678800501e-15 1.7763568394002505e-15 8.881784197001252e-16 4.440892098500626e-16 2.220446049250313e-16 1.1102230246251565e-16 5.551115123125783e-17 2.7755575615628914e-17 1.3877787807814457e-17 6.938893903907228e-18 3.469446951953614e-18 1.734723475976807e-18 8.673617379884035e-19 4.336808689942018e-19 2.168404344971009e-19 1.0842021724855044e-19 5.421010862427522e-20 2.710505431213761e-20 1.3552527156068805e-20 6.776263578034403e-21 3.3881317890172014e-21 1.6940658945086007e-21 8.470329472543003e-22 4.235164736271502e-22 2.117582368135751e-22 1.0587911840678754e-22 5.293955920339377e-23 2.6469779601696886e-23 1.3234889800848443e-23 6.617444900424222e-24 3.308722450212111e-24 1.6543612251060553e-24 8.271806125530277e-25 4.1359030627651384e-25 2.0679515313825692e-25 1.0339757656912846e-25 5.169878828456423e-26 2.5849394142282115e-26 1.2924697071141057e-26 6.462348535570529e-27 3.2311742677852644e-27 1.6155871338926322e-27 8.077935669463161e-28 4.0389678347315804e-28 2.0194839173657902e-28 1.0097419586828951e-28 5.048709793414476e-29 2.524354896707238e-29 1.262177448353619e-29 6.310887241768095e-30 3.1554436208840472e-30 1.5777218104420236e-30 7.888609052210118e-31 3.944304526105059e-31 1.9721522630525295e-31 9.860761315262648e-32 4.930380657631324e-32 2.465190328815662e-32 1.232595164407831e-32 6.162975822039155e-33 3.0814879110195774e-33 1.5407439555097887e-33 7.703719777548943e-34 3.851859888774472e-34 1.925929944387236e-34 9.62964972193618e-35 4.81482486096809e-35 2.407412430484045e-35 1.2037062152420224e-35 6.018531076210112e-36 3.009265538105056e-36 1.504632769052528e-36 7.52316384526264e-37 3.76158192263132e-37 1.88079096131566e-37 9.4039548065783e-38 4.70197740328915e-38 2.350988701644575e-38 1.1754943508222875e-38 5.877471754111438e-39 2.938735877055719e-39 1.4693679385278594e-39 7.346839692639297e-40 3.6734198463196485e-40 1.8367099231598242e-40 9.183549615799121e-41 4.591774807899561e-41 2.2958874039497803e-41 1.1479437019748901e-41 5.739718509874451e-42 2.8698592549372254e-42 1.4349296274686127e-42 7.174648137343064e-43 3.587324068671532e-43 1.793662034335766e-43 8.96831017167883e-44 4.484155085839415e-44 2.2420775429197073e-44 1.1210387714598537e-44 5.605193857299268e-45 2.802596928649634e-45 1.401298464324817e-45 7.006492321624085e-46 3.503246160812043e-46 1.7516230804060213e-46 8.758115402030107e-47 4.3790577010150533e-47 2.1895288505075267e-47 1.0947644252537633e-47 5.473822126268817e-48 2.7369110631344083e-48 1.3684555315672042e-48 6.842277657836021e-49 3.4211388289180104e-49 1.7105694144590052e-49 8.552847072295026e-50 4.276423536147513e-50 2.1382117680737565e-50 1.0691058840368783e-50 5.345529420184391e-51 2.6727647100921956e-51 1.3363823550460978e-51 6.681911775230489e-52 3.3409558876152446e-52 1.6704779438076223e-52 8.352389719038111e-53 4.176194859519056e-53 2.088097429759528e-53 1.044048714879764e-53 5.22024357439882e-54 2.61012178719941e-54 1.305060893599705e-54 6.525304467998525e-55 3.2626522339992623e-55 1.6313261169996311e-55 8.156630584998156e-56 4.078315292499078e-56 2.039157646249539e-56 1.0195788231247695e-56 5.0978941156238473e-57 2.5489470578119236e-57 1.2744735289059618e-57 6.372367644529809e-58 3.1861838222649046e-58 1.5930919111324523e-58 7.965459555662261e-59 3.982729777831131e-59 1.9913648889155653e-59 9.956824444577827e-60 4.9784122222889134e-60 2.4892061111444567e-60 1.2446030555722283e-60 6.223015277861142e-61 3.111507638930571e-61 1.5557538194652854e-61 7.778769097326427e-62 3.8893845486632136e-62 1.9446922743316068e-62 9.723461371658034e-63 4.861730685829017e-63 2.4308653429145085e-63 1.2154326714572542e-63 6.077163357286271e-64 3.0385816786431356e-64 1.5192908393215678e-64 7.596454196607839e-65 3.7982270983039195e-65 1.8991135491519597e-65 9.495567745759799e-66 4.7477838728798994e-66 2.3738919364399497e-66 1.1869459682199748e-66 5.934729841099874e-67 2.967364920549937e-67 1.4836824602749686e-67 7.418412301374843e-68 3.7092061506874214e-68 1.8546030753437107e-68 9.273015376718553e-69 4.636507688359277e-69 2.3182538441796384e-69 1.1591269220898192e-69 5.795634610449096e-70 2.897817305224548e-70 1.448908652612274e-70 7.24454326306137e-71 3.622271631530685e-71 1.8111358157653425e-71 9.055679078826712e-72 4.527839539413356e-72 2.263919769706678e-72 1.131959884853339e-72 5.659799424266695e-73 2.8298997121333476e-73 1.4149498560666738e-73 7.074749280333369e-74 3.5373746401666845e-74 1.7686873200833423e-74 8.843436600416711e-75 4.421718300208356e-75 2.210859150104178e-75 1.105429575052089e-75 5.527147875260445e-76 2.7635739376302223e-76 1.3817869688151111e-76 6.908934844075556e-77 3.454467422037778e-77 1.727233711018889e-77 8.636168555094445e-78 4.3180842775472223e-78 2.1590421387736112e-78 1.0795210693868056e-78 5.397605346934028e-79 2.698802673467014e-79 1.349401336733507e-79 6.747006683667535e-80 3.3735033418337674e-80 1.6867516709168837e-80 8.433758354584419e-81 4.2168791772922093e-81 2.1084395886461046e-81 1.0542197943230523e-81 5.271098971615262e-82 2.635549485807631e-82 1.3177747429038154e-82 6.588873714519077e-83 3.2944368572595385e-83 1.6472184286297693e-83 8.236092143148846e-84 4.118046071574423e-84 2.0590230357872116e-84 1.0295115178936058e-84 5.147557589468029e-85 2.5737787947340145e-85 1.2868893973670072e-85 6.434446986835036e-86 3.217223493417518e-86 1.608611746708759e-86 8.043058733543795e-87 4.021529366771898e-87 2.010764683385949e-87 1.0053823416929744e-87 5.026911708464872e-88 2.513455854232436e-88 1.256727927116218e-88 6.28363963558109e-89 3.141819817790545e-89 1.5709099088952725e-89 7.854549544476363e-90 3.9272747722381812e-90 1.9636373861190906e-90 9.818186930595453e-91 4.909093465297727e-91 2.4545467326488633e-91 1.2272733663244316e-91 6.136366831622158e-92 3.068183415811079e-92 1.5340917079055395e-92 7.670458539527698e-93 3.835229269763849e-93 1.9176146348819244e-93 9.588073174409622e-94 4.794036587204811e-94 2.3970182936024055e-94 1.1985091468012028e-94 5.992545734006014e-95 2.996272867003007e-95 1.4981364335015035e-95 7.490682167507517e-96 3.745341083753759e-96 1.8726705418768793e-96 9.363352709384397e-97 4.6816763546921983e-97 2.3408381773460992e-97 1.1704190886730496e-97 5.852095443365248e-98 2.926047721682624e-98 1.463023860841312e-98 7.31511930420656e-99 3.65755965210328e-99 1.82877982605164e-99 9.1438991302582e-100 4.5719495651291e-100 2.28597478256455e-100 1.142987391282275e-100 5.714936956411375e-101 2.8574684782056875e-101 1.4287342391028437e-101 7.143671195514219e-102 3.5718355977571093e-102 1.7859177988785547e-102 8.929588994392773e-103 4.464794497196387e-103 2.2323972485981933e-103 1.1161986242990967e-103 5.5809931214954833e-104 2.7904965607477417e-104 1.3952482803738708e-104 6.976241401869354e-105 3.488120700934677e-105 1.7440603504673385e-105 8.720301752336693e-106 4.3601508761683463e-106 2.1800754380841732e-106 1.0900377190420866e-106 5.450188595210433e-107 2.7250942976052165e-107 1.3625471488026082e-107 6.812735744013041e-108 3.4063678720065206e-108 1.7031839360032603e-108 8.515919680016301e-109 4.257959840008151e-109 2.1289799200040754e-109 1.0644899600020377e-109 5.3224498000101884e-110 2.6612249000050942e-110 1.3306124500025471e-110 6.653062250012736e-111 3.326531125006368e-111 1.663265562503184e-111 8.31632781251592e-112 4.15816390625796e-112 2.07908195312898e-112 1.03954097656449e-112 5.19770488282245e-113 2.598852441411225e-113 1.2994262207056124e-113 6.497131103528062e-114 3.248565551764031e-114 1.6242827758820155e-114 8.121413879410078e-115 4.060706939705039e-115 2.0303534698525194e-115 1.0151767349262597e-115 5.075883674631299e-116 2.5379418373156492e-116 1.2689709186578246e-116 6.344854593289123e-117 3.1724272966445615e-117 1.5862136483222808e-117 7.931068241611404e-118 3.965534120805702e-118 1.982767060402851e-118 9.913835302014255e-119 4.9569176510071274e-119 2.4784588255035637e-119 1.2392294127517818e-119 6.196147063758909e-120 3.0980735318794546e-120 1.5490367659397273e-120 7.745183829698637e-121 3.8725919148493183e-121 1.9362959574246591e-121 9.681479787123296e-122 4.840739893561648e-122 2.420369946780824e-122 1.210184973390412e-122 6.05092486695206e-123 3.02546243347603e-123 1.512731216738015e-123 7.563656083690075e-124 3.7818280418450374e-124 1.8909140209225187e-124 9.454570104612593e-125 4.727285052306297e-125 2.3636425261531484e-125 1.1818212630765742e-125 5.909106315382871e-126 2.9545531576914354e-126 1.4772765788457177e-126 7.386382894228589e-127 3.6931914471142943e-127 1.8465957235571472e-127 9.232978617785736e-128 4.616489308892868e-128 2.308244654446434e-128 1.154122327223217e-128 5.770611636116085e-129 2.8853058180580424e-129 1.4426529090290212e-129 7.213264545145106e-130 3.606632272572553e-130 1.8033161362862765e-130 9.016580681431383e-131 4.5082903407156913e-131 2.2541451703578456e-131 1.1270725851789228e-131 5.635362925894614e-132 2.817681462947307e-132 1.4088407314736535e-132 7.044203657368268e-133 3.522101828684134e-133 1.761050914342067e-133 8.805254571710335e-134 4.4026272858551673e-134 2.2013136429275836e-134 1.1006568214637918e-134 5.503284107318959e-135 2.7516420536594796e-135 1.3758210268297398e-135 6.879105134148699e-136 3.4395525670743494e-136 1.7197762835371747e-136 8.598881417685874e-137 4.299440708842937e-137 2.1497203544214684e-137 1.0748601772107342e-137 5.374300886053671e-138 2.6871504430268355e-138 1.3435752215134178e-138 6.717876107567089e-139 3.3589380537835444e-139 1.6794690268917722e-139 8.397345134458861e-140 4.1986725672294305e-140 2.0993362836147152e-140 1.0496681418073576e-140 5.248340709036788e-141 2.624170354518394e-141 1.312085177259197e-141 6.560425886295985e-142 3.2802129431479926e-142 1.6401064715739963e-142 8.200532357869981e-143 4.100266178934991e-143 2.0501330894674953e-143 1.0250665447337477e-143 5.1253327236687384e-144 2.5626663618343692e-144 1.2813331809171846e-144 6.406665904585923e-145 3.2033329522929615e-145 1.6016664761464807e-145 8.008332380732404e-146 4.004166190366202e-146 2.002083095183101e-146 1.0010415475915505e-146 5.0052077379577523e-147 2.5026038689788762e-147 1.2513019344894381e-147 6.256509672447191e-148 3.1282548362235952e-148 1.5641274181117976e-148 7.820637090558988e-149 3.910318545279494e-149 1.955159272639747e-149 9.775796363198735e-150 4.887898181599368e-150 2.443949090799684e-150 1.221974545399842e-150 6.10987272699921e-151 3.054936363499605e-151 1.5274681817498023e-151 7.637340908749012e-152 3.818670454374506e-152 1.909335227187253e-152 9.546676135936265e-153 4.7733380679681323e-153 2.3866690339840662e-153 1.1933345169920331e-153 5.966672584960166e-154 2.983336292480083e-154 1.4916681462400413e-154 7.458340731200207e-155 3.7291703656001034e-155 1.8645851828000517e-155 9.322925914000258e-156 4.661462957000129e-156 2.3307314785000646e-156 1.1653657392500323e-156 5.826828696250162e-157 2.913414348125081e-157 1.4567071740625404e-157 7.283535870312702e-158 3.641767935156351e-158 1.8208839675781755e-158 9.104419837890877e-159 4.552209918945439e-159 2.2761049594727193e-159 1.1380524797363597e-159 5.6902623986817984e-160 2.8451311993408992e-160 1.4225655996704496e-160 7.112827998352248e-161 3.556413999176124e-161 1.778206999588062e-161 8.89103499794031e-162 4.445517498970155e-162 2.2227587494850775e-162 1.1113793747425387e-162 5.556896873712694e-163 2.778448436856347e-163 1.3892242184281734e-163 6.946121092140867e-164 3.4730605460704336e-164 1.7365302730352168e-164 8.682651365176084e-165 4.341325682588042e-165 2.170662841294021e-165 1.0853314206470105e-165 5.426657103235053e-166 2.7133285516175262e-166 1.3566642758087631e-166 6.783321379043816e-167 3.391660689521908e-167 1.695830344760954e-167 8.47915172380477e-168 4.239575861902385e-168 2.1197879309511924e-168 1.0598939654755962e-168 5.299469827377981e-169 2.6497349136889905e-169 1.3248674568444952e-169 6.624337284222476e-170 3.312168642111238e-170 1.656084321055619e-170 8.280421605278095e-171 4.140210802639048e-171 2.070105401319524e-171 1.035052700659762e-171 5.17526350329881e-172 2.587631751649405e-172 1.2938158758247024e-172 6.469079379123512e-173 3.234539689561756e-173 1.617269844780878e-173 8.08634922390439e-174 4.043174611952195e-174 2.0215873059760975e-174 1.0107936529880487e-174 5.053968264940244e-175 2.526984132470122e-175 1.263492066235061e-175 6.317460331175305e-176 3.1587301655876523e-176 1.5793650827938261e-176 7.896825413969131e-177 3.9484127069845653e-177 1.9742063534922827e-177 9.871031767461413e-178 4.935515883730707e-178 2.4677579418653533e-178 1.2338789709326767e-178 6.169394854663383e-179 3.084697427331692e-179 1.542348713665846e-179 7.71174356832923e-180 3.855871784164615e-180 1.9279358920823073e-180 9.639679460411536e-181 4.819839730205768e-181 2.409919865102884e-181 1.204959932551442e-181 6.02479966275721e-182 3.012399831378605e-182 1.5061999156893026e-182 7.530999578446513e-183 3.7654997892232564e-183 1.8827498946116282e-183 9.413749473058141e-184 4.706874736529071e-184 2.3534373682645353e-184 1.1767186841322676e-184 5.883593420661338e-185 2.941796710330669e-185 1.4708983551653345e-185 7.354491775826673e-186 3.6772458879133364e-186 1.8386229439566682e-186 9.193114719783341e-187 4.5965573598916705e-187 2.2982786799458352e-187 1.1491393399729176e-187 5.745696699864588e-188 2.872848349932294e-188 1.436424174966147e-188 7.182120874830735e-189 3.5910604374153675e-189 1.7955302187076838e-189 8.977651093538419e-190 4.4888255467692094e-190 2.2444127733846047e-190 1.1222063866923024e-190 5.611031933461512e-191 2.805515966730756e-191 1.402757983365378e-191 7.01378991682689e-192 3.506894958413445e-192 1.7534474792067224e-192 8.767237396033612e-193 4.383618698016806e-193 2.191809349008403e-193 1.0959046745042015e-193 5.479523372521008e-194 2.739761686260504e-194 1.369880843130252e-194 6.84940421565126e-195 3.42470210782563e-195 1.712351053912815e-195 8.561755269564074e-196 4.280877634782037e-196 2.1404388173910186e-196 1.0702194086955093e-196 5.351097043477547e-197 2.6755485217387732e-197 1.3377742608693866e-197 6.688871304346933e-198 3.3444356521734666e-198 1.6722178260867333e-198 8.361089130433666e-199 4.180544565216833e-199 2.0902722826084166e-199 1.0451361413042083e-199 5.225680706521042e-200 2.612840353260521e-200 1.3064201766302604e-200 6.532100883151302e-201 3.266050441575651e-201 1.6330252207878255e-201 8.165126103939127e-202 4.082563051969564e-202 2.041281525984782e-202 1.020640762992391e-202 5.103203814961955e-203 2.5516019074809773e-203 1.2758009537404886e-203 6.379004768702443e-204 3.1895023843512216e-204 1.5947511921756108e-204 7.973755960878054e-205 3.986877980439027e-205 1.9934389902195135e-205 9.967194951097568e-206 4.983597475548784e-206 2.491798737774392e-206 1.245899368887196e-206 6.22949684443598e-207 3.11474842221799e-207 1.557374211108995e-207 7.786871055544975e-208 3.8934355277724873e-208 1.9467177638862437e-208 9.733588819431218e-209 4.866794409715609e-209 2.4333972048578046e-209 1.2166986024289023e-209 6.083493012144512e-210 3.041746506072256e-210 1.520873253036128e-210 7.60436626518064e-211 3.80218313259032e-211 1.90109156629516e-211 9.5054578314758e-212 4.7527289157379e-212 2.37636445786895e-212 1.188182228934475e-212 5.940911144672375e-213 2.9704555723361872e-213 1.4852277861680936e-213 7.426138930840468e-214 3.713069465420234e-214 1.856534732710117e-214 9.282673663550585e-215 4.641336831775293e-215 2.3206684158876463e-215 1.1603342079438231e-215 5.801671039719116e-216 2.900835519859558e-216 1.450417759929779e-216 7.252088799648895e-217 3.6260443998244473e-217 1.8130221999122236e-217 9.065110999561118e-218 4.532555499780559e-218 2.2662777498902796e-218 1.1331388749451398e-218 5.665694374725699e-219 2.8328471873628494e-219 1.4164235936814247e-219 7.082117968407124e-220 3.541058984203562e-220 1.770529492101781e-220 8.852647460508905e-221 4.4263237302544523e-221 2.2131618651272261e-221 1.1065809325636131e-221 5.5329046628180653e-222 2.7664523314090327e-222 1.3832261657045163e-222 6.916130828522582e-223 3.458065414261291e-223 1.7290327071306454e-223 8.645163535653227e-224 4.322581767826614e-224 2.161290883913307e-224 1.0806454419566534e-224 5.403227209783267e-225 2.7016136048916335e-225 1.3508068024458167e-225 6.754034012229084e-226 3.377017006114542e-226 1.688508503057271e-226 8.442542515286355e-227 4.2212712576431773e-227 2.1106356288215886e-227 1.0553178144107943e-227 5.276589072053972e-228 2.638294536026986e-228 1.319147268013493e-228 6.595736340067465e-229 3.2978681700337323e-229 1.6489340850168661e-229 8.244670425084331e-230 4.1223352125421653e-230 2.0611676062710827e-230 1.0305838031355413e-230 5.152919015677707e-231 2.5764595078388533e-231 1.2882297539194267e-231 6.441148769597133e-232 3.220574384798567e-232 1.6102871923992833e-232 8.051435961996417e-233 4.0257179809982083e-233 2.0128589904991042e-233 1.0064294952495521e-233 5.0321474762477604e-234 2.5160737381238802e-234 1.2580368690619401e-234 6.290184345309701e-235 3.1450921726548502e-235 1.5725460863274251e-235 7.862730431637126e-236 3.931365215818563e-236 1.9656826079092814e-236 9.828413039546407e-237 4.914206519773204e-237 2.457103259886602e-237 1.228551629943301e-237 6.142758149716505e-238 3.0713790748582522e-238 1.5356895374291261e-238 7.678447687145631e-239 3.8392238435728152e-239 1.9196119217864076e-239 9.598059608932038e-240 4.799029804466019e-240 2.3995149022330095e-240 1.1997574511165048e-240 5.998787255582524e-241 2.999393627791262e-241 1.499696813895631e-241 7.498484069478155e-242 3.7492420347390774e-242 1.8746210173695387e-242 9.373105086847693e-243 4.686552543423847e-243 2.3432762717119234e-243 1.1716381358559617e-243 5.858190679279809e-244 2.9290953396399042e-244 1.4645476698199521e-244 7.322738349099761e-245 3.6613691745498803e-245 1.8306845872749401e-245 9.153422936374701e-246 4.5767114681873503e-246 2.2883557340936752e-246 1.1441778670468376e-246 5.720889335234188e-247 2.860444667617094e-247 1.430222333808547e-247 7.151111669042735e-248 3.5755558345213674e-248 1.7877779172606837e-248 8.938889586303419e-249 4.4694447931517093e-249 2.2347223965758547e-249 1.1173611982879273e-249 5.586805991439637e-250 2.7934029957198183e-250 1.3967014978599092e-250 6.983507489299546e-251 3.491753744649773e-251 1.7458768723248864e-251 8.729384361624432e-252 4.364692180812216e-252 2.182346090406108e-252 1.091173045203054e-252 5.45586522601527e-253 2.727932613007635e-253 1.3639663065038175e-253 6.819831532519088e-254 3.409915766259544e-254 1.704957883129772e-254 8.52478941564886e-255 4.26239470782443e-255 2.131197353912215e-255 1.0655986769561075e-255 5.327993384780537e-256 2.6639966923902686e-256 1.3319983461951343e-256 6.659991730975672e-257 3.329995865487836e-257 1.664997932743918e-257 8.32498966371959e-258 4.162494831859795e-258 2.0812474159298974e-258 1.0406237079649487e-258 5.2031185398247434e-259 2.6015592699123717e-259 1.3007796349561859e-259 6.503898174780929e-260 3.2519490873904646e-260 1.6259745436952323e-260 8.129872718476162e-261 4.064936359238081e-261 2.0324681796190404e-261 1.0162340898095202e-261 5.081170449047601e-262 2.5405852245238005e-262 1.2702926122619002e-262 6.351463061309501e-263 3.1757315306547506e-263 1.5878657653273753e-263 7.939328826636877e-264 3.9696644133184383e-264 1.9848322066592191e-264 9.924161033296096e-265 4.962080516648048e-265 2.481040258324024e-265 1.240520129162012e-265 6.20260064581006e-266 3.10130032290503e-266 1.550650161452515e-266 7.753250807262575e-267 3.8766254036312874e-267 1.9383127018156437e-267 9.691563509078218e-268 4.845781754539109e-268 2.4228908772695546e-268 1.2114454386347773e-268 6.057227193173887e-269 3.0286135965869433e-269 1.5143067982934716e-269 7.571533991467358e-270 3.785766995733679e-270 1.8928834978668395e-270 9.464417489334198e-271 4.732208744667099e-271 2.3661043723335494e-271 1.1830521861667747e-271 5.915260930833874e-272 2.957630465416937e-272 1.4788152327084684e-272 7.394076163542342e-273 3.697038081771171e-273 1.8485190408855855e-273 9.242595204427927e-274 4.621297602213964e-274 2.310648801106982e-274 1.155324400553491e-274 5.776622002767455e-275 2.8883110013837273e-275 1.4441555006918637e-275 7.220777503459318e-276 3.610388751729659e-276 1.8051943758648296e-276 9.025971879324148e-277 4.512985939662074e-277 2.256492969831037e-277 1.1282464849155185e-277 5.641232424577593e-278 2.8206162122887962e-278 1.4103081061443981e-278 7.051540530721991e-279 3.5257702653609953e-279 1.7628851326804976e-279 8.814425663402488e-280 4.407212831701244e-280 2.203606415850622e-280 1.101803207925311e-280 5.509016039626555e-281 2.7545080198132776e-281 1.3772540099066388e-281 6.886270049533194e-282 3.443135024766597e-282 1.7215675123832985e-282 8.607837561916492e-283 4.303918780958246e-283 2.151959390479123e-283 1.0759796952395615e-283 5.379898476197808e-284 2.689949238098904e-284 1.344974619049452e-284 6.72487309524726e-285 3.36243654762363e-285 1.681218273811815e-285 8.406091369059075e-286 4.2030456845295373e-286 2.1015228422647686e-286 1.0507614211323843e-286 5.253807105661922e-287 2.626903552830961e-287 1.3134517764154804e-287 6.567258882077402e-288 3.283629441038701e-288 1.6418147205193505e-288 8.209073602596753e-289 4.1045368012983762e-289 2.0522684006491881e-289 1.0261342003245941e-289 5.1306710016229703e-290 2.5653355008114852e-290 1.2826677504057426e-290 6.413338752028713e-291 3.2066693760143564e-291 1.6033346880071782e-291 8.016673440035891e-292 4.008336720017946e-292 2.004168360008973e-292 1.0020841800044864e-292 5.010420900022432e-293 2.505210450011216e-293 1.252605225005608e-293 6.26302612502804e-294 3.13151306251402e-294 1.56575653125701e-294 7.82878265628505e-295 3.914391328142525e-295 1.9571956640712625e-295 9.785978320356312e-296 4.892989160178156e-296 2.446494580089078e-296 1.223247290044539e-296 6.116236450222695e-297 3.0581182251113476e-297 1.5290591125556738e-297 7.645295562778369e-298 3.8226477813891845e-298 1.9113238906945923e-298 9.556619453472961e-299 4.778309726736481e-299 2.3891548633682403e-299 1.1945774316841202e-299 5.972887158420601e-300 2.9864435792103004e-300 1.4932217896051502e-300 7.466108948025751e-301 3.7330544740128755e-301 1.8665272370064378e-301 9.332636185032189e-302 4.6663180925160944e-302 2.3331590462580472e-302 1.1665795231290236e-302 5.832897615645118e-303 2.916448807822559e-303 1.4582244039112795e-303 7.291122019556398e-304 3.645561009778199e-304 1.8227805048890994e-304 9.113902524445497e-305 4.5569512622227484e-305 2.2784756311113742e-305 1.1392378155556871e-305 5.696189077778436e-306 2.848094538889218e-306 1.424047269444609e-306 7.120236347223045e-307 3.5601181736115222e-307 1.7800590868057611e-307 8.900295434028806e-308 4.450147717014403e-308 2.2250738585072014e-308 1.1125369292536007e-308 5.562684646268003e-309 2.781342323134e-309 1.390671161567e-309 6.953355807835e-310 3.4766779039175e-310 1.73833895195875e-310 8.691694759794e-311 4.345847379897e-311 2.1729236899484e-311 1.086461844974e-311 5.43230922487e-312 2.716154612436e-312 1.35807730622e-312 6.7903865311e-313 3.39519326554e-313 1.69759663277e-313 8.487983164e-314 4.243991582e-314 2.121995791e-314 1.0609978955e-314 5.304989477e-315 2.65249474e-315 1.32624737e-315 6.63123685e-316 3.3156184e-316 1.6578092e-316 8.289046e-317 4.144523e-317 2.0722615e-317 1.036131e-317 5.180654e-318 2.590327e-318 1.295163e-318 6.4758e-319 3.2379e-319 1.61895e-319 8.095e-320 4.0474e-320 2.0237e-320 1.012e-320 5.06e-321 2.53e-321 1.265e-321 6.3e-322 3.16e-322 1.6e-322 8e-323 4e-323 2e-323 1e-323 5e-324 0.0 "
     ]
    }
   ],
   "source": [
    "n=2\n",
    "a = 0\n",
    "i = n\n",
    "while (i > 0):\n",
    "    a += i\n",
    "    i /= 2\n",
    "    print(i,end =\" \")"
   ]
  },
  {
   "cell_type": "code",
   "execution_count": 48,
   "id": "cb84e6e2",
   "metadata": {},
   "outputs": [],
   "source": [
    "def countHi(s, count=0):\n",
    "    for i in range(len(s)-1):\n",
    "        print(s[i])\n",
    "        if s[i] == 'h'  and s[i+1]=='i':\n",
    "            count+=1\n",
    "    print(count)\n",
    "    \n",
    "    # YOUR CODE GOES HERE"
   ]
  },
  {
   "cell_type": "code",
   "execution_count": 49,
   "id": "b80e5402",
   "metadata": {},
   "outputs": [],
   "source": [
    "s=\"hishisha\""
   ]
  },
  {
   "cell_type": "code",
   "execution_count": 50,
   "id": "e13e121f",
   "metadata": {},
   "outputs": [
    {
     "name": "stdout",
     "output_type": "stream",
     "text": [
      "h\n",
      "i\n",
      "s\n",
      "h\n",
      "i\n",
      "s\n",
      "h\n",
      "2\n"
     ]
    }
   ],
   "source": [
    "countHi(s)"
   ]
  },
  {
   "cell_type": "code",
   "execution_count": 55,
   "id": "d5c6163b",
   "metadata": {},
   "outputs": [],
   "source": [
    "counter=0\n",
    "for i in range(1, n):\n",
    "    counter+=1\n",
    "    for j in range(1, n//4):\n",
    "        counter+=1\n",
    "        for k in range(1, n):\n",
    "            counter+=1\n",
    "            print(counter)\n",
    "            break\n",
    "    print()"
   ]
  },
  {
   "cell_type": "code",
   "execution_count": 71,
   "id": "fd4773ed",
   "metadata": {},
   "outputs": [],
   "source": [
    "\n",
    "n=2\n",
    "for i in range(1, n+1):\n",
    "\n",
    "    for j in range(1, n+1):\n",
    "        counter=0\n",
    "\n",
    "        for k in range(n//2, n+1, n//2):\n",
    "\n",
    "            counter += 1"
   ]
  },
  {
   "cell_type": "code",
   "execution_count": 72,
   "id": "7f8c3ee0",
   "metadata": {},
   "outputs": [
    {
     "name": "stdout",
     "output_type": "stream",
     "text": [
      "2\n"
     ]
    }
   ],
   "source": [
    "print(counter)"
   ]
  },
  {
   "cell_type": "code",
   "execution_count": 70,
   "id": "433bfa72",
   "metadata": {},
   "outputs": [
    {
     "data": {
      "text/plain": [
       "1"
      ]
     },
     "execution_count": 70,
     "metadata": {},
     "output_type": "execute_result"
    }
   ],
   "source": [
    "n//2"
   ]
  },
  {
   "cell_type": "code",
   "execution_count": 2,
   "id": "8e157794",
   "metadata": {},
   "outputs": [],
   "source": [
    "def no_of_days(n):\n",
    "    '''n => it's the month index.\n",
    "       output => an integer for number of days in month at index n is expected.'''\n",
    "    \n",
    "    ans = None\n",
    "    # YOUR CODE GOES HERE\n",
    "    if n>12:\n",
    "        ans=\"Incorrect details\"\n",
    "        \n",
    "    if (n==1)or (n==3)or (n==5)or (n==7)or (n==8)or (n==10)or(n==12):\n",
    "        ans=31\n",
    "    elif n==2:\n",
    "        ans=28\n",
    "    else:\n",
    "        ans=30\n",
    "    \n",
    "    \n",
    "    return ans"
   ]
  },
  {
   "cell_type": "code",
   "execution_count": 3,
   "id": "6c005bf3",
   "metadata": {},
   "outputs": [],
   "source": [
    "def replace_cube(arr, N):\n",
    "    '''\n",
    "    input:\n",
    "    arr -> list of the input numbers\n",
    "    N -> value of N as mentioned in the question\n",
    "    \n",
    "    output:\n",
    "    res_list -> resultant list formed after doing the required computation as mentioned in the question\n",
    "    '''\n",
    "    res_list = []\n",
    "    # Your code starts here\n",
    "    for a in range(len(arr)):\n",
    "        if(a%N==0):\n",
    "            arr[a]=arr[a]**3  \n",
    "        res_list.append(arr[a])    # Your code ends here\n",
    "    return res_list"
   ]
  },
  {
   "cell_type": "code",
   "execution_count": 4,
   "id": "97e82d5e",
   "metadata": {},
   "outputs": [
    {
     "data": {
      "text/plain": [
       "[1, 8, 3, 64]"
      ]
     },
     "execution_count": 4,
     "metadata": {},
     "output_type": "execute_result"
    }
   ],
   "source": [
    "arr=[1,2,3,4]\n",
    "N=2\n",
    "replace_cube(arr, N)"
   ]
  },
  {
   "cell_type": "code",
   "execution_count": 71,
   "id": "83b6ff05",
   "metadata": {},
   "outputs": [],
   "source": [
    "comp1=list(\"Accounting Teaching Development Marketing Finance HR\")\n",
    "comp2=list(\"Marketing Sales Production Operations HR\")\n"
   ]
  },
  {
   "cell_type": "code",
   "execution_count": 72,
   "id": "d65463ce",
   "metadata": {},
   "outputs": [],
   "source": [
    "def unique_common(comp1,comp2):\n",
    "    \n",
    "    ''' input:comp1,comp2-two lists with different departments taken as inputs\n",
    "         output:return unique and common departments from two companies in the form of sets'''\n",
    "    str1=None\n",
    "    print(comp1)\n",
    "    \n",
    "    #str1=set(comp1.split(\" \"))\n",
    "    #str2=set(comp2.split(\" \"))\n",
    "    #print(str1.intersection(str2))\n",
    "    "
   ]
  },
  {
   "cell_type": "code",
   "execution_count": 73,
   "id": "ef1dd50e",
   "metadata": {},
   "outputs": [
    {
     "name": "stdout",
     "output_type": "stream",
     "text": [
      "['A', 'c', 'c', 'o', 'u', 'n', 't', 'i', 'n', 'g', ' ', 'T', 'e', 'a', 'c', 'h', 'i', 'n', 'g', ' ', 'D', 'e', 'v', 'e', 'l', 'o', 'p', 'm', 'e', 'n', 't', ' ', 'M', 'a', 'r', 'k', 'e', 't', 'i', 'n', 'g', ' ', 'F', 'i', 'n', 'a', 'n', 'c', 'e', ' ', 'H', 'R']\n"
     ]
    }
   ],
   "source": [
    "unique_common(comp1,comp2)"
   ]
  },
  {
   "cell_type": "code",
   "execution_count": 19,
   "id": "4787b488",
   "metadata": {},
   "outputs": [],
   "source": [
    "def flatten(arr):\n",
    "    '''\n",
    "    input:\n",
    "    arr -> given nested python list\n",
    "    \n",
    "    output:\n",
    "    res_arr -> the nested list, flattened and sorted\n",
    "    '''\n",
    "    res_arr = []\n",
    "    \n",
    "    # Your Code Starts here\n",
    "    for a in (arr):\n",
    "        if isinstance (a, list):\n",
    "            res_arr.extend(flatten(a))\n",
    "            \n",
    "        else:\n",
    "            res_arr.append(a)\n",
    "            \n",
    "    \n",
    "    # Your Code Ends here\n",
    "    return res_arr"
   ]
  },
  {
   "cell_type": "code",
   "execution_count": 20,
   "id": "0ca01d96",
   "metadata": {},
   "outputs": [],
   "source": [
    "b=[20,1,2,[2,3,[2,3,4],4,5],4]"
   ]
  },
  {
   "cell_type": "code",
   "execution_count": 21,
   "id": "f4226426",
   "metadata": {},
   "outputs": [
    {
     "data": {
      "text/plain": [
       "[20, 1, 2, 2, 3, 2, 3, 4, 4, 5, 4]"
      ]
     },
     "execution_count": 21,
     "metadata": {},
     "output_type": "execute_result"
    }
   ],
   "source": [
    "flatten(b)"
   ]
  },
  {
   "cell_type": "code",
   "execution_count": 13,
   "id": "00a91896",
   "metadata": {},
   "outputs": [],
   "source": [
    "k=[]"
   ]
  },
  {
   "cell_type": "code",
   "execution_count": 17,
   "id": "7c99062a",
   "metadata": {},
   "outputs": [
    {
     "name": "stdout",
     "output_type": "stream",
     "text": [
      "8\n"
     ]
    }
   ],
   "source": [
    "lis=[(0,1), (1,3),(2,4)]\n",
    "result=sum(n for _, n in lis)\n",
    "print(result)"
   ]
  },
  {
   "cell_type": "code",
   "execution_count": 10,
   "id": "89e0f4a6",
   "metadata": {},
   "outputs": [],
   "source": [
    "lis=[(0,1), (1,3),(2,4)]"
   ]
  },
  {
   "cell_type": "code",
   "execution_count": 14,
   "id": "491b778b",
   "metadata": {},
   "outputs": [],
   "source": [
    "names=['Arun', 'Nihal', 'Sanjay']\n",
    "runs=[25,50,3]\n",
    "wickets=[3,5,4]\n",
    "bowls=[7,12,3]"
   ]
  },
  {
   "cell_type": "code",
   "execution_count": 15,
   "id": "69b1df7b",
   "metadata": {},
   "outputs": [],
   "source": [
    "#"
   ]
  },
  {
   "cell_type": "code",
   "execution_count": 42,
   "id": "857d4c05",
   "metadata": {},
   "outputs": [],
   "source": [
    "def man_of_match(names, runs, wickets, bowls):\n",
    "    '''\n",
    "    input:\n",
    "    names -> list of names of the players\n",
    "    runs -> list of runs of the respective players\n",
    "    wickets -> list of wickets taken by the respective players\n",
    "    bowls -> list of bowls by the respective players\n",
    "    \n",
    "    output:\n",
    "    data -> data of the players in dictionary format\n",
    "    manOfMatch -> name of the man of the match\n",
    "    '''\n",
    "    data = {}\n",
    "    manOfMatch = \"test\"\n",
    "    \n",
    "    # Your code starts here\n",
    "    sr=0\n",
    "    for a in range(len(names)):\n",
    "\n",
    "        data[names[a]]=[runs[a], wickets[a], bowls[a]]\n",
    "        \n",
    "        sr=(runs[a]/bowls[a])\n",
    "        \n",
    "        if (sr>4 and wickets[a]>2) or (sr<4 and wickets[a]>4):\n",
    "            manOfMatch=names[a]\n",
    "    # Your code ends here\n",
    "    return data, manOfMatch"
   ]
  },
  {
   "cell_type": "code",
   "execution_count": 43,
   "id": "c6d7b87e",
   "metadata": {},
   "outputs": [
    {
     "data": {
      "text/plain": [
       "({'Arun': [25, 3, 7], 'Nihal': [50, 5, 12], 'Sanjay': [3, 4, 3]}, 'Nihal')"
      ]
     },
     "execution_count": 43,
     "metadata": {},
     "output_type": "execute_result"
    }
   ],
   "source": [
    "man_of_match(names, runs, wickets, bowls)"
   ]
  },
  {
   "cell_type": "code",
   "execution_count": 21,
   "id": "19e19d8a",
   "metadata": {},
   "outputs": [],
   "source": [
    "arr=[[1, 2, 3], [4, 5, 6], [7, 8, 9]]"
   ]
  },
  {
   "cell_type": "code",
   "execution_count": 22,
   "id": "9a2018e1",
   "metadata": {},
   "outputs": [
    {
     "data": {
      "text/plain": [
       "[[1, 2, 3], [7, 8, 9]]"
      ]
     },
     "execution_count": 22,
     "metadata": {},
     "output_type": "execute_result"
    }
   ],
   "source": [
    "k=arr[::2]\n",
    "k"
   ]
  },
  {
   "cell_type": "code",
   "execution_count": 20,
   "id": "bc897226",
   "metadata": {},
   "outputs": [
    {
     "data": {
      "text/plain": [
       "array([1, 2, 3, 7, 8, 9])"
      ]
     },
     "execution_count": 20,
     "metadata": {},
     "output_type": "execute_result"
    }
   ],
   "source": [
    "import numpy as np\n",
    "np.array(k).flatten()"
   ]
  },
  {
   "cell_type": "code",
   "execution_count": 23,
   "id": "102efdef",
   "metadata": {},
   "outputs": [
    {
     "data": {
      "text/plain": [
       "[1, 2, 3, 4, 5, 6, 7, 8, 9]"
      ]
     },
     "execution_count": 23,
     "metadata": {},
     "output_type": "execute_result"
    }
   ],
   "source": [
    "result=[item for sublist in arr for item in sublist]\n",
    "result"
   ]
  },
  {
   "cell_type": "code",
   "execution_count": 25,
   "id": "3559976a",
   "metadata": {},
   "outputs": [],
   "source": [
    "import numpy as np"
   ]
  },
  {
   "cell_type": "code",
   "execution_count": 26,
   "id": "ed7291b7",
   "metadata": {},
   "outputs": [],
   "source": [
    "arr=[[ 0,  1,  2,  3],  \n",
    " [ 4,  5,  6,  7],   \n",
    " [ 8,  9, 10, 11],   \n",
    " [12, 13, 14, 15],   \n",
    " [16, 17, 18, 19]]"
   ]
  },
  {
   "cell_type": "code",
   "execution_count": 27,
   "id": "905b21eb",
   "metadata": {},
   "outputs": [],
   "source": [
    "arr=np.array(arr)"
   ]
  },
  {
   "cell_type": "code",
   "execution_count": 30,
   "id": "76ac148f",
   "metadata": {},
   "outputs": [
    {
     "data": {
      "text/plain": [
       "array([[ 4,  5,  6,  7],\n",
       "       [ 8,  9, 10, 11],\n",
       "       [12, 13, 14, 15]])"
      ]
     },
     "execution_count": 30,
     "metadata": {},
     "output_type": "execute_result"
    }
   ],
   "source": [
    "row_array=arr[1:4:]\n",
    "row_array"
   ]
  },
  {
   "cell_type": "code",
   "execution_count": 31,
   "id": "0900e5fc",
   "metadata": {},
   "outputs": [
    {
     "data": {
      "text/plain": [
       "array([[ 5,  6,  7],\n",
       "       [ 9, 10, 11],\n",
       "       [13, 14, 15]])"
      ]
     },
     "execution_count": 31,
     "metadata": {},
     "output_type": "execute_result"
    }
   ],
   "source": [
    "cols_array=row_array[:,1:]\n",
    "cols_array"
   ]
  },
  {
   "cell_type": "code",
   "execution_count": 32,
   "id": "3ae03410",
   "metadata": {},
   "outputs": [
    {
     "data": {
      "text/plain": [
       "array([[13, 14, 15],\n",
       "       [ 9, 10, 11],\n",
       "       [ 5,  6,  7]])"
      ]
     },
     "execution_count": 32,
     "metadata": {},
     "output_type": "execute_result"
    }
   ],
   "source": [
    "cols_array=cols_array[::-1]\n",
    "cols_array"
   ]
  },
  {
   "cell_type": "code",
   "execution_count": 1,
   "id": "473c882b",
   "metadata": {},
   "outputs": [],
   "source": [
    "birds = ['sparrow', 'peacock', 'parrot', 'owl', 'peacock', 'macaw', 'macaw', 'parrot', 'macaw', 'peacock']  \n",
    "age = [6, 1, 6, 5, 7, 6, 0, 9, 0, 7]"
   ]
  },
  {
   "cell_type": "code",
   "execution_count": 9,
   "id": "ad2cb2c2",
   "metadata": {},
   "outputs": [],
   "source": [
    "k=age.index(max(age))"
   ]
  },
  {
   "cell_type": "code",
   "execution_count": 10,
   "id": "ac0fb40a",
   "metadata": {},
   "outputs": [
    {
     "data": {
      "text/plain": [
       "'parrot'"
      ]
     },
     "execution_count": 10,
     "metadata": {},
     "output_type": "execute_result"
    }
   ],
   "source": [
    "birds[k]"
   ]
  },
  {
   "cell_type": "code",
   "execution_count": 9,
   "id": "c47e51bb",
   "metadata": {},
   "outputs": [],
   "source": [
    "import numpy as np"
   ]
  },
  {
   "cell_type": "code",
   "execution_count": 11,
   "id": "1fb1eaf5",
   "metadata": {},
   "outputs": [],
   "source": [
    "birds = np.array(['spoonbills',  'plovers',  'plovers',  'plovers',  'plovers',  'Cranes',  'plovers',  'plovers',  'Cranes',  'spoonbills'])\n",
    "age = [5.5, 6.0, 3.5, 1.5, 3.0, 4.0, 3.5, 2.0, 5.5, 6.0]"
   ]
  },
  {
   "cell_type": "code",
   "execution_count": 26,
   "id": "a625c5cc",
   "metadata": {},
   "outputs": [],
   "source": [
    "age=np.array(age)"
   ]
  },
  {
   "cell_type": "code",
   "execution_count": 27,
   "id": "41f67171",
   "metadata": {},
   "outputs": [],
   "source": [
    "mask=[(bird==\"Cranes\") for bird in birds ]"
   ]
  },
  {
   "cell_type": "code",
   "execution_count": 28,
   "id": "d9bbfc49",
   "metadata": {},
   "outputs": [
    {
     "data": {
      "text/plain": [
       "[(array([5, 8], dtype=int64),)]"
      ]
     },
     "execution_count": 28,
     "metadata": {},
     "output_type": "execute_result"
    }
   ],
   "source": [
    "[np.where(birds=='Cranes')]"
   ]
  },
  {
   "cell_type": "code",
   "execution_count": 39,
   "id": "073f6d0d",
   "metadata": {},
   "outputs": [],
   "source": [
    "d2=age[mask]"
   ]
  },
  {
   "cell_type": "code",
   "execution_count": 40,
   "id": "ac773b7e",
   "metadata": {},
   "outputs": [
    {
     "data": {
      "text/plain": [
       "4.75"
      ]
     },
     "execution_count": 40,
     "metadata": {},
     "output_type": "execute_result"
    }
   ],
   "source": [
    "d2.sum()/len(d2)"
   ]
  },
  {
   "cell_type": "code",
   "execution_count": 41,
   "id": "9b9edfe9",
   "metadata": {},
   "outputs": [
    {
     "data": {
      "text/plain": [
       "4.75"
      ]
     },
     "execution_count": 41,
     "metadata": {},
     "output_type": "execute_result"
    }
   ],
   "source": [
    "d2.mean()"
   ]
  },
  {
   "cell_type": "code",
   "execution_count": 16,
   "id": "9f7d177f",
   "metadata": {},
   "outputs": [],
   "source": [
    "birds = np.array(['spoonbills',  'plovers',  'plovers',  'plovers',  'plovers',  'Cranes',  'plovers',  'plovers',  'Cranes',  'spoonbills'])\n",
    "age = np.array([5.5, 6.0, 3.5, 1.5, 3.0, 4.0, 3.5, 2.0, 5.5, 6.0])"
   ]
  },
  {
   "cell_type": "code",
   "execution_count": 17,
   "id": "3d7ef2ee",
   "metadata": {},
   "outputs": [
    {
     "data": {
      "text/plain": [
       "array([3, 7, 4, 2, 6, 5, 0, 8, 1, 9], dtype=int64)"
      ]
     },
     "execution_count": 17,
     "metadata": {},
     "output_type": "execute_result"
    }
   ],
   "source": [
    "p=np.argsort(age)\n",
    "p"
   ]
  },
  {
   "cell_type": "code",
   "execution_count": 19,
   "id": "7e429ff0",
   "metadata": {},
   "outputs": [
    {
     "data": {
      "text/plain": [
       "array(['plovers', 'plovers', 'plovers', 'plovers', 'plovers', 'Cranes',\n",
       "       'spoonbills', 'Cranes', 'plovers', 'spoonbills'], dtype='<U10')"
      ]
     },
     "execution_count": 19,
     "metadata": {},
     "output_type": "execute_result"
    }
   ],
   "source": [
    "birds[p]"
   ]
  },
  {
   "cell_type": "code",
   "execution_count": 1,
   "id": "7809e3a6",
   "metadata": {},
   "outputs": [],
   "source": [
    "import numpy as np"
   ]
  },
  {
   "cell_type": "code",
   "execution_count": 23,
   "id": "b3c8319b",
   "metadata": {},
   "outputs": [],
   "source": [
    "arr=np.array([[1,2,3],[3,2,1]])"
   ]
  },
  {
   "cell_type": "code",
   "execution_count": 26,
   "id": "04595d43",
   "metadata": {},
   "outputs": [
    {
     "data": {
      "text/plain": [
       "array([[0.73, 0.88, 0.95],\n",
       "       [0.95, 0.88, 0.73]])"
      ]
     },
     "execution_count": 26,
     "metadata": {},
     "output_type": "execute_result"
    }
   ],
   "source": [
    "    ## STEP 1: Calculate exponent of -ve x\n",
    "    \n",
    "    z = [np.exp(-x) for x in arr]\n",
    "    \n",
    "    ## STEP 2: Calculate denominator (1 + z) where z = e^-x\n",
    "    \n",
    "    denom = [1+x for x in z]\n",
    "    \n",
    "    ## Calculate sigmoid using numerator and denominator\n",
    "    \n",
    "    result = [1/x for x in denom]\n",
    "    \n",
    "    ## Round off the values to two decimal places\n",
    "    \n",
    "    result =  [np.around(x,2) for x in result]\n",
    "    \n",
    "    result=np.array(result)\n",
    "    result"
   ]
  },
  {
   "cell_type": "code",
   "execution_count": 16,
   "id": "fa7e90e5",
   "metadata": {},
   "outputs": [
    {
     "data": {
      "text/plain": [
       "[7.38905609893065,\n",
       " 2.718281828459045,\n",
       " 1.0,\n",
       " 0.36787944117144233,\n",
       " 0.1353352832366127]"
      ]
     },
     "execution_count": 16,
     "metadata": {},
     "output_type": "execute_result"
    }
   ],
   "source": [
    "z\n"
   ]
  },
  {
   "cell_type": "code",
   "execution_count": 10,
   "id": "1d92f652",
   "metadata": {},
   "outputs": [],
   "source": [
    "arr = np.array([0, 1, 2, 3, 4, 5, 6, 7, 8])\n",
    "k = 3"
   ]
  },
  {
   "cell_type": "code",
   "execution_count": 13,
   "id": "0ce3c62a",
   "metadata": {},
   "outputs": [
    {
     "data": {
      "text/plain": [
       "False"
      ]
     },
     "execution_count": 13,
     "metadata": {},
     "output_type": "execute_result"
    }
   ],
   "source": [
    "import numpy as np\n",
    "\n",
    "#def check_conditions(arr, k):\n",
    "   # '''\n",
    "   # INPUT: arr, k\n",
    "    \n",
    "   ## OUTPUT: result -> bool\n",
    "    #'''\n",
    "    \n",
    "result = None\n",
    "    \n",
    "    ## STEP 1 : Create mask for the given condition\n",
    "    \n",
    "mask = [ True  if ((x%2==0) and (x>2)) else False for x in arr ]\n",
    "    \n",
    "    ## STEP 2: Use logical function on mask\n",
    "    \n",
    "result = True if len(arr)==len(arr[mask]) else False\n",
    "    \n",
    "result\n",
    "    \n",
    "    #return result"
   ]
  },
  {
   "cell_type": "code",
   "execution_count": 1,
   "id": "a80a58f7",
   "metadata": {},
   "outputs": [],
   "source": [
    "import numpy as np"
   ]
  },
  {
   "cell_type": "code",
   "execution_count": 6,
   "id": "081576e6",
   "metadata": {},
   "outputs": [],
   "source": [
    "arr = [0,1,2,4,5,6,7,8]\n",
    "k = 4\n",
    "split_arr=list()"
   ]
  },
  {
   "cell_type": "code",
   "execution_count": 7,
   "id": "b47748c5",
   "metadata": {},
   "outputs": [
    {
     "data": {
      "text/plain": [
       "[array([0, 1]), array([2, 4]), array([5, 6]), array([7, 8])]"
      ]
     },
     "execution_count": 7,
     "metadata": {},
     "output_type": "execute_result"
    }
   ],
   "source": [
    "np.array_split(arr,k)"
   ]
  },
  {
   "cell_type": "code",
   "execution_count": 1,
   "id": "347e4dad",
   "metadata": {},
   "outputs": [],
   "source": [
    "import numpy as np"
   ]
  },
  {
   "cell_type": "code",
   "execution_count": 5,
   "id": "f3e5db54",
   "metadata": {},
   "outputs": [],
   "source": [
    "arr=np.array([[0, 1, 2, 3],\n",
    " [4, 5, 6, 7],\n",
    " [8, 9, 10, 11],\n",
    " [12, 13, 14, 15],\n",
    " [16, 17, 18, 19],\n",
    " [20, 21, 22, 23]])"
   ]
  },
  {
   "cell_type": "code",
   "execution_count": 7,
   "id": "8088dbf5",
   "metadata": {},
   "outputs": [
    {
     "data": {
      "text/plain": [
       "(6, 4)"
      ]
     },
     "execution_count": 7,
     "metadata": {},
     "output_type": "execute_result"
    }
   ],
   "source": [
    "arr.shape"
   ]
  },
  {
   "cell_type": "code",
   "execution_count": null,
   "id": "ff7f801a",
   "metadata": {},
   "outputs": [],
   "source": []
  },
  {
   "cell_type": "code",
   "execution_count": 15,
   "id": "623f51f8",
   "metadata": {},
   "outputs": [
    {
     "data": {
      "text/plain": [
       "[array([[ 0,  1],\n",
       "        [ 4,  5],\n",
       "        [ 8,  9],\n",
       "        [12, 13],\n",
       "        [16, 17],\n",
       "        [20, 21]]),\n",
       " array([[ 2],\n",
       "        [ 6],\n",
       "        [10],\n",
       "        [14],\n",
       "        [18],\n",
       "        [22]]),\n",
       " array([[ 3],\n",
       "        [ 7],\n",
       "        [11],\n",
       "        [15],\n",
       "        [19],\n",
       "        [23]])]"
      ]
     },
     "execution_count": 15,
     "metadata": {},
     "output_type": "execute_result"
    }
   ],
   "source": [
    "np.hsplit(arr,np.array([2,3]))"
   ]
  },
  {
   "cell_type": "code",
   "execution_count": 29,
   "id": "4d279fe1",
   "metadata": {},
   "outputs": [],
   "source": [
    "row_count=4\n",
    "k=300"
   ]
  },
  {
   "cell_type": "code",
   "execution_count": 30,
   "id": "18123787",
   "metadata": {},
   "outputs": [],
   "source": [
    "import numpy as np"
   ]
  },
  {
   "cell_type": "code",
   "execution_count": 31,
   "id": "b2d9e51d",
   "metadata": {},
   "outputs": [],
   "source": [
    "result= np.array(1)"
   ]
  },
  {
   "cell_type": "code",
   "execution_count": 33,
   "id": "78ded5b4",
   "metadata": {},
   "outputs": [],
   "source": [
    "result= np.zeros((row_count-1, row_count-1), int)\n",
    "##result= np.fill_diagonal(result, k)"
   ]
  },
  {
   "cell_type": "code",
   "execution_count": 34,
   "id": "2464d9d1",
   "metadata": {},
   "outputs": [],
   "source": [
    "np.fill_diagonal(result, k)"
   ]
  },
  {
   "cell_type": "code",
   "execution_count": 35,
   "id": "86a80030",
   "metadata": {},
   "outputs": [
    {
     "data": {
      "text/plain": [
       "array([[300,   0,   0],\n",
       "       [  0, 300,   0],\n",
       "       [  0,   0, 300]])"
      ]
     },
     "execution_count": 35,
     "metadata": {},
     "output_type": "execute_result"
    }
   ],
   "source": [
    "result"
   ]
  },
  {
   "cell_type": "code",
   "execution_count": 1,
   "id": "05d4873e",
   "metadata": {},
   "outputs": [],
   "source": [
    "arr=[-1,2,3,-4,5]\n",
    "k=3"
   ]
  },
  {
   "cell_type": "code",
   "execution_count": 1,
   "id": "cf040ce8",
   "metadata": {},
   "outputs": [],
   "source": [
    "import numpy as np"
   ]
  },
  {
   "cell_type": "code",
   "execution_count": 20,
   "id": "930b37ad",
   "metadata": {},
   "outputs": [],
   "source": [
    "res=list(filter(lambda x:x>k, arr))[0]"
   ]
  },
  {
   "cell_type": "code",
   "execution_count": 21,
   "id": "cb01d25d",
   "metadata": {},
   "outputs": [
    {
     "data": {
      "text/plain": [
       "5"
      ]
     },
     "execution_count": 21,
     "metadata": {},
     "output_type": "execute_result"
    }
   ],
   "source": [
    "res"
   ]
  },
  {
   "cell_type": "code",
   "execution_count": 22,
   "id": "b42b5d24",
   "metadata": {},
   "outputs": [],
   "source": [
    "g=arr.index(res)"
   ]
  },
  {
   "cell_type": "code",
   "execution_count": 24,
   "id": "7eddcb06",
   "metadata": {},
   "outputs": [
    {
     "name": "stdout",
     "output_type": "stream",
     "text": [
      "[4]\n"
     ]
    }
   ],
   "source": [
    "print([g])"
   ]
  },
  {
   "cell_type": "code",
   "execution_count": 2,
   "id": "2eaf71a3",
   "metadata": {},
   "outputs": [],
   "source": [
    "A=np.array([1,1,2,2,4])\n",
    "B=np.array([0.6,1.29,1.99,2.69,3.4])"
   ]
  },
  {
   "cell_type": "code",
   "execution_count": 4,
   "id": "b01a07f5",
   "metadata": {},
   "outputs": [],
   "source": [
    "diff=np.subtract(A,B)"
   ]
  },
  {
   "cell_type": "code",
   "execution_count": 5,
   "id": "bfb896e5",
   "metadata": {},
   "outputs": [],
   "source": [
    "sq_diff= np.square(diff)"
   ]
  },
  {
   "cell_type": "code",
   "execution_count": 8,
   "id": "aea92750",
   "metadata": {},
   "outputs": [],
   "source": [
    "mean_sq_diff=np.mean(sq_diff)"
   ]
  },
  {
   "cell_type": "code",
   "execution_count": 9,
   "id": "5e957e2d",
   "metadata": {},
   "outputs": [],
   "source": [
    "mean_sq_diff= round(mean_sq_diff, 2)"
   ]
  },
  {
   "cell_type": "code",
   "execution_count": 10,
   "id": "ffd10726",
   "metadata": {},
   "outputs": [
    {
     "data": {
      "text/plain": [
       "0.22"
      ]
     },
     "execution_count": 10,
     "metadata": {},
     "output_type": "execute_result"
    }
   ],
   "source": [
    "mean_sq_diff"
   ]
  },
  {
   "cell_type": "code",
   "execution_count": 2,
   "id": "080fddaf",
   "metadata": {},
   "outputs": [],
   "source": [
    "\n",
    "import pandas as pd"
   ]
  },
  {
   "cell_type": "code",
   "execution_count": 2,
   "id": "e6b2583a",
   "metadata": {},
   "outputs": [],
   "source": [
    "string=\"How much wood would a woodchuck chuck if a woodchuck could chuck wood\""
   ]
  },
  {
   "cell_type": "code",
   "execution_count": 24,
   "id": "70aea3cb",
   "metadata": {},
   "outputs": [],
   "source": [
    "k=(string.split())"
   ]
  },
  {
   "cell_type": "code",
   "execution_count": 21,
   "id": "7ff63841",
   "metadata": {},
   "outputs": [],
   "source": [
    "j=pd.DataFrame(k.value_counts())"
   ]
  },
  {
   "cell_type": "code",
   "execution_count": 22,
   "id": "2740208a",
   "metadata": {},
   "outputs": [],
   "source": [
    "#j.sort_index(inplace=True)"
   ]
  },
  {
   "cell_type": "code",
   "execution_count": 23,
   "id": "e975afa6",
   "metadata": {},
   "outputs": [
    {
     "data": {
      "text/plain": [
       "Index(['wood', 'a', 'woodchuck', 'chuck', 'How', 'much', 'would', 'if',\n",
       "       'could'],\n",
       "      dtype='object')"
      ]
     },
     "execution_count": 23,
     "metadata": {},
     "output_type": "execute_result"
    }
   ],
   "source": [
    "j.index"
   ]
  },
  {
   "cell_type": "code",
   "execution_count": 26,
   "id": "470bc729",
   "metadata": {},
   "outputs": [
    {
     "ename": "SyntaxError",
     "evalue": "expression cannot contain assignment, perhaps you meant \"==\"? (2544616160.py, line 1)",
     "output_type": "error",
     "traceback": [
      "\u001b[1;36m  Input \u001b[1;32mIn [26]\u001b[1;36m\u001b[0m\n\u001b[1;33m    res = pd.DataFrame('t1'=freq)\u001b[0m\n\u001b[1;37m                       ^\u001b[0m\n\u001b[1;31mSyntaxError\u001b[0m\u001b[1;31m:\u001b[0m expression cannot contain assignment, perhaps you meant \"==\"?\n"
     ]
    }
   ],
   "source": [
    "res = pd.DataFrame('t1'=freq)"
   ]
  },
  {
   "cell_type": "code",
   "execution_count": 7,
   "id": "e8a7258d",
   "metadata": {},
   "outputs": [
    {
     "data": {
      "text/plain": [
       "['How',\n",
       " 'much',\n",
       " 'wood',\n",
       " 'would',\n",
       " 'a',\n",
       " 'woodchuck',\n",
       " 'chuck',\n",
       " 'if',\n",
       " 'a',\n",
       " 'woodchuck',\n",
       " 'could',\n",
       " 'chuck',\n",
       " 'wood']"
      ]
     },
     "execution_count": 7,
     "metadata": {},
     "output_type": "execute_result"
    }
   ],
   "source": [
    "freq = string.split()\n",
    "    # sort the indices\n",
    "freq"
   ]
  },
  {
   "cell_type": "code",
   "execution_count": 12,
   "id": "2883135f",
   "metadata": {},
   "outputs": [
    {
     "data": {
      "text/html": [
       "<div>\n",
       "<style scoped>\n",
       "    .dataframe tbody tr th:only-of-type {\n",
       "        vertical-align: middle;\n",
       "    }\n",
       "\n",
       "    .dataframe tbody tr th {\n",
       "        vertical-align: top;\n",
       "    }\n",
       "\n",
       "    .dataframe thead th {\n",
       "        text-align: right;\n",
       "    }\n",
       "</style>\n",
       "<table border=\"1\" class=\"dataframe\">\n",
       "  <thead>\n",
       "    <tr style=\"text-align: right;\">\n",
       "      <th></th>\n",
       "      <th>0</th>\n",
       "    </tr>\n",
       "  </thead>\n",
       "  <tbody>\n",
       "    <tr>\n",
       "      <th>0</th>\n",
       "      <td>How</td>\n",
       "    </tr>\n",
       "    <tr>\n",
       "      <th>1</th>\n",
       "      <td>much</td>\n",
       "    </tr>\n",
       "    <tr>\n",
       "      <th>2</th>\n",
       "      <td>wood</td>\n",
       "    </tr>\n",
       "    <tr>\n",
       "      <th>3</th>\n",
       "      <td>would</td>\n",
       "    </tr>\n",
       "    <tr>\n",
       "      <th>4</th>\n",
       "      <td>a</td>\n",
       "    </tr>\n",
       "    <tr>\n",
       "      <th>5</th>\n",
       "      <td>woodchuck</td>\n",
       "    </tr>\n",
       "    <tr>\n",
       "      <th>6</th>\n",
       "      <td>chuck</td>\n",
       "    </tr>\n",
       "    <tr>\n",
       "      <th>7</th>\n",
       "      <td>if</td>\n",
       "    </tr>\n",
       "    <tr>\n",
       "      <th>8</th>\n",
       "      <td>a</td>\n",
       "    </tr>\n",
       "    <tr>\n",
       "      <th>9</th>\n",
       "      <td>woodchuck</td>\n",
       "    </tr>\n",
       "    <tr>\n",
       "      <th>10</th>\n",
       "      <td>could</td>\n",
       "    </tr>\n",
       "    <tr>\n",
       "      <th>11</th>\n",
       "      <td>chuck</td>\n",
       "    </tr>\n",
       "    <tr>\n",
       "      <th>12</th>\n",
       "      <td>wood</td>\n",
       "    </tr>\n",
       "  </tbody>\n",
       "</table>\n",
       "</div>"
      ],
      "text/plain": [
       "            0\n",
       "0         How\n",
       "1        much\n",
       "2        wood\n",
       "3       would\n",
       "4           a\n",
       "5   woodchuck\n",
       "6       chuck\n",
       "7          if\n",
       "8           a\n",
       "9   woodchuck\n",
       "10      could\n",
       "11      chuck\n",
       "12       wood"
      ]
     },
     "execution_count": 12,
     "metadata": {},
     "output_type": "execute_result"
    }
   ],
   "source": [
    "res = pd.DataFrame(freq)\n",
    "res"
   ]
  },
  {
   "cell_type": "code",
   "execution_count": 14,
   "id": "856ac2bf",
   "metadata": {},
   "outputs": [
    {
     "data": {
      "text/plain": [
       "a            2\n",
       "chuck        2\n",
       "wood         2\n",
       "woodchuck    2\n",
       "How          1\n",
       "could        1\n",
       "if           1\n",
       "much         1\n",
       "would        1\n",
       "dtype: int64"
      ]
     },
     "execution_count": 14,
     "metadata": {},
     "output_type": "execute_result"
    }
   ],
   "source": [
    "k=res.value_counts()\n",
    "k"
   ]
  },
  {
   "cell_type": "code",
   "execution_count": 18,
   "id": "b2034749",
   "metadata": {},
   "outputs": [
    {
     "data": {
      "text/plain": [
       "How          1\n",
       "a            2\n",
       "chuck        2\n",
       "could        1\n",
       "if           1\n",
       "much         1\n",
       "wood         2\n",
       "woodchuck    2\n",
       "would        1\n",
       "dtype: int64"
      ]
     },
     "execution_count": 18,
     "metadata": {},
     "output_type": "execute_result"
    }
   ],
   "source": [
    "k.sort_index()"
   ]
  },
  {
   "cell_type": "code",
   "execution_count": 20,
   "id": "55c1e1a3",
   "metadata": {},
   "outputs": [
    {
     "data": {
      "text/plain": [
       "a            2\n",
       "chuck        2\n",
       "wood         2\n",
       "woodchuck    2\n",
       "How          1\n",
       "could        1\n",
       "if           1\n",
       "much         1\n",
       "would        1\n",
       "dtype: int64"
      ]
     },
     "execution_count": 20,
     "metadata": {},
     "output_type": "execute_result"
    }
   ],
   "source": [
    "res.iloc[0:].value_counts()"
   ]
  },
  {
   "cell_type": "code",
   "execution_count": 1,
   "id": "7e106544",
   "metadata": {},
   "outputs": [],
   "source": [
    "import pandas as pd\n",
    "data = {\n",
    "  \"calories\": [420, 380, 390],\n",
    "  \"duration\": [50, 40, 45],\n",
    "    \"mass\": [12, 4, 8]\n",
    "}"
   ]
  },
  {
   "cell_type": "code",
   "execution_count": 19,
   "id": "07053792",
   "metadata": {},
   "outputs": [],
   "source": [
    "import pandas as pd\n",
    "data = {  \"calories\\tpluto\": ['tiuer\\tkhjagfds', 'oiuer\\tdfgkj', 'hatdgf\\toiaurej']}"
   ]
  },
  {
   "cell_type": "code",
   "execution_count": 20,
   "id": "6ea362a5",
   "metadata": {},
   "outputs": [],
   "source": [
    "df=pd.DataFrame(data)"
   ]
  },
  {
   "cell_type": "code",
   "execution_count": 21,
   "id": "d22288a1",
   "metadata": {},
   "outputs": [
    {
     "data": {
      "text/html": [
       "<div>\n",
       "<style scoped>\n",
       "    .dataframe tbody tr th:only-of-type {\n",
       "        vertical-align: middle;\n",
       "    }\n",
       "\n",
       "    .dataframe tbody tr th {\n",
       "        vertical-align: top;\n",
       "    }\n",
       "\n",
       "    .dataframe thead th {\n",
       "        text-align: right;\n",
       "    }\n",
       "</style>\n",
       "<table border=\"1\" class=\"dataframe\">\n",
       "  <thead>\n",
       "    <tr style=\"text-align: right;\">\n",
       "      <th></th>\n",
       "      <th>calories\\tpluto</th>\n",
       "    </tr>\n",
       "  </thead>\n",
       "  <tbody>\n",
       "    <tr>\n",
       "      <th>0</th>\n",
       "      <td>tiuer\\tkhjagfds</td>\n",
       "    </tr>\n",
       "    <tr>\n",
       "      <th>1</th>\n",
       "      <td>oiuer\\tdfgkj</td>\n",
       "    </tr>\n",
       "    <tr>\n",
       "      <th>2</th>\n",
       "      <td>hatdgf\\toiaurej</td>\n",
       "    </tr>\n",
       "  </tbody>\n",
       "</table>\n",
       "</div>"
      ],
      "text/plain": [
       "   calories\\tpluto\n",
       "0  tiuer\\tkhjagfds\n",
       "1     oiuer\\tdfgkj\n",
       "2  hatdgf\\toiaurej"
      ]
     },
     "execution_count": 21,
     "metadata": {},
     "output_type": "execute_result"
    }
   ],
   "source": [
    "df"
   ]
  },
  {
   "cell_type": "code",
   "execution_count": 22,
   "id": "10c163c0",
   "metadata": {},
   "outputs": [
    {
     "data": {
      "text/html": [
       "<div>\n",
       "<style scoped>\n",
       "    .dataframe tbody tr th:only-of-type {\n",
       "        vertical-align: middle;\n",
       "    }\n",
       "\n",
       "    .dataframe tbody tr th {\n",
       "        vertical-align: top;\n",
       "    }\n",
       "\n",
       "    .dataframe thead th {\n",
       "        text-align: right;\n",
       "    }\n",
       "</style>\n",
       "<table border=\"1\" class=\"dataframe\">\n",
       "  <thead>\n",
       "    <tr style=\"text-align: right;\">\n",
       "      <th></th>\n",
       "      <th>0</th>\n",
       "      <th>1</th>\n",
       "    </tr>\n",
       "  </thead>\n",
       "  <tbody>\n",
       "    <tr>\n",
       "      <th>0</th>\n",
       "      <td>tiuer</td>\n",
       "      <td>khjagfds</td>\n",
       "    </tr>\n",
       "    <tr>\n",
       "      <th>1</th>\n",
       "      <td>oiuer</td>\n",
       "      <td>dfgkj</td>\n",
       "    </tr>\n",
       "    <tr>\n",
       "      <th>2</th>\n",
       "      <td>hatdgf</td>\n",
       "      <td>oiaurej</td>\n",
       "    </tr>\n",
       "  </tbody>\n",
       "</table>\n",
       "</div>"
      ],
      "text/plain": [
       "        0         1\n",
       "0   tiuer  khjagfds\n",
       "1   oiuer     dfgkj\n",
       "2  hatdgf   oiaurej"
      ]
     },
     "execution_count": 22,
     "metadata": {},
     "output_type": "execute_result"
    }
   ],
   "source": [
    "df_new=df['calories\\tpluto'].str.split(pat='\\t', expand=True)\n",
    "df_new"
   ]
  },
  {
   "cell_type": "code",
   "execution_count": 27,
   "id": "087deaab",
   "metadata": {},
   "outputs": [
    {
     "data": {
      "text/html": [
       "<div>\n",
       "<style scoped>\n",
       "    .dataframe tbody tr th:only-of-type {\n",
       "        vertical-align: middle;\n",
       "    }\n",
       "\n",
       "    .dataframe tbody tr th {\n",
       "        vertical-align: top;\n",
       "    }\n",
       "\n",
       "    .dataframe thead th {\n",
       "        text-align: right;\n",
       "    }\n",
       "</style>\n",
       "<table border=\"1\" class=\"dataframe\">\n",
       "  <thead>\n",
       "    <tr style=\"text-align: right;\">\n",
       "      <th></th>\n",
       "      <th>calories</th>\n",
       "      <th>pluto</th>\n",
       "    </tr>\n",
       "  </thead>\n",
       "  <tbody>\n",
       "    <tr>\n",
       "      <th>0</th>\n",
       "      <td>tiuer</td>\n",
       "      <td>khjagfds</td>\n",
       "    </tr>\n",
       "    <tr>\n",
       "      <th>1</th>\n",
       "      <td>oiuer</td>\n",
       "      <td>dfgkj</td>\n",
       "    </tr>\n",
       "    <tr>\n",
       "      <th>2</th>\n",
       "      <td>hatdgf</td>\n",
       "      <td>oiaurej</td>\n",
       "    </tr>\n",
       "  </tbody>\n",
       "</table>\n",
       "</div>"
      ],
      "text/plain": [
       "  calories     pluto\n",
       "0    tiuer  khjagfds\n",
       "1    oiuer     dfgkj\n",
       "2   hatdgf   oiaurej"
      ]
     },
     "execution_count": 27,
     "metadata": {},
     "output_type": "execute_result"
    }
   ],
   "source": [
    "df_new.columns=df.columns[0].split('\\t')\n",
    "df_new"
   ]
  },
  {
   "cell_type": "code",
   "execution_count": 6,
   "id": "e2dad535",
   "metadata": {},
   "outputs": [
    {
     "data": {
      "text/html": [
       "<div>\n",
       "<style scoped>\n",
       "    .dataframe tbody tr th:only-of-type {\n",
       "        vertical-align: middle;\n",
       "    }\n",
       "\n",
       "    .dataframe tbody tr th {\n",
       "        vertical-align: top;\n",
       "    }\n",
       "\n",
       "    .dataframe thead th {\n",
       "        text-align: right;\n",
       "    }\n",
       "</style>\n",
       "<table border=\"1\" class=\"dataframe\">\n",
       "  <thead>\n",
       "    <tr style=\"text-align: right;\">\n",
       "      <th></th>\n",
       "      <th>calories</th>\n",
       "      <th>duration</th>\n",
       "      <th>mass</th>\n",
       "    </tr>\n",
       "  </thead>\n",
       "  <tbody>\n",
       "    <tr>\n",
       "      <th>0</th>\n",
       "      <td>420</td>\n",
       "      <td>50</td>\n",
       "      <td>12</td>\n",
       "    </tr>\n",
       "    <tr>\n",
       "      <th>2</th>\n",
       "      <td>390</td>\n",
       "      <td>45</td>\n",
       "      <td>8</td>\n",
       "    </tr>\n",
       "  </tbody>\n",
       "</table>\n",
       "</div>"
      ],
      "text/plain": [
       "   calories  duration  mass\n",
       "0       420        50    12\n",
       "2       390        45     8"
      ]
     },
     "execution_count": 6,
     "metadata": {},
     "output_type": "execute_result"
    }
   ],
   "source": [
    "k=df[df['calories']>=385]\n",
    "k"
   ]
  },
  {
   "cell_type": "code",
   "execution_count": null,
   "id": "315426a4",
   "metadata": {},
   "outputs": [],
   "source": [
    "k.sort_values([calories])"
   ]
  },
  {
   "cell_type": "code",
   "execution_count": null,
   "id": "0f1c95ef",
   "metadata": {},
   "outputs": [],
   "source": []
  },
  {
   "cell_type": "code",
   "execution_count": null,
   "id": "ac2fe605",
   "metadata": {},
   "outputs": [],
   "source": []
  },
  {
   "cell_type": "code",
   "execution_count": 30,
   "id": "fb470644",
   "metadata": {},
   "outputs": [
    {
     "data": {
      "text/plain": [
       "0    160.666667\n",
       "1    141.333333\n",
       "2    147.666667\n",
       "dtype: float64"
      ]
     },
     "execution_count": 30,
     "metadata": {},
     "output_type": "execute_result"
    }
   ],
   "source": [
    "df[['calories', 'duration', 'mass']].mean(axis=1)\n"
   ]
  },
  {
   "cell_type": "code",
   "execution_count": 8,
   "id": "a567da5d",
   "metadata": {},
   "outputs": [],
   "source": [
    "k=df[df['calories']==380].index"
   ]
  },
  {
   "cell_type": "code",
   "execution_count": 9,
   "id": "1696be7d",
   "metadata": {},
   "outputs": [
    {
     "data": {
      "text/html": [
       "<div>\n",
       "<style scoped>\n",
       "    .dataframe tbody tr th:only-of-type {\n",
       "        vertical-align: middle;\n",
       "    }\n",
       "\n",
       "    .dataframe tbody tr th {\n",
       "        vertical-align: top;\n",
       "    }\n",
       "\n",
       "    .dataframe thead th {\n",
       "        text-align: right;\n",
       "    }\n",
       "</style>\n",
       "<table border=\"1\" class=\"dataframe\">\n",
       "  <thead>\n",
       "    <tr style=\"text-align: right;\">\n",
       "      <th></th>\n",
       "      <th>calories</th>\n",
       "      <th>duration</th>\n",
       "      <th>mass</th>\n",
       "    </tr>\n",
       "  </thead>\n",
       "  <tbody>\n",
       "    <tr>\n",
       "      <th>0</th>\n",
       "      <td>420</td>\n",
       "      <td>50</td>\n",
       "      <td>12</td>\n",
       "    </tr>\n",
       "    <tr>\n",
       "      <th>2</th>\n",
       "      <td>390</td>\n",
       "      <td>45</td>\n",
       "      <td>8</td>\n",
       "    </tr>\n",
       "  </tbody>\n",
       "</table>\n",
       "</div>"
      ],
      "text/plain": [
       "   calories  duration  mass\n",
       "0       420        50    12\n",
       "2       390        45     8"
      ]
     },
     "execution_count": 9,
     "metadata": {},
     "output_type": "execute_result"
    }
   ],
   "source": [
    "df.drop(k)"
   ]
  },
  {
   "cell_type": "code",
   "execution_count": 10,
   "id": "ca8d9cb7",
   "metadata": {},
   "outputs": [
    {
     "data": {
      "text/html": [
       "<div>\n",
       "<style scoped>\n",
       "    .dataframe tbody tr th:only-of-type {\n",
       "        vertical-align: middle;\n",
       "    }\n",
       "\n",
       "    .dataframe tbody tr th {\n",
       "        vertical-align: top;\n",
       "    }\n",
       "\n",
       "    .dataframe thead th {\n",
       "        text-align: right;\n",
       "    }\n",
       "</style>\n",
       "<table border=\"1\" class=\"dataframe\">\n",
       "  <thead>\n",
       "    <tr style=\"text-align: right;\">\n",
       "      <th></th>\n",
       "      <th>calories</th>\n",
       "      <th>duration</th>\n",
       "    </tr>\n",
       "  </thead>\n",
       "  <tbody>\n",
       "    <tr>\n",
       "      <th>0</th>\n",
       "      <td>420</td>\n",
       "      <td>50</td>\n",
       "    </tr>\n",
       "    <tr>\n",
       "      <th>1</th>\n",
       "      <td>380</td>\n",
       "      <td>40</td>\n",
       "    </tr>\n",
       "  </tbody>\n",
       "</table>\n",
       "</div>"
      ],
      "text/plain": [
       "   calories  duration\n",
       "0       420        50\n",
       "1       380        40"
      ]
     },
     "execution_count": 10,
     "metadata": {},
     "output_type": "execute_result"
    }
   ],
   "source": [
    "df[0:2][['calories', 'duration']]"
   ]
  },
  {
   "cell_type": "code",
   "execution_count": 13,
   "id": "ef41f089",
   "metadata": {},
   "outputs": [],
   "source": [
    "a=46465"
   ]
  },
  {
   "cell_type": "code",
   "execution_count": 1,
   "id": "abe6c37b",
   "metadata": {},
   "outputs": [
    {
     "name": "stdout",
     "output_type": "stream",
     "text": [
      "2\n",
      "10\n",
      "1\n",
      "0\n",
      "12\n",
      "1\n",
      "2\n",
      "1\n",
      "3\n"
     ]
    }
   ],
   "source": [
    "n=int(input())\n",
    "l=list()\n",
    "for i in range(n):\n",
    "    c=0\n",
    "    a=int(input())\n",
    "    sum = 0\n",
    "    for digit in str(a): \n",
    "        ==\n",
    "        sum += int(digit)\n",
    "    i=i+1 \n",
    "    l.append(sum)\n",
    "for k in l:\n",
    "    print(k)"
   ]
  },
  {
   "cell_type": "code",
   "execution_count": 15,
   "id": "bd465cc6",
   "metadata": {},
   "outputs": [
    {
     "data": {
      "text/plain": [
       "0"
      ]
     },
     "execution_count": 15,
     "metadata": {},
     "output_type": "execute_result"
    }
   ],
   "source": [
    "b"
   ]
  },
  {
   "cell_type": "code",
   "execution_count": null,
   "id": "15c5f125",
   "metadata": {},
   "outputs": [],
   "source": [
    "int(10//10)"
   ]
  },
  {
   "cell_type": "code",
   "execution_count": 4,
   "id": "ce9d690f",
   "metadata": {},
   "outputs": [
    {
     "ename": "NameError",
     "evalue": "name 'b' is not defined",
     "output_type": "error",
     "traceback": [
      "\u001b[1;31m---------------------------------------------------------------------------\u001b[0m",
      "\u001b[1;31mNameError\u001b[0m                                 Traceback (most recent call last)",
      "Input \u001b[1;32mIn [4]\u001b[0m, in \u001b[0;36m<cell line: 1>\u001b[1;34m()\u001b[0m\n\u001b[1;32m----> 1\u001b[0m d\u001b[38;5;241m=\u001b[39m\u001b[43mb\u001b[49m\u001b[38;5;241m%\u001b[39m\u001b[38;5;241m10\u001b[39m\n",
      "\u001b[1;31mNameError\u001b[0m: name 'b' is not defined"
     ]
    }
   ],
   "source": [
    "d=b%10"
   ]
  },
  {
   "cell_type": "code",
   "execution_count": 33,
   "id": "463adf28",
   "metadata": {},
   "outputs": [],
   "source": [
    "import numpy as np\n",
    "a = np.array([5,1,2,3,4,5])\n",
    "b = np.array([4,10,50,40,80])"
   ]
  },
  {
   "cell_type": "code",
   "execution_count": 7,
   "id": "472b188a",
   "metadata": {},
   "outputs": [
    {
     "data": {
      "text/plain": [
       "1"
      ]
     },
     "execution_count": 7,
     "metadata": {},
     "output_type": "execute_result"
    }
   ],
   "source": [
    "a.min()"
   ]
  },
  {
   "cell_type": "code",
   "execution_count": 8,
   "id": "7222e2f3",
   "metadata": {},
   "outputs": [
    {
     "data": {
      "text/plain": [
       "5"
      ]
     },
     "execution_count": 8,
     "metadata": {},
     "output_type": "execute_result"
    }
   ],
   "source": [
    "a.max()"
   ]
  },
  {
   "cell_type": "code",
   "execution_count": 9,
   "id": "19fb402a",
   "metadata": {},
   "outputs": [
    {
     "data": {
      "text/plain": [
       "4"
      ]
     },
     "execution_count": 9,
     "metadata": {},
     "output_type": "execute_result"
    }
   ],
   "source": [
    "b.min()"
   ]
  },
  {
   "cell_type": "code",
   "execution_count": 11,
   "id": "6ee66c23",
   "metadata": {},
   "outputs": [
    {
     "data": {
      "text/plain": [
       "80"
      ]
     },
     "execution_count": 11,
     "metadata": {},
     "output_type": "execute_result"
    }
   ],
   "source": [
    "b.max()"
   ]
  },
  {
   "cell_type": "code",
   "execution_count": 25,
   "id": "f175cd6e",
   "metadata": {},
   "outputs": [
    {
     "name": "stdout",
     "output_type": "stream",
     "text": [
      "1\n"
     ]
    }
   ],
   "source": [
    "a = int(input())"
   ]
  },
  {
   "cell_type": "code",
   "execution_count": 40,
   "id": "d513e199",
   "metadata": {},
   "outputs": [
    {
     "name": "stdout",
     "output_type": "stream",
     "text": [
      "1 1\n"
     ]
    }
   ],
   "source": [
    "c=a[0]\n",
    "d==a[0]\n",
    "for l in a:\n",
    "\n",
    "    if l<c:\n",
    "        c=l\n",
    "        print(l,c)\n",
    "    if l>d:\n",
    "        d=l\n",
    "        print(d)\n",
    "        "
   ]
  },
  {
   "cell_type": "code",
   "execution_count": 30,
   "id": "fe5a3ddd",
   "metadata": {},
   "outputs": [
    {
     "data": {
      "text/plain": [
       "array([5, 1, 2, 3, 4, 5])"
      ]
     },
     "execution_count": 30,
     "metadata": {},
     "output_type": "execute_result"
    }
   ],
   "source": [
    "a"
   ]
  },
  {
   "cell_type": "code",
   "execution_count": 31,
   "id": "3aa21244",
   "metadata": {},
   "outputs": [
    {
     "name": "stdout",
     "output_type": "stream",
     "text": [
      "5\n",
      "1\n",
      "2\n",
      "3\n",
      "4\n",
      "5\n"
     ]
    }
   ],
   "source": [
    "for l in a:\n",
    "    print(l)"
   ]
  },
  {
   "cell_type": "code",
   "execution_count": null,
   "id": "f909c265",
   "metadata": {},
   "outputs": [],
   "source": [
    "list(map(int, input().split()))"
   ]
  },
  {
   "cell_type": "code",
   "execution_count": 1,
   "id": "44334e51",
   "metadata": {},
   "outputs": [],
   "source": [
    "import pandas as pd\n",
    "df = pd.DataFrame({'dates':[\"2015-12-06\", \"2011-12-27\", \"2015-09-07\", \"2012-12-21\", \"2020-02-13\"], 'RID':[498, 721, 375, 464, 813], 'Phy':[22, 45, 1, 65, 22], 'Chem':[52, 56, 32, 50, 24], 'Math':[63, 37, 68, 62, 43]})"
   ]
  },
  {
   "cell_type": "code",
   "execution_count": 2,
   "id": "c0bb169c",
   "metadata": {},
   "outputs": [
    {
     "data": {
      "text/html": [
       "<div>\n",
       "<style scoped>\n",
       "    .dataframe tbody tr th:only-of-type {\n",
       "        vertical-align: middle;\n",
       "    }\n",
       "\n",
       "    .dataframe tbody tr th {\n",
       "        vertical-align: top;\n",
       "    }\n",
       "\n",
       "    .dataframe thead th {\n",
       "        text-align: right;\n",
       "    }\n",
       "</style>\n",
       "<table border=\"1\" class=\"dataframe\">\n",
       "  <thead>\n",
       "    <tr style=\"text-align: right;\">\n",
       "      <th></th>\n",
       "      <th>dates</th>\n",
       "      <th>RID</th>\n",
       "      <th>Phy</th>\n",
       "      <th>Chem</th>\n",
       "      <th>Math</th>\n",
       "    </tr>\n",
       "  </thead>\n",
       "  <tbody>\n",
       "    <tr>\n",
       "      <th>0</th>\n",
       "      <td>2015-12-06</td>\n",
       "      <td>498</td>\n",
       "      <td>22</td>\n",
       "      <td>52</td>\n",
       "      <td>63</td>\n",
       "    </tr>\n",
       "    <tr>\n",
       "      <th>1</th>\n",
       "      <td>2011-12-27</td>\n",
       "      <td>721</td>\n",
       "      <td>45</td>\n",
       "      <td>56</td>\n",
       "      <td>37</td>\n",
       "    </tr>\n",
       "    <tr>\n",
       "      <th>2</th>\n",
       "      <td>2015-09-07</td>\n",
       "      <td>375</td>\n",
       "      <td>1</td>\n",
       "      <td>32</td>\n",
       "      <td>68</td>\n",
       "    </tr>\n",
       "    <tr>\n",
       "      <th>3</th>\n",
       "      <td>2012-12-21</td>\n",
       "      <td>464</td>\n",
       "      <td>65</td>\n",
       "      <td>50</td>\n",
       "      <td>62</td>\n",
       "    </tr>\n",
       "    <tr>\n",
       "      <th>4</th>\n",
       "      <td>2020-02-13</td>\n",
       "      <td>813</td>\n",
       "      <td>22</td>\n",
       "      <td>24</td>\n",
       "      <td>43</td>\n",
       "    </tr>\n",
       "  </tbody>\n",
       "</table>\n",
       "</div>"
      ],
      "text/plain": [
       "        dates  RID  Phy  Chem  Math\n",
       "0  2015-12-06  498   22    52    63\n",
       "1  2011-12-27  721   45    56    37\n",
       "2  2015-09-07  375    1    32    68\n",
       "3  2012-12-21  464   65    50    62\n",
       "4  2020-02-13  813   22    24    43"
      ]
     },
     "execution_count": 2,
     "metadata": {},
     "output_type": "execute_result"
    }
   ],
   "source": [
    "df"
   ]
  },
  {
   "cell_type": "code",
   "execution_count": null,
   "id": "0a02b7c7",
   "metadata": {},
   "outputs": [],
   "source": [
    "df[(df['RID']>400)]  or df[df['Chem']>50] and df[(df['Phy']>20)] "
   ]
  },
  {
   "cell_type": "code",
   "execution_count": 21,
   "id": "9a2d030a",
   "metadata": {},
   "outputs": [
    {
     "data": {
      "text/html": [
       "<div>\n",
       "<style scoped>\n",
       "    .dataframe tbody tr th:only-of-type {\n",
       "        vertical-align: middle;\n",
       "    }\n",
       "\n",
       "    .dataframe tbody tr th {\n",
       "        vertical-align: top;\n",
       "    }\n",
       "\n",
       "    .dataframe thead th {\n",
       "        text-align: right;\n",
       "    }\n",
       "</style>\n",
       "<table border=\"1\" class=\"dataframe\">\n",
       "  <thead>\n",
       "    <tr style=\"text-align: right;\">\n",
       "      <th></th>\n",
       "      <th>dates</th>\n",
       "      <th>RID</th>\n",
       "      <th>Phy</th>\n",
       "      <th>Chem</th>\n",
       "      <th>Math</th>\n",
       "    </tr>\n",
       "  </thead>\n",
       "  <tbody>\n",
       "    <tr>\n",
       "      <th>0</th>\n",
       "      <td>2015-12-06</td>\n",
       "      <td>498</td>\n",
       "      <td>22</td>\n",
       "      <td>52</td>\n",
       "      <td>63</td>\n",
       "    </tr>\n",
       "    <tr>\n",
       "      <th>1</th>\n",
       "      <td>2011-12-27</td>\n",
       "      <td>721</td>\n",
       "      <td>45</td>\n",
       "      <td>56</td>\n",
       "      <td>37</td>\n",
       "    </tr>\n",
       "  </tbody>\n",
       "</table>\n",
       "</div>"
      ],
      "text/plain": [
       "        dates  RID  Phy  Chem  Math\n",
       "0  2015-12-06  498   22    52    63\n",
       "1  2011-12-27  721   45    56    37"
      ]
     },
     "execution_count": 21,
     "metadata": {},
     "output_type": "execute_result"
    }
   ],
   "source": [
    "df[df['Chem']>50]"
   ]
  },
  {
   "cell_type": "code",
   "execution_count": 24,
   "id": "00c0e129",
   "metadata": {},
   "outputs": [
    {
     "data": {
      "text/html": [
       "<div>\n",
       "<style scoped>\n",
       "    .dataframe tbody tr th:only-of-type {\n",
       "        vertical-align: middle;\n",
       "    }\n",
       "\n",
       "    .dataframe tbody tr th {\n",
       "        vertical-align: top;\n",
       "    }\n",
       "\n",
       "    .dataframe thead th {\n",
       "        text-align: right;\n",
       "    }\n",
       "</style>\n",
       "<table border=\"1\" class=\"dataframe\">\n",
       "  <thead>\n",
       "    <tr style=\"text-align: right;\">\n",
       "      <th></th>\n",
       "      <th>dates</th>\n",
       "      <th>RID</th>\n",
       "      <th>Phy</th>\n",
       "      <th>Chem</th>\n",
       "      <th>Math</th>\n",
       "    </tr>\n",
       "  </thead>\n",
       "  <tbody>\n",
       "    <tr>\n",
       "      <th>0</th>\n",
       "      <td>2015-12-06</td>\n",
       "      <td>498</td>\n",
       "      <td>22</td>\n",
       "      <td>52</td>\n",
       "      <td>63</td>\n",
       "    </tr>\n",
       "    <tr>\n",
       "      <th>1</th>\n",
       "      <td>2011-12-27</td>\n",
       "      <td>721</td>\n",
       "      <td>45</td>\n",
       "      <td>56</td>\n",
       "      <td>37</td>\n",
       "    </tr>\n",
       "    <tr>\n",
       "      <th>3</th>\n",
       "      <td>2012-12-21</td>\n",
       "      <td>464</td>\n",
       "      <td>65</td>\n",
       "      <td>50</td>\n",
       "      <td>62</td>\n",
       "    </tr>\n",
       "    <tr>\n",
       "      <th>4</th>\n",
       "      <td>2020-02-13</td>\n",
       "      <td>813</td>\n",
       "      <td>22</td>\n",
       "      <td>24</td>\n",
       "      <td>43</td>\n",
       "    </tr>\n",
       "  </tbody>\n",
       "</table>\n",
       "</div>"
      ],
      "text/plain": [
       "        dates  RID  Phy  Chem  Math\n",
       "0  2015-12-06  498   22    52    63\n",
       "1  2011-12-27  721   45    56    37\n",
       "3  2012-12-21  464   65    50    62\n",
       "4  2020-02-13  813   22    24    43"
      ]
     },
     "execution_count": 24,
     "metadata": {},
     "output_type": "execute_result"
    }
   ],
   "source": [
    "df[((df['RID']>400)) |  (df['Chem']>50)]"
   ]
  },
  {
   "cell_type": "code",
   "execution_count": 10,
   "id": "d54f049a",
   "metadata": {},
   "outputs": [],
   "source": [
    "df.dates=pd.to_datetime(df.dates)"
   ]
  },
  {
   "cell_type": "code",
   "execution_count": 11,
   "id": "56710a85",
   "metadata": {},
   "outputs": [
    {
     "name": "stdout",
     "output_type": "stream",
     "text": [
      "<class 'pandas.core.frame.DataFrame'>\n",
      "RangeIndex: 5 entries, 0 to 4\n",
      "Data columns (total 5 columns):\n",
      " #   Column  Non-Null Count  Dtype         \n",
      "---  ------  --------------  -----         \n",
      " 0   dates   5 non-null      datetime64[ns]\n",
      " 1   RID     5 non-null      int64         \n",
      " 2   Phy     5 non-null      int64         \n",
      " 3   Chem    5 non-null      int64         \n",
      " 4   Math    5 non-null      int64         \n",
      "dtypes: datetime64[ns](1), int64(4)\n",
      "memory usage: 328.0 bytes\n"
     ]
    }
   ],
   "source": [
    "df.info()"
   ]
  },
  {
   "cell_type": "code",
   "execution_count": 13,
   "id": "ed75a06d",
   "metadata": {},
   "outputs": [
    {
     "data": {
      "text/html": [
       "<div>\n",
       "<style scoped>\n",
       "    .dataframe tbody tr th:only-of-type {\n",
       "        vertical-align: middle;\n",
       "    }\n",
       "\n",
       "    .dataframe tbody tr th {\n",
       "        vertical-align: top;\n",
       "    }\n",
       "\n",
       "    .dataframe thead th {\n",
       "        text-align: right;\n",
       "    }\n",
       "</style>\n",
       "<table border=\"1\" class=\"dataframe\">\n",
       "  <thead>\n",
       "    <tr style=\"text-align: right;\">\n",
       "      <th></th>\n",
       "      <th>dates</th>\n",
       "      <th>RID</th>\n",
       "      <th>Phy</th>\n",
       "      <th>Chem</th>\n",
       "      <th>Math</th>\n",
       "    </tr>\n",
       "  </thead>\n",
       "  <tbody>\n",
       "    <tr>\n",
       "      <th>0</th>\n",
       "      <td>2015-12-06</td>\n",
       "      <td>498</td>\n",
       "      <td>22</td>\n",
       "      <td>52</td>\n",
       "      <td>63</td>\n",
       "    </tr>\n",
       "    <tr>\n",
       "      <th>2</th>\n",
       "      <td>2015-09-07</td>\n",
       "      <td>375</td>\n",
       "      <td>1</td>\n",
       "      <td>32</td>\n",
       "      <td>68</td>\n",
       "    </tr>\n",
       "    <tr>\n",
       "      <th>4</th>\n",
       "      <td>2020-02-13</td>\n",
       "      <td>813</td>\n",
       "      <td>22</td>\n",
       "      <td>24</td>\n",
       "      <td>43</td>\n",
       "    </tr>\n",
       "  </tbody>\n",
       "</table>\n",
       "</div>"
      ],
      "text/plain": [
       "       dates  RID  Phy  Chem  Math\n",
       "0 2015-12-06  498   22    52    63\n",
       "2 2015-09-07  375    1    32    68\n",
       "4 2020-02-13  813   22    24    43"
      ]
     },
     "execution_count": 13,
     "metadata": {},
     "output_type": "execute_result"
    }
   ],
   "source": [
    "filtered_df =df[df['dates']>='01/05/2014']\n",
    "filtered_df"
   ]
  },
  {
   "cell_type": "code",
   "execution_count": 18,
   "id": "5b05bc44",
   "metadata": {},
   "outputs": [
    {
     "name": "stderr",
     "output_type": "stream",
     "text": [
      "C:\\Users\\hp\\AppData\\Local\\Temp\\ipykernel_12932\\981640315.py:1: SettingWithCopyWarning: \n",
      "A value is trying to be set on a copy of a slice from a DataFrame.\n",
      "Try using .loc[row_indexer,col_indexer] = value instead\n",
      "\n",
      "See the caveats in the documentation: https://pandas.pydata.org/pandas-docs/stable/user_guide/indexing.html#returning-a-view-versus-a-copy\n",
      "  filtered_df[\"avg\"] =filtered_df[['Phy', 'Chem', 'Math']].mean(axis=1)\n"
     ]
    },
    {
     "data": {
      "text/plain": [
       "0    45.666667\n",
       "2    33.666667\n",
       "4    29.666667\n",
       "Name: avg, dtype: float64"
      ]
     },
     "execution_count": 18,
     "metadata": {},
     "output_type": "execute_result"
    }
   ],
   "source": [
    "filtered_df[\"avg\"] =filtered_df[['Phy', 'Chem', 'Math']].mean(axis=1)\n",
    "filtered_df[\"avg\"]"
   ]
  },
  {
   "cell_type": "code",
   "execution_count": 23,
   "id": "e49d2e7d",
   "metadata": {},
   "outputs": [
    {
     "data": {
      "text/html": [
       "<div>\n",
       "<style scoped>\n",
       "    .dataframe tbody tr th:only-of-type {\n",
       "        vertical-align: middle;\n",
       "    }\n",
       "\n",
       "    .dataframe tbody tr th {\n",
       "        vertical-align: top;\n",
       "    }\n",
       "\n",
       "    .dataframe thead th {\n",
       "        text-align: right;\n",
       "    }\n",
       "</style>\n",
       "<table border=\"1\" class=\"dataframe\">\n",
       "  <thead>\n",
       "    <tr style=\"text-align: right;\">\n",
       "      <th></th>\n",
       "      <th>Phy</th>\n",
       "      <th>Chem</th>\n",
       "      <th>Math</th>\n",
       "      <th>avg</th>\n",
       "    </tr>\n",
       "  </thead>\n",
       "  <tbody>\n",
       "    <tr>\n",
       "      <th>0</th>\n",
       "      <td>22</td>\n",
       "      <td>52</td>\n",
       "      <td>63</td>\n",
       "      <td>45.666667</td>\n",
       "    </tr>\n",
       "    <tr>\n",
       "      <th>2</th>\n",
       "      <td>1</td>\n",
       "      <td>32</td>\n",
       "      <td>68</td>\n",
       "      <td>33.666667</td>\n",
       "    </tr>\n",
       "    <tr>\n",
       "      <th>4</th>\n",
       "      <td>22</td>\n",
       "      <td>24</td>\n",
       "      <td>43</td>\n",
       "      <td>29.666667</td>\n",
       "    </tr>\n",
       "  </tbody>\n",
       "</table>\n",
       "</div>"
      ],
      "text/plain": [
       "   Phy  Chem  Math        avg\n",
       "0   22    52    63  45.666667\n",
       "2    1    32    68  33.666667\n",
       "4   22    24    43  29.666667"
      ]
     },
     "execution_count": 23,
     "metadata": {},
     "output_type": "execute_result"
    }
   ],
   "source": [
    "filtered_df.iloc[:, 2:]"
   ]
  },
  {
   "cell_type": "code",
   "execution_count": 20,
   "id": "f50c3f2a",
   "metadata": {},
   "outputs": [
    {
     "data": {
      "text/plain": [
       "4    813\n",
       "2    375\n",
       "0    498\n",
       "Name: RID, dtype: int64"
      ]
     },
     "execution_count": 20,
     "metadata": {},
     "output_type": "execute_result"
    }
   ],
   "source": [
    "res_df = filtered_df.sort_values(by='avg')['RID']\n",
    "res_df "
   ]
  },
  {
   "cell_type": "code",
   "execution_count": null,
   "id": "871a9390",
   "metadata": {},
   "outputs": [],
   "source": [
    " df_new=df[(df['Percentage']>=75) & ((df['Stream']=='Commerce') | (df['Stream']=='Arts'))]['Name']"
   ]
  },
  {
   "cell_type": "code",
   "execution_count": 1,
   "id": "68770b51",
   "metadata": {},
   "outputs": [],
   "source": [
    "import numpy as np\n",
    "A = np.array([2, 0, 1, 9, 1, 1, 1, 0, 3, 5])"
   ]
  },
  {
   "cell_type": "code",
   "execution_count": 3,
   "id": "7f790632",
   "metadata": {},
   "outputs": [
    {
     "data": {
      "text/plain": [
       "[3, 1, 2, 10, 2, 2, 2, 1, 4, 6]"
      ]
     },
     "execution_count": 3,
     "metadata": {},
     "output_type": "execute_result"
    }
   ],
   "source": [
    "[x+1 for x in A]"
   ]
  },
  {
   "cell_type": "code",
   "execution_count": 6,
   "id": "a34349af",
   "metadata": {},
   "outputs": [
    {
     "data": {
      "text/plain": [
       "[3, 1, 2, 10, 2, 2, 2, 1, 4, 6]"
      ]
     },
     "execution_count": 6,
     "metadata": {},
     "output_type": "execute_result"
    }
   ],
   "source": [
    "list(map(lambda x:x+1, A))"
   ]
  },
  {
   "cell_type": "code",
   "execution_count": 2,
   "id": "09ff302f",
   "metadata": {},
   "outputs": [],
   "source": [
    "b=np.array([[1, 2 ,3], \n",
    " [4, 5, 6],\n",
    " [7 ,8, 9]])"
   ]
  },
  {
   "cell_type": "code",
   "execution_count": 3,
   "id": "bb43b8a3",
   "metadata": {},
   "outputs": [
    {
     "data": {
      "text/plain": [
       "array([[0, 0, 0, 0, 0],\n",
       "       [0, 1, 2, 3, 0],\n",
       "       [0, 4, 5, 6, 0],\n",
       "       [0, 7, 8, 9, 0],\n",
       "       [0, 0, 0, 0, 0]])"
      ]
     },
     "execution_count": 3,
     "metadata": {},
     "output_type": "execute_result"
    }
   ],
   "source": [
    "np.pad(b, [(1, ), (1, )], mode='constant')"
   ]
  },
  {
   "cell_type": "code",
   "execution_count": 5,
   "id": "cbad2f98",
   "metadata": {},
   "outputs": [
    {
     "data": {
      "text/plain": [
       "array([[1, 2, 3],\n",
       "       [4, 5, 6],\n",
       "       [7, 8, 9]])"
      ]
     },
     "execution_count": 5,
     "metadata": {},
     "output_type": "execute_result"
    }
   ],
   "source": [
    "b"
   ]
  },
  {
   "cell_type": "code",
   "execution_count": 7,
   "id": "497902b3",
   "metadata": {},
   "outputs": [
    {
     "data": {
      "text/plain": [
       "array([[7, 4, 1],\n",
       "       [8, 5, 2],\n",
       "       [9, 6, 3]])"
      ]
     },
     "execution_count": 7,
     "metadata": {},
     "output_type": "execute_result"
    }
   ],
   "source": [
    "np.rot90(b,3)"
   ]
  },
  {
   "cell_type": "code",
   "execution_count": 14,
   "id": "d7b5e277",
   "metadata": {},
   "outputs": [
    {
     "data": {
      "text/plain": [
       "array([[1, 4, 7],\n",
       "       [2, 5, 8],\n",
       "       [3, 6, 9]])"
      ]
     },
     "execution_count": 14,
     "metadata": {},
     "output_type": "execute_result"
    }
   ],
   "source": [
    "[[7 4 1]\n",
    " [8 5 2]\n",
    " [9 6 3]]"
   ]
  },
  {
   "cell_type": "code",
   "execution_count": 20,
   "id": "69ca99ec",
   "metadata": {},
   "outputs": [
    {
     "data": {
      "text/plain": [
       "array([[1, 2, 3],\n",
       "       [4, 5, 6],\n",
       "       [7, 8, 9]])"
      ]
     },
     "execution_count": 20,
     "metadata": {},
     "output_type": "execute_result"
    }
   ],
   "source": [
    "b"
   ]
  },
  {
   "cell_type": "code",
   "execution_count": 21,
   "id": "af4907ec",
   "metadata": {},
   "outputs": [
    {
     "data": {
      "text/plain": [
       "array([[1, 4, 7],\n",
       "       [2, 5, 8],\n",
       "       [3, 6, 9]])"
      ]
     },
     "execution_count": 21,
     "metadata": {},
     "output_type": "execute_result"
    }
   ],
   "source": [
    "b.T"
   ]
  },
  {
   "cell_type": "code",
   "execution_count": 27,
   "id": "b0acd622",
   "metadata": {},
   "outputs": [
    {
     "data": {
      "text/plain": [
       "array([[1, 2, 3],\n",
       "       [4, 5, 6],\n",
       "       [7, 8, 9]])"
      ]
     },
     "execution_count": 27,
     "metadata": {},
     "output_type": "execute_result"
    }
   ],
   "source": [
    "b"
   ]
  },
  {
   "cell_type": "code",
   "execution_count": 28,
   "id": "fe050f61",
   "metadata": {},
   "outputs": [
    {
     "data": {
      "text/plain": [
       "array([[1, 4, 7],\n",
       "       [2, 5, 8],\n",
       "       [3, 6, 9]])"
      ]
     },
     "execution_count": 28,
     "metadata": {},
     "output_type": "execute_result"
    }
   ],
   "source": [
    "b.T"
   ]
  },
  {
   "cell_type": "code",
   "execution_count": 58,
   "id": "95d20967",
   "metadata": {},
   "outputs": [
    {
     "data": {
      "text/plain": [
       "array([[1, 4, 7],\n",
       "       [2, 5, 8],\n",
       "       [3, 6, 9]])"
      ]
     },
     "execution_count": 58,
     "metadata": {},
     "output_type": "execute_result"
    }
   ],
   "source": [
    "b.T"
   ]
  },
  {
   "cell_type": "code",
   "execution_count": 73,
   "id": "1726ef68",
   "metadata": {},
   "outputs": [],
   "source": [
    "b[0,0:], b[b.ndim:,]=b[b.ndim:,],b[0,0:]"
   ]
  },
  {
   "cell_type": "code",
   "execution_count": 61,
   "id": "0ed57a51",
   "metadata": {},
   "outputs": [
    {
     "data": {
      "text/plain": [
       "array([1, 2, 3])"
      ]
     },
     "execution_count": 61,
     "metadata": {},
     "output_type": "execute_result"
    }
   ],
   "source": [
    "b[0,0:]"
   ]
  },
  {
   "cell_type": "code",
   "execution_count": 74,
   "id": "7b97742e",
   "metadata": {},
   "outputs": [
    {
     "data": {
      "text/plain": [
       "array([[7, 8, 9]])"
      ]
     },
     "execution_count": 74,
     "metadata": {},
     "output_type": "execute_result"
    }
   ],
   "source": [
    "b[b.ndim:,]"
   ]
  },
  {
   "cell_type": "code",
   "execution_count": 75,
   "id": "c603063e",
   "metadata": {},
   "outputs": [
    {
     "data": {
      "text/plain": [
       "array([7, 8, 9])"
      ]
     },
     "execution_count": 75,
     "metadata": {},
     "output_type": "execute_result"
    }
   ],
   "source": [
    "b[0,0:]"
   ]
  },
  {
   "cell_type": "code",
   "execution_count": 62,
   "id": "3d181042",
   "metadata": {},
   "outputs": [
    {
     "data": {
      "text/plain": [
       "array([[7, 8, 9]])"
      ]
     },
     "execution_count": 62,
     "metadata": {},
     "output_type": "execute_result"
    }
   ],
   "source": [
    "b[2:]"
   ]
  },
  {
   "cell_type": "code",
   "execution_count": 77,
   "id": "8ada03b6",
   "metadata": {},
   "outputs": [
    {
     "data": {
      "text/plain": [
       "array([[7, 8, 9],\n",
       "       [4, 5, 6],\n",
       "       [7, 8, 9]])"
      ]
     },
     "execution_count": 77,
     "metadata": {},
     "output_type": "execute_result"
    }
   ],
   "source": [
    "b"
   ]
  },
  {
   "cell_type": "code",
   "execution_count": 65,
   "id": "426de8d0",
   "metadata": {},
   "outputs": [],
   "source": [
    "a,b=2,3"
   ]
  },
  {
   "cell_type": "code",
   "execution_count": 66,
   "id": "9ceb83ed",
   "metadata": {},
   "outputs": [],
   "source": [
    "a,b=b,a"
   ]
  },
  {
   "cell_type": "code",
   "execution_count": 67,
   "id": "eb679487",
   "metadata": {},
   "outputs": [
    {
     "data": {
      "text/plain": [
       "(3, 2)"
      ]
     },
     "execution_count": 67,
     "metadata": {},
     "output_type": "execute_result"
    }
   ],
   "source": [
    "a,b"
   ]
  },
  {
   "cell_type": "code",
   "execution_count": 83,
   "id": "936c3f9f",
   "metadata": {},
   "outputs": [],
   "source": [
    "b=b.T"
   ]
  },
  {
   "cell_type": "code",
   "execution_count": 84,
   "id": "00e3399d",
   "metadata": {},
   "outputs": [
    {
     "data": {
      "text/plain": [
       "array([[1, 4, 7],\n",
       "       [2, 5, 8],\n",
       "       [3, 6, 9]])"
      ]
     },
     "execution_count": 84,
     "metadata": {},
     "output_type": "execute_result"
    }
   ],
   "source": [
    "b"
   ]
  },
  {
   "cell_type": "code",
   "execution_count": 91,
   "id": "c8b14e03",
   "metadata": {},
   "outputs": [],
   "source": [
    "b[:, [b.ndim,0]]=b[:, [0,b.ndim]]"
   ]
  },
  {
   "cell_type": "code",
   "execution_count": 95,
   "id": "20ca5ab9",
   "metadata": {},
   "outputs": [
    {
     "data": {
      "text/plain": [
       "array([[7, 1],\n",
       "       [8, 2],\n",
       "       [9, 3]])"
      ]
     },
     "execution_count": 95,
     "metadata": {},
     "output_type": "execute_result"
    }
   ],
   "source": [
    "b[:, [0,b.ndim]]"
   ]
  },
  {
   "cell_type": "code",
   "execution_count": 93,
   "id": "d452e455",
   "metadata": {},
   "outputs": [
    {
     "data": {
      "text/plain": [
       "array([[1, 7],\n",
       "       [2, 8],\n",
       "       [3, 9]])"
      ]
     },
     "execution_count": 93,
     "metadata": {},
     "output_type": "execute_result"
    }
   ],
   "source": [
    "b[:, [b.ndim,0]]"
   ]
  },
  {
   "cell_type": "code",
   "execution_count": 92,
   "id": "88c913ef",
   "metadata": {},
   "outputs": [
    {
     "data": {
      "text/plain": [
       "array([[7, 4, 1],\n",
       "       [8, 5, 2],\n",
       "       [9, 6, 3]])"
      ]
     },
     "execution_count": 92,
     "metadata": {},
     "output_type": "execute_result"
    }
   ],
   "source": [
    "b"
   ]
  },
  {
   "cell_type": "code",
   "execution_count": 120,
   "id": "f981ea01",
   "metadata": {},
   "outputs": [],
   "source": [
    "b=np.array([[1],[2]])\n"
   ]
  },
  {
   "cell_type": "code",
   "execution_count": 113,
   "id": "fa3cceee",
   "metadata": {},
   "outputs": [
    {
     "data": {
      "text/plain": [
       "array([[1, 2]])"
      ]
     },
     "execution_count": 113,
     "metadata": {},
     "output_type": "execute_result"
    }
   ],
   "source": [
    "b.T"
   ]
  },
  {
   "cell_type": "code",
   "execution_count": 114,
   "id": "a023d9a0",
   "metadata": {},
   "outputs": [
    {
     "ename": "IndexError",
     "evalue": "index 1 is out of bounds for axis 1 with size 1",
     "output_type": "error",
     "traceback": [
      "\u001b[1;31m---------------------------------------------------------------------------\u001b[0m",
      "\u001b[1;31mIndexError\u001b[0m                                Traceback (most recent call last)",
      "Input \u001b[1;32mIn [114]\u001b[0m, in \u001b[0;36m<cell line: 1>\u001b[1;34m()\u001b[0m\n\u001b[1;32m----> 1\u001b[0m b[:, [b\u001b[38;5;241m.\u001b[39mshape[\u001b[38;5;241m1\u001b[39m],\u001b[38;5;241m0\u001b[39m]]\u001b[38;5;241m=\u001b[39m\u001b[43mb\u001b[49m\u001b[43m[\u001b[49m\u001b[43m:\u001b[49m\u001b[43m,\u001b[49m\u001b[43m \u001b[49m\u001b[43m[\u001b[49m\u001b[38;5;241;43m0\u001b[39;49m\u001b[43m,\u001b[49m\u001b[43mb\u001b[49m\u001b[38;5;241;43m.\u001b[39;49m\u001b[43mshape\u001b[49m\u001b[43m[\u001b[49m\u001b[38;5;241;43m1\u001b[39;49m\u001b[43m]\u001b[49m\u001b[43m]\u001b[49m\u001b[43m]\u001b[49m\n",
      "\u001b[1;31mIndexError\u001b[0m: index 1 is out of bounds for axis 1 with size 1"
     ]
    }
   ],
   "source": [
    "b[:, [b.shape[1],0]]=b[:, [0,b.shape[1]]]"
   ]
  },
  {
   "cell_type": "code",
   "execution_count": 118,
   "id": "d5611b57",
   "metadata": {},
   "outputs": [
    {
     "ename": "IndexError",
     "evalue": "too many indices for array: array is 2-dimensional, but 3 were indexed",
     "output_type": "error",
     "traceback": [
      "\u001b[1;31m---------------------------------------------------------------------------\u001b[0m",
      "\u001b[1;31mIndexError\u001b[0m                                Traceback (most recent call last)",
      "Input \u001b[1;32mIn [118]\u001b[0m, in \u001b[0;36m<cell line: 1>\u001b[1;34m()\u001b[0m\n\u001b[1;32m----> 1\u001b[0m \u001b[43mb\u001b[49m\u001b[43m[\u001b[49m\u001b[43m:\u001b[49m\u001b[43m,\u001b[49m\u001b[43mb\u001b[49m\u001b[38;5;241;43m.\u001b[39;49m\u001b[43mshape\u001b[49m\u001b[43m[\u001b[49m\u001b[38;5;241;43m1\u001b[39;49m\u001b[43m]\u001b[49m\u001b[43m,\u001b[49m\u001b[38;5;241;43m0\u001b[39;49m\u001b[43m]\u001b[49m\n",
      "\u001b[1;31mIndexError\u001b[0m: too many indices for array: array is 2-dimensional, but 3 were indexed"
     ]
    }
   ],
   "source": [
    "b[:,b.shape[1],0]"
   ]
  },
  {
   "cell_type": "code",
   "execution_count": 119,
   "id": "7991485d",
   "metadata": {},
   "outputs": [
    {
     "ename": "SyntaxError",
     "evalue": "invalid syntax (1997241229.py, line 1)",
     "output_type": "error",
     "traceback": [
      "\u001b[1;36m  Input \u001b[1;32mIn [119]\u001b[1;36m\u001b[0m\n\u001b[1;33m    if b.ndim=1\u001b[0m\n\u001b[1;37m             ^\u001b[0m\n\u001b[1;31mSyntaxError\u001b[0m\u001b[1;31m:\u001b[0m invalid syntax\n"
     ]
    }
   ],
   "source": [
    "if b.ndim=1:\n",
    "    "
   ]
  },
  {
   "cell_type": "code",
   "execution_count": 126,
   "id": "d04114d0",
   "metadata": {},
   "outputs": [
    {
     "data": {
      "text/plain": [
       "array([[2, 1]])"
      ]
     },
     "execution_count": 126,
     "metadata": {},
     "output_type": "execute_result"
    }
   ],
   "source": [
    "np.rot90(b.T).T"
   ]
  },
  {
   "cell_type": "code",
   "execution_count": 132,
   "id": "c2d678d0",
   "metadata": {},
   "outputs": [],
   "source": [
    "x = np.array([-5, 9 , 20 , 25, -3, 5, 16, 10])\n",
    "x[(x >= -5) & (x <= 15)] *= -1 "
   ]
  },
  {
   "cell_type": "code",
   "execution_count": 133,
   "id": "469223d8",
   "metadata": {},
   "outputs": [
    {
     "data": {
      "text/plain": [
       "array([  5,  -9,  20,  25,   3,  -5,  16, -10])"
      ]
     },
     "execution_count": 133,
     "metadata": {},
     "output_type": "execute_result"
    }
   ],
   "source": [
    "x"
   ]
  },
  {
   "cell_type": "code",
   "execution_count": 135,
   "id": "41afbf0a",
   "metadata": {},
   "outputs": [],
   "source": [
    "b=np.array([[ 7, 4, 8, 5 ,1],  \n",
    " [ 8, 0 ,11, 3, 5], \n",
    " [ 9, 6, 3, 5, 0],\n",
    " [ 1, 5,7, 3,2],  \n",
    " [ 4, 7,2,9,1]])"
   ]
  },
  {
   "cell_type": "code",
   "execution_count": 139,
   "id": "900992de",
   "metadata": {},
   "outputs": [
    {
     "data": {
      "text/plain": [
       "array([4, 8, 8, 0, 6, 0, 2, 4, 2])"
      ]
     },
     "execution_count": 139,
     "metadata": {},
     "output_type": "execute_result"
    }
   ],
   "source": [
    "c=b[b%2==0]"
   ]
  },
  {
   "cell_type": "code",
   "execution_count": 148,
   "id": "a252db2c",
   "metadata": {},
   "outputs": [
    {
     "data": {
      "text/plain": [
       "array([4, 8, 8, 0, 6, 0, 2, 4, 2])"
      ]
     },
     "execution_count": 148,
     "metadata": {},
     "output_type": "execute_result"
    }
   ],
   "source": [
    "c"
   ]
  },
  {
   "cell_type": "code",
   "execution_count": 146,
   "id": "b69cc853",
   "metadata": {},
   "outputs": [
    {
     "data": {
      "text/plain": [
       "array([[4, 8, 8],\n",
       "       [0, 6, 0],\n",
       "       [2, 4, 2]])"
      ]
     },
     "execution_count": 146,
     "metadata": {},
     "output_type": "execute_result"
    }
   ],
   "source": [
    "c.reshape(int(np.sqrt(len(c))),-1)"
   ]
  },
  {
   "cell_type": "code",
   "execution_count": 2,
   "id": "87c5b234",
   "metadata": {},
   "outputs": [],
   "source": [
    "import numpy as np\n",
    "x = np.ones((5,5))\n",
    "x[1:-1,1:-1] = 0"
   ]
  },
  {
   "cell_type": "code",
   "execution_count": 3,
   "id": "c95d2f7a",
   "metadata": {},
   "outputs": [
    {
     "data": {
      "text/plain": [
       "array([[1., 1., 1., 1., 1.],\n",
       "       [1., 0., 0., 0., 1.],\n",
       "       [1., 0., 0., 0., 1.],\n",
       "       [1., 0., 0., 0., 1.],\n",
       "       [1., 1., 1., 1., 1.]])"
      ]
     },
     "execution_count": 3,
     "metadata": {},
     "output_type": "execute_result"
    }
   ],
   "source": [
    "x"
   ]
  },
  {
   "cell_type": "code",
   "execution_count": 8,
   "id": "122a8498",
   "metadata": {},
   "outputs": [
    {
     "name": "stdout",
     "output_type": "stream",
     "text": [
      "['Astha' 'Raghavendra' 'Ram']\n"
     ]
    }
   ],
   "source": [
    "print(np.sort(np.array(['Ram','Astha','Raghavendra'])))"
   ]
  },
  {
   "cell_type": "code",
   "execution_count": 9,
   "id": "2b8e5846",
   "metadata": {},
   "outputs": [
    {
     "data": {
      "text/plain": [
       "array([False, False, False])"
      ]
     },
     "execution_count": 9,
     "metadata": {},
     "output_type": "execute_result"
    }
   ],
   "source": [
    "arr1=np.array(['Ram','Astha','Brahat'])\n",
    "arr2=np.array(['Shyam','Kalyan','Naveen'])\n",
    "arr1>arr2"
   ]
  },
  {
   "cell_type": "code",
   "execution_count": 10,
   "id": "e0b392f2",
   "metadata": {},
   "outputs": [
    {
     "data": {
      "text/plain": [
       "array([[1., 1., 1., 1., 1.],\n",
       "       [1., 0., 0., 0., 1.],\n",
       "       [1., 0., 0., 0., 1.],\n",
       "       [1., 0., 0., 0., 1.],\n",
       "       [1., 1., 1., 1., 1.]])"
      ]
     },
     "execution_count": 10,
     "metadata": {},
     "output_type": "execute_result"
    }
   ],
   "source": [
    "x"
   ]
  },
  {
   "cell_type": "code",
   "execution_count": 12,
   "id": "222c792f",
   "metadata": {},
   "outputs": [
    {
     "data": {
      "text/plain": [
       "5"
      ]
     },
     "execution_count": 12,
     "metadata": {},
     "output_type": "execute_result"
    }
   ],
   "source": [
    "x.shape[1]"
   ]
  },
  {
   "cell_type": "code",
   "execution_count": 13,
   "id": "764a292e",
   "metadata": {},
   "outputs": [
    {
     "data": {
      "text/plain": [
       "array([[0., 0.],\n",
       "       [0., 0.]])"
      ]
     },
     "execution_count": 13,
     "metadata": {},
     "output_type": "execute_result"
    }
   ],
   "source": [
    "x[1:3, 2:4]"
   ]
  },
  {
   "cell_type": "code",
   "execution_count": 1,
   "id": "91e50453",
   "metadata": {},
   "outputs": [],
   "source": [
    "import pandas as pd"
   ]
  },
  {
   "cell_type": "code",
   "execution_count": 76,
   "id": "706a4bcd",
   "metadata": {},
   "outputs": [],
   "source": [
    "df= pd.DataFrame({'name':[\"Ram\",\"Shyam\",\"Mukesh\",\"Suresh\"],'age':[10,18,60,50]})"
   ]
  },
  {
   "cell_type": "code",
   "execution_count": 77,
   "id": "340f1a43",
   "metadata": {},
   "outputs": [
    {
     "data": {
      "text/html": [
       "<div>\n",
       "<style scoped>\n",
       "    .dataframe tbody tr th:only-of-type {\n",
       "        vertical-align: middle;\n",
       "    }\n",
       "\n",
       "    .dataframe tbody tr th {\n",
       "        vertical-align: top;\n",
       "    }\n",
       "\n",
       "    .dataframe thead th {\n",
       "        text-align: right;\n",
       "    }\n",
       "</style>\n",
       "<table border=\"1\" class=\"dataframe\">\n",
       "  <thead>\n",
       "    <tr style=\"text-align: right;\">\n",
       "      <th></th>\n",
       "      <th>name</th>\n",
       "      <th>age</th>\n",
       "    </tr>\n",
       "  </thead>\n",
       "  <tbody>\n",
       "    <tr>\n",
       "      <th>0</th>\n",
       "      <td>Ram</td>\n",
       "      <td>10</td>\n",
       "    </tr>\n",
       "    <tr>\n",
       "      <th>1</th>\n",
       "      <td>Shyam</td>\n",
       "      <td>18</td>\n",
       "    </tr>\n",
       "    <tr>\n",
       "      <th>2</th>\n",
       "      <td>Mukesh</td>\n",
       "      <td>60</td>\n",
       "    </tr>\n",
       "    <tr>\n",
       "      <th>3</th>\n",
       "      <td>Suresh</td>\n",
       "      <td>50</td>\n",
       "    </tr>\n",
       "  </tbody>\n",
       "</table>\n",
       "</div>"
      ],
      "text/plain": [
       "     name  age\n",
       "0     Ram   10\n",
       "1   Shyam   18\n",
       "2  Mukesh   60\n",
       "3  Suresh   50"
      ]
     },
     "execution_count": 77,
     "metadata": {},
     "output_type": "execute_result"
    }
   ],
   "source": [
    "df"
   ]
  },
  {
   "cell_type": "code",
   "execution_count": 78,
   "id": "e71720a5",
   "metadata": {},
   "outputs": [],
   "source": [
    "df['age']=pd.to_numeric(df['age'] )"
   ]
  },
  {
   "cell_type": "code",
   "execution_count": 79,
   "id": "fca9cc97",
   "metadata": {},
   "outputs": [],
   "source": [
    "df['age']=df['age'].apply(lambda x:'kid' if x<18 else('senior' if x>50 else 'adult') )\n",
    "#df['age']=df['age'].apply(lambda x:'senior' if x>50  else 'adult')"
   ]
  },
  {
   "cell_type": "code",
   "execution_count": 42,
   "id": "bd1d5d0a",
   "metadata": {},
   "outputs": [],
   "source": [
    "def com(age):\n",
    "    age=int(age)\n",
    "    if age<18:\n",
    "        age='kid'\n",
    "    elif age>18 and age<50:\n",
    "        age='adult'\n",
    "    else:\n",
    "        age='senior'\n",
    "    return age\n",
    "\n",
    "        \n",
    "        "
   ]
  },
  {
   "cell_type": "code",
   "execution_count": 30,
   "id": "d0f61ae3",
   "metadata": {},
   "outputs": [],
   "source": [
    "def com(age):\n",
    "    print(age)"
   ]
  },
  {
   "cell_type": "code",
   "execution_count": 43,
   "id": "9bd86e0a",
   "metadata": {},
   "outputs": [],
   "source": [
    "df['age']=df.age.apply(com)"
   ]
  },
  {
   "cell_type": "code",
   "execution_count": 80,
   "id": "2da79ebf",
   "metadata": {},
   "outputs": [
    {
     "data": {
      "text/html": [
       "<div>\n",
       "<style scoped>\n",
       "    .dataframe tbody tr th:only-of-type {\n",
       "        vertical-align: middle;\n",
       "    }\n",
       "\n",
       "    .dataframe tbody tr th {\n",
       "        vertical-align: top;\n",
       "    }\n",
       "\n",
       "    .dataframe thead th {\n",
       "        text-align: right;\n",
       "    }\n",
       "</style>\n",
       "<table border=\"1\" class=\"dataframe\">\n",
       "  <thead>\n",
       "    <tr style=\"text-align: right;\">\n",
       "      <th></th>\n",
       "      <th>name</th>\n",
       "      <th>age</th>\n",
       "    </tr>\n",
       "  </thead>\n",
       "  <tbody>\n",
       "    <tr>\n",
       "      <th>0</th>\n",
       "      <td>Ram</td>\n",
       "      <td>kid</td>\n",
       "    </tr>\n",
       "    <tr>\n",
       "      <th>1</th>\n",
       "      <td>Shyam</td>\n",
       "      <td>adult</td>\n",
       "    </tr>\n",
       "    <tr>\n",
       "      <th>2</th>\n",
       "      <td>Mukesh</td>\n",
       "      <td>senior</td>\n",
       "    </tr>\n",
       "    <tr>\n",
       "      <th>3</th>\n",
       "      <td>Suresh</td>\n",
       "      <td>adult</td>\n",
       "    </tr>\n",
       "  </tbody>\n",
       "</table>\n",
       "</div>"
      ],
      "text/plain": [
       "     name     age\n",
       "0     Ram     kid\n",
       "1   Shyam   adult\n",
       "2  Mukesh  senior\n",
       "3  Suresh   adult"
      ]
     },
     "execution_count": 80,
     "metadata": {},
     "output_type": "execute_result"
    }
   ],
   "source": [
    "df"
   ]
  },
  {
   "cell_type": "code",
   "execution_count": 1,
   "id": "28c21647",
   "metadata": {},
   "outputs": [
    {
     "data": {
      "text/html": [
       "<div>\n",
       "<style scoped>\n",
       "    .dataframe tbody tr th:only-of-type {\n",
       "        vertical-align: middle;\n",
       "    }\n",
       "\n",
       "    .dataframe tbody tr th {\n",
       "        vertical-align: top;\n",
       "    }\n",
       "\n",
       "    .dataframe thead th {\n",
       "        text-align: right;\n",
       "    }\n",
       "</style>\n",
       "<table border=\"1\" class=\"dataframe\">\n",
       "  <thead>\n",
       "    <tr style=\"text-align: right;\">\n",
       "      <th></th>\n",
       "      <th>Region</th>\n",
       "      <th>Manager</th>\n",
       "      <th>SalesMan</th>\n",
       "      <th>Item</th>\n",
       "      <th>Units</th>\n",
       "      <th>Unit_price</th>\n",
       "      <th>Sale_amt</th>\n",
       "    </tr>\n",
       "  </thead>\n",
       "  <tbody>\n",
       "    <tr>\n",
       "      <th>36</th>\n",
       "      <td>Central</td>\n",
       "      <td>Timothy</td>\n",
       "      <td>David</td>\n",
       "      <td>Television</td>\n",
       "      <td>7.0</td>\n",
       "      <td>1198.0</td>\n",
       "      <td>8386.0</td>\n",
       "    </tr>\n",
       "    <tr>\n",
       "      <th>14</th>\n",
       "      <td>Central</td>\n",
       "      <td>Douglas</td>\n",
       "      <td>John</td>\n",
       "      <td>Desk</td>\n",
       "      <td>2.0</td>\n",
       "      <td>125.0</td>\n",
       "      <td>250.0</td>\n",
       "    </tr>\n",
       "    <tr>\n",
       "      <th>30</th>\n",
       "      <td>Central</td>\n",
       "      <td>Timothy</td>\n",
       "      <td>David</td>\n",
       "      <td>Home Theater</td>\n",
       "      <td>80.0</td>\n",
       "      <td>500.0</td>\n",
       "      <td>40000.0</td>\n",
       "    </tr>\n",
       "    <tr>\n",
       "      <th>25</th>\n",
       "      <td>West</td>\n",
       "      <td>Timothy</td>\n",
       "      <td>Stephen</td>\n",
       "      <td>Home Theater</td>\n",
       "      <td>7.0</td>\n",
       "      <td>500.0</td>\n",
       "      <td>3500.0</td>\n",
       "    </tr>\n",
       "    <tr>\n",
       "      <th>31</th>\n",
       "      <td>Central</td>\n",
       "      <td>Hermann</td>\n",
       "      <td>Shelli</td>\n",
       "      <td>Desk</td>\n",
       "      <td>5.0</td>\n",
       "      <td>125.0</td>\n",
       "      <td>625.0</td>\n",
       "    </tr>\n",
       "    <tr>\n",
       "      <th>38</th>\n",
       "      <td>West</td>\n",
       "      <td>Douglas</td>\n",
       "      <td>Michael</td>\n",
       "      <td>Home Theater</td>\n",
       "      <td>57.0</td>\n",
       "      <td>500.0</td>\n",
       "      <td>28500.0</td>\n",
       "    </tr>\n",
       "    <tr>\n",
       "      <th>18</th>\n",
       "      <td>East</td>\n",
       "      <td>Douglas</td>\n",
       "      <td>Karen</td>\n",
       "      <td>Cell Phone</td>\n",
       "      <td>15.0</td>\n",
       "      <td>225.0</td>\n",
       "      <td>3375.0</td>\n",
       "    </tr>\n",
       "  </tbody>\n",
       "</table>\n",
       "</div>"
      ],
      "text/plain": [
       "     Region  Manager SalesMan          Item  Units  Unit_price  Sale_amt\n",
       "36  Central  Timothy    David    Television    7.0      1198.0    8386.0\n",
       "14  Central  Douglas     John          Desk    2.0       125.0     250.0\n",
       "30  Central  Timothy    David  Home Theater   80.0       500.0   40000.0\n",
       "25     West  Timothy  Stephen  Home Theater    7.0       500.0    3500.0\n",
       "31  Central  Hermann   Shelli          Desk    5.0       125.0     625.0\n",
       "38     West  Douglas  Michael  Home Theater   57.0       500.0   28500.0\n",
       "18     East  Douglas    Karen    Cell Phone   15.0       225.0    3375.0"
      ]
     },
     "execution_count": 1,
     "metadata": {},
     "output_type": "execute_result"
    }
   ],
   "source": [
    "import pandas as pd\n",
    "pd.DataFrame({'Region': {36: 'Central', 14: 'Central', 30: 'Central', 25: 'West', 31: 'Central', 38: 'West', 18: 'East'}, 'Manager': {36: 'Timothy', 14: 'Douglas', 30: 'Timothy', 25: 'Timothy', 31: 'Hermann', 38: 'Douglas', 18: 'Douglas'}, 'SalesMan': {36: 'David', 14: 'John', 30: 'David', 25: 'Stephen', 31: 'Shelli', 38: 'Michael', 18: 'Karen'}, 'Item': {36: 'Television', 14: 'Desk', 30: 'Home Theater', 25: 'Home Theater', 31: 'Desk', 38: 'Home Theater', 18: 'Cell Phone'}, 'Units': {36: 7.0, 14: 2.0, 30: 80.0, 25: 7.0, 31: 5.0, 38: 57.0, 18: 15.0}, 'Unit_price': {36: 1198.0, 14: 125.0, 30: 500.0, 25: 500.0, 31: 125.0, 38: 500.0, 18: 225.0}, 'Sale_amt': {36: 8386.0, 14: 250.0, 30: 40000.0, 25: 3500.0, 31: 625.0, 38: 28500.0, 18: 3375.0}})"
   ]
  },
  {
   "cell_type": "code",
   "execution_count": 1,
   "id": "2d6e71de",
   "metadata": {},
   "outputs": [],
   "source": [
    "import pandas as pd  \n",
    "df1 = pd.DataFrame({'chem_score':[10, 9, 8, 7], 'phy_score':[7, 8, 9, 10], 'Hindi_score':[9, 9, 9, 9]}, index = ['tobey', 'peter', 'chris', 'pratt'])  \n",
    "df2 = pd.DataFrame({'chem_score':[10, 10, 10, 9], 'maths_score':[6, 6, 7, 9], 'eng_score':[9, 10, 10, 9]}, index = ['chris', 'pratt', 'andrew', 'tom'])"
   ]
  },
  {
   "cell_type": "code",
   "execution_count": 2,
   "id": "3dc9fa0b",
   "metadata": {},
   "outputs": [
    {
     "data": {
      "text/html": [
       "<div>\n",
       "<style scoped>\n",
       "    .dataframe tbody tr th:only-of-type {\n",
       "        vertical-align: middle;\n",
       "    }\n",
       "\n",
       "    .dataframe tbody tr th {\n",
       "        vertical-align: top;\n",
       "    }\n",
       "\n",
       "    .dataframe thead th {\n",
       "        text-align: right;\n",
       "    }\n",
       "</style>\n",
       "<table border=\"1\" class=\"dataframe\">\n",
       "  <thead>\n",
       "    <tr style=\"text-align: right;\">\n",
       "      <th></th>\n",
       "      <th>chem_score</th>\n",
       "      <th>phy_score</th>\n",
       "      <th>Hindi_score</th>\n",
       "    </tr>\n",
       "  </thead>\n",
       "  <tbody>\n",
       "    <tr>\n",
       "      <th>tobey</th>\n",
       "      <td>10</td>\n",
       "      <td>7</td>\n",
       "      <td>9</td>\n",
       "    </tr>\n",
       "    <tr>\n",
       "      <th>peter</th>\n",
       "      <td>9</td>\n",
       "      <td>8</td>\n",
       "      <td>9</td>\n",
       "    </tr>\n",
       "    <tr>\n",
       "      <th>chris</th>\n",
       "      <td>8</td>\n",
       "      <td>9</td>\n",
       "      <td>9</td>\n",
       "    </tr>\n",
       "    <tr>\n",
       "      <th>pratt</th>\n",
       "      <td>7</td>\n",
       "      <td>10</td>\n",
       "      <td>9</td>\n",
       "    </tr>\n",
       "  </tbody>\n",
       "</table>\n",
       "</div>"
      ],
      "text/plain": [
       "       chem_score  phy_score  Hindi_score\n",
       "tobey          10          7            9\n",
       "peter           9          8            9\n",
       "chris           8          9            9\n",
       "pratt           7         10            9"
      ]
     },
     "execution_count": 2,
     "metadata": {},
     "output_type": "execute_result"
    }
   ],
   "source": [
    "df1"
   ]
  },
  {
   "cell_type": "code",
   "execution_count": 38,
   "id": "90592757",
   "metadata": {},
   "outputs": [
    {
     "data": {
      "text/html": [
       "<div>\n",
       "<style scoped>\n",
       "    .dataframe tbody tr th:only-of-type {\n",
       "        vertical-align: middle;\n",
       "    }\n",
       "\n",
       "    .dataframe tbody tr th {\n",
       "        vertical-align: top;\n",
       "    }\n",
       "\n",
       "    .dataframe thead th {\n",
       "        text-align: right;\n",
       "    }\n",
       "</style>\n",
       "<table border=\"1\" class=\"dataframe\">\n",
       "  <thead>\n",
       "    <tr style=\"text-align: right;\">\n",
       "      <th></th>\n",
       "      <th>chem_score</th>\n",
       "      <th>maths_score</th>\n",
       "      <th>eng_score</th>\n",
       "    </tr>\n",
       "  </thead>\n",
       "  <tbody>\n",
       "    <tr>\n",
       "      <th>chris</th>\n",
       "      <td>10</td>\n",
       "      <td>6</td>\n",
       "      <td>9</td>\n",
       "    </tr>\n",
       "    <tr>\n",
       "      <th>pratt</th>\n",
       "      <td>10</td>\n",
       "      <td>6</td>\n",
       "      <td>10</td>\n",
       "    </tr>\n",
       "    <tr>\n",
       "      <th>andrew</th>\n",
       "      <td>10</td>\n",
       "      <td>7</td>\n",
       "      <td>10</td>\n",
       "    </tr>\n",
       "    <tr>\n",
       "      <th>tom</th>\n",
       "      <td>9</td>\n",
       "      <td>9</td>\n",
       "      <td>9</td>\n",
       "    </tr>\n",
       "  </tbody>\n",
       "</table>\n",
       "</div>"
      ],
      "text/plain": [
       "        chem_score  maths_score  eng_score\n",
       "chris           10            6          9\n",
       "pratt           10            6         10\n",
       "andrew          10            7         10\n",
       "tom              9            9          9"
      ]
     },
     "execution_count": 38,
     "metadata": {},
     "output_type": "execute_result"
    }
   ],
   "source": [
    "df2"
   ]
  },
  {
   "cell_type": "code",
   "execution_count": 39,
   "id": "8d9234a0",
   "metadata": {},
   "outputs": [
    {
     "data": {
      "text/plain": [
       "9.125"
      ]
     },
     "execution_count": 39,
     "metadata": {},
     "output_type": "execute_result"
    }
   ],
   "source": [
    "k=list()\n",
    "k=(df1.chem_score.mean()+df2.chem_score.mean())/2\n",
    "k"
   ]
  },
  {
   "cell_type": "code",
   "execution_count": 40,
   "id": "185abcf9",
   "metadata": {},
   "outputs": [],
   "source": [
    "df=pd.merge(df1,df2, left_index=True, right_index=True, how='inner')"
   ]
  },
  {
   "cell_type": "code",
   "execution_count": 41,
   "id": "4be133f8",
   "metadata": {},
   "outputs": [
    {
     "data": {
      "text/html": [
       "<div>\n",
       "<style scoped>\n",
       "    .dataframe tbody tr th:only-of-type {\n",
       "        vertical-align: middle;\n",
       "    }\n",
       "\n",
       "    .dataframe tbody tr th {\n",
       "        vertical-align: top;\n",
       "    }\n",
       "\n",
       "    .dataframe thead th {\n",
       "        text-align: right;\n",
       "    }\n",
       "</style>\n",
       "<table border=\"1\" class=\"dataframe\">\n",
       "  <thead>\n",
       "    <tr style=\"text-align: right;\">\n",
       "      <th></th>\n",
       "      <th>chem_score_x</th>\n",
       "      <th>phy_score</th>\n",
       "      <th>Hindi_score</th>\n",
       "      <th>chem_score_y</th>\n",
       "      <th>maths_score</th>\n",
       "      <th>eng_score</th>\n",
       "    </tr>\n",
       "  </thead>\n",
       "  <tbody>\n",
       "    <tr>\n",
       "      <th>chris</th>\n",
       "      <td>8</td>\n",
       "      <td>9</td>\n",
       "      <td>9</td>\n",
       "      <td>10</td>\n",
       "      <td>6</td>\n",
       "      <td>9</td>\n",
       "    </tr>\n",
       "    <tr>\n",
       "      <th>pratt</th>\n",
       "      <td>7</td>\n",
       "      <td>10</td>\n",
       "      <td>9</td>\n",
       "      <td>10</td>\n",
       "      <td>6</td>\n",
       "      <td>10</td>\n",
       "    </tr>\n",
       "  </tbody>\n",
       "</table>\n",
       "</div>"
      ],
      "text/plain": [
       "       chem_score_x  phy_score  Hindi_score  chem_score_y  maths_score  \\\n",
       "chris             8          9            9            10            6   \n",
       "pratt             7         10            9            10            6   \n",
       "\n",
       "       eng_score  \n",
       "chris          9  \n",
       "pratt         10  "
      ]
     },
     "execution_count": 41,
     "metadata": {},
     "output_type": "execute_result"
    }
   ],
   "source": [
    "df"
   ]
  },
  {
   "cell_type": "code",
   "execution_count": 42,
   "id": "6c530f78",
   "metadata": {},
   "outputs": [
    {
     "data": {
      "text/plain": [
       "[8.5, 8.666666666666666]"
      ]
     },
     "execution_count": 42,
     "metadata": {},
     "output_type": "execute_result"
    }
   ],
   "source": [
    "k1=df.mean(axis=1).to_list()\n",
    "k1"
   ]
  },
  {
   "cell_type": "code",
   "execution_count": 45,
   "id": "74a90f15",
   "metadata": {},
   "outputs": [],
   "source": [
    "k=[k]"
   ]
  },
  {
   "cell_type": "code",
   "execution_count": 47,
   "id": "b7a2485a",
   "metadata": {},
   "outputs": [],
   "source": [
    "k.append(k1)"
   ]
  },
  {
   "cell_type": "code",
   "execution_count": 48,
   "id": "4e99227b",
   "metadata": {},
   "outputs": [
    {
     "data": {
      "text/plain": [
       "[9.125, [8.5, 8.666666666666666]]"
      ]
     },
     "execution_count": 48,
     "metadata": {},
     "output_type": "execute_result"
    }
   ],
   "source": [
    "k"
   ]
  },
  {
   "cell_type": "code",
   "execution_count": null,
   "id": "1641f4e7",
   "metadata": {},
   "outputs": [],
   "source": []
  }
 ],
 "metadata": {
  "kernelspec": {
   "display_name": "Python 3 (ipykernel)",
   "language": "python",
   "name": "python3"
  },
  "language_info": {
   "codemirror_mode": {
    "name": "ipython",
    "version": 3
   },
   "file_extension": ".py",
   "mimetype": "text/x-python",
   "name": "python",
   "nbconvert_exporter": "python",
   "pygments_lexer": "ipython3",
   "version": "3.8.13"
  }
 },
 "nbformat": 4,
 "nbformat_minor": 5
}
