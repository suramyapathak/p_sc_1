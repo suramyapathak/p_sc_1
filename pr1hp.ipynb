{
 "cells": [
  {
   "cell_type": "markdown",
   "id": "ff6a62eb",
   "metadata": {},
   "source": [
    "Create a class Student and initialize it with details marks in subject 1, credit of subject 1, marks in subject 2, and credit of subject 2.\n",
    "\n",
    "Create a function grade_point_average() for the Student class which computes the GPA rounded to two decimals, based on the following criteria of points in a subject :\n",
    "\n",
    "1. If marks>=90:10 points\n",
    "2. If 90>marks>=75: 9 points\n",
    "3. If 75>marks>=60: 8 points\n",
    "4. If 60>marks>=45: 7 points\n",
    "5. If marks<45: 0 points\n",
    "\n",
    "GPA = (points in subject 1 * credit of subject 1+ points in subject 2 * credit of subject 2) / ( credit of subject 1 + credit of subject 2)\n",
    "\n",
    "The points in a subject should be calculated according to the criteria mentioned in the question.\n",
    "Also, implement a special zero case to handle when credits of both subjects are 0, return \"Zero credits for both subjects\".\n",
    "\n",
    "Input Example:\n",
    "\n",
    "# class Student takes (marks1,marks2,credits1,credits2)\n",
    "(85, 76, 3, 4)\n",
    "\n",
    "Output Example:\n",
    "\n",
    "#output is GPA value\n",
    "9.0"
   ]
  },
  {
   "cell_type": "code",
   "execution_count": 17,
   "id": "93ff97e8",
   "metadata": {},
   "outputs": [],
   "source": [
    "class student:\n",
    "    \n",
    "    def __init__ (self, marks1,marks2,credits1, credits2):\n",
    "        self.marks1=marks1\n",
    "        self.marks2=marks2\n",
    "        self.credits1=credits1\n",
    "        self.credits2=credits2\n",
    "        \n",
    "        \n",
    "    def grade_point_average(self):\n",
    "        gpa=0\n",
    "\n",
    "        #YOUR CODE GOES HERE\n",
    "        i=0\n",
    "        points=[]\n",
    "        for a in (self.marks1, self.marks2):\n",
    "            if a<45:\n",
    "                points.append(0)\n",
    "            elif (a>44 and a<60):\n",
    "                points.append(7)\n",
    "            elif (a>59 and a<75):\n",
    "                points.append(8)\n",
    "            elif (a>74 and a<90):\n",
    "                points.append(9)\n",
    "            elif a>90:\n",
    "                points.append(10)\n",
    "            i+=1\n",
    "\n",
    "        if (self.credits1==0) and (self.credits2==0):\n",
    "            print(\"Zero credits for both subjects\")\n",
    "        else:\n",
    "            gpa=round(((points[0]*self.credits1) + (points[1]*self.credits2))/(self.credits1+self.credits2),2)\n",
    "            print(points[0],self.marks1 , points[1],self.marks2,self.credits1,self.credits2)\n",
    "        return gpa\n",
    "        \n",
    "        "
   ]
  },
  {
   "cell_type": "code",
   "execution_count": 18,
   "id": "80dd79b4",
   "metadata": {},
   "outputs": [
    {
     "data": {
      "text/plain": [
       "9.0"
      ]
     },
     "execution_count": 18,
     "metadata": {},
     "output_type": "execute_result"
    }
   ],
   "source": [
    "(9*3+9*4)/7"
   ]
  },
  {
   "cell_type": "code",
   "execution_count": 19,
   "id": "4b6f15f8",
   "metadata": {},
   "outputs": [],
   "source": [
    "s1=student(35, 92, 4, 5)"
   ]
  },
  {
   "cell_type": "code",
   "execution_count": 20,
   "id": "f108036b",
   "metadata": {},
   "outputs": [
    {
     "name": "stdout",
     "output_type": "stream",
     "text": [
      "0 35 10 92 4 5\n"
     ]
    },
    {
     "data": {
      "text/plain": [
       "5.56"
      ]
     },
     "execution_count": 20,
     "metadata": {},
     "output_type": "execute_result"
    }
   ],
   "source": [
    "s1.grade_point_average()"
   ]
  },
  {
   "cell_type": "code",
   "execution_count": null,
   "id": "1ace0cc9",
   "metadata": {},
   "outputs": [],
   "source": [
    "\n",
    "points=[]\n",
    "i=0\n",
    "\n",
    "\n",
    "for a in (marks1, marks2):\n",
    "   \n",
    "    if a<45:\n",
    "        points.append(0)\n",
    "    elif a>44 and a<60:\n",
    "        points.append(7)\n",
    "    elif a>59 and a<75:\n",
    "        points.append(8)\n",
    "    elif a>74 and a<90:\n",
    "        points.append(9)\n",
    "    elif a>90:\n",
    "        points.append(10)\n",
    "    i+=1"
   ]
  },
  {
   "cell_type": "code",
   "execution_count": null,
   "id": "7ce92ed8",
   "metadata": {},
   "outputs": [],
   "source": [
    "points[0]"
   ]
  },
  {
   "cell_type": "code",
   "execution_count": 20,
   "id": "64569a05",
   "metadata": {},
   "outputs": [],
   "source": [
    "b1=bill(200, 650)"
   ]
  },
  {
   "cell_type": "code",
   "execution_count": 21,
   "id": "6e9e3014",
   "metadata": {},
   "outputs": [
    {
     "data": {
      "text/plain": [
       "3000"
      ]
     },
     "execution_count": 21,
     "metadata": {},
     "output_type": "execute_result"
    }
   ],
   "source": [
    "b1.total_bill()"
   ]
  },
  {
   "cell_type": "code",
   "execution_count": 36,
   "id": "4cadfbc6",
   "metadata": {},
   "outputs": [],
   "source": [
    "def timeHandle(a,b,c,d):\n",
    "    '''inputs: a,b = hours and mins of t1\n",
    "               c,d = hours and mins of t2\n",
    "        Output: Two lines of output for each pair of t1 and t2. The code for printing outputs is already just make sure to return in the methods.'''\n",
    "    # The code for taking input and printing output is already taken care of.\n",
    "\n",
    "    class Spanoftime:\n",
    "        def __init__(self,h,m):\n",
    "            self.hours=h\n",
    "            self.mins=m\n",
    "            \n",
    "        def displayTime(self):\n",
    "            return (\"{} hours and {} min\".format(self.hours,self.mins))\n",
    "        \n",
    "        def addTime(t1,t2):\n",
    "            t3=Spanoftime(0,0)\n",
    "            # Complete the function\n",
    "            h=0\n",
    "            m=0\n",
    "            if (t1.mins+t2.mins)>60:\n",
    "                h=1\n",
    "                m=60\n",
    "            k=t1.hours+t2.hours+h\n",
    "            l=t1.mins+t2.mins-m\n",
    "            t3=Spanoftime(k,l)\n",
    "            print(t1.hours, t2.hours)\n",
    "            return t3\n",
    "            \n",
    "        def returnMinutes(t1,t2):\n",
    "            # Return the total number of minutes\n",
    "            t=(t1.hours+t2.hours)*60+t1.mins+t2.mins\n",
    "            return t\n",
    "            \n",
    "        \n",
    "    t1=Spanoftime(a,b)\n",
    "    t2=Spanoftime(c,d)\n",
    "    t3=Spanoftime.addTime(t1,t2)\n",
    "    t3.displayTime()\n",
    "    totalmin=str(Spanoftime.returnMinutes(t1,t2))\n",
    "    return t3.displayTime(),(\"The total minutes in time t1 and t2 are: \" + totalmin)"
   ]
  },
  {
   "cell_type": "code",
   "execution_count": 37,
   "id": "fe68d1b9",
   "metadata": {},
   "outputs": [
    {
     "name": "stdout",
     "output_type": "stream",
     "text": [
      "1 2\n"
     ]
    },
    {
     "data": {
      "text/plain": [
       "('4 hours and 40 min', 'The total minutes in time t1 and t2 are: 280')"
      ]
     },
     "execution_count": 37,
     "metadata": {},
     "output_type": "execute_result"
    }
   ],
   "source": [
    "timeHandle(1,50,2,50)"
   ]
  },
  {
   "cell_type": "code",
   "execution_count": 22,
   "id": "21c52e81",
   "metadata": {},
   "outputs": [],
   "source": [
    "class Smaller:\n",
    "    def __init__(self,a):\n",
    "        self.string=a\n",
    "    \n",
    "    def display(self):\n",
    "        print(\"The type of Name is smaller\")\n",
    "    \n",
    "    def evaluate(self):\n",
    "        ans=0\n",
    "        for b in self.string:\n",
    "            if(b=='a') or(b=='A') or(b=='e') or(b=='E') or(b=='i') or(b=='I') or(b=='o') or(b=='O') or(b=='u') or(b=='U'):\n",
    "                ans+=1\n",
    "        # YOUR CODE GOES HERE\n",
    "        print(ans)\n",
    "        \n",
    "class Larger:\n",
    "    def __init__(self,a):\n",
    "        self.string=a\n",
    "    \n",
    "    def display(self):\n",
    "        print(\"The type of Name is larger\")\n",
    "    \n",
    "    def evaluate(self):\n",
    "        ans=0\n",
    "        \n",
    "        # YOUR CODE GOES HERE\n",
    "        for b in self.string:\n",
    "            s:\n",
    "                ans+=1\n",
    "        print(ans)\n",
    "\n",
    "def main(a):\n",
    "    '''\n",
    "    input a is string\n",
    "    '''\n",
    "    if len(a)<6:\n",
    "        obj=Smaller(a)\n",
    "        obj.display()\n",
    "        obj.evaluate()\n",
    "    else:\n",
    "        obj=Larger(a)\n",
    "        obj.display()\n",
    "        obj.evaluate()"
   ]
  },
  {
   "cell_type": "code",
   "execution_count": 23,
   "id": "5076d09a",
   "metadata": {},
   "outputs": [
    {
     "name": "stdout",
     "output_type": "stream",
     "text": [
      "The type of Name is larger\n",
      "6\n"
     ]
    }
   ],
   "source": [
    "main('amanrathore')"
   ]
  },
  {
   "cell_type": "code",
   "execution_count": 1,
   "id": "93eb6464",
   "metadata": {},
   "outputs": [
    {
     "name": "stdout",
     "output_type": "stream",
     "text": [
      "John\n"
     ]
    }
   ],
   "source": [
    "class People():\n",
    "    def __init__(self, name):\n",
    "        self.name = name\n",
    "\n",
    "    def get_name(self):\n",
    "        print(self.name)\n",
    "\n",
    "person1 = People(\"John\")\n",
    "person2 = People(\"Mary\")\n",
    "person1.get_name()"
   ]
  },
  {
   "cell_type": "code",
   "execution_count": 2,
   "id": "cac3818d",
   "metadata": {},
   "outputs": [
    {
     "name": "stdout",
     "output_type": "stream",
     "text": [
      "lose win\n"
     ]
    }
   ],
   "source": [
    "class football:\n",
    "    final_res= 'lose'\n",
    "    def __init__(self,name,score):\n",
    "        self.name = name\n",
    "        self.score = score\n",
    "        self.final_res = 'lose'\n",
    "    \n",
    "    def calc(self, winning_score):\n",
    "        if self.score>winning_score:\n",
    "            self.final_res='win'\n",
    "match = football('Juventus',3)\n",
    "match.calc(2)\n",
    "print(football.final_res, match.final_res)"
   ]
  },
  {
   "cell_type": "code",
   "execution_count": 6,
   "id": "abe44c7d",
   "metadata": {},
   "outputs": [
    {
     "name": "stdout",
     "output_type": "stream",
     "text": [
      "Emma 10 Machine Learning\n"
     ]
    }
   ],
   "source": [
    "class Student:\n",
    "  # Class variable\n",
    "  subject_name = 'Math for Machine Learning'\n",
    "\n",
    "  # constructor\n",
    "  def __init__(self, name, roll_no):\n",
    "    self.name = name\n",
    "    self.roll_no = roll_no\n",
    "\n",
    "  # create Objects\n",
    "s1 = Student('Emma', 10)\n",
    "Student.subject_name = 'Machine Learning'\n",
    "    #_____________________#blank1\n",
    "    #_____________________#blank2\n",
    "\n",
    "print(s1.name, s1.roll_no, s1.subject_name)"
   ]
  },
  {
   "cell_type": "code",
   "execution_count": 8,
   "id": "9e477748",
   "metadata": {},
   "outputs": [
    {
     "name": "stdout",
     "output_type": "stream",
     "text": [
      "[(True, 64), (False, 125), (True, 216)]\n"
     ]
    }
   ],
   "source": [
    "class solution:\n",
    "    def initial(self,sets):\n",
    "        return self.final(sets)\n",
    " \n",
    "    def final(self, sets):\n",
    "        return list(map(lambda x: ((x**3)%2==0,x**3),sets))\n",
    "\n",
    "print(solution().initial([4,5,6]))"
   ]
  },
  {
   "cell_type": "code",
   "execution_count": 12,
   "id": "20b5422e",
   "metadata": {},
   "outputs": [],
   "source": [
    "class Circle:\n",
    "    pi = 3.14\n",
    "    def __init__(self, diameter):\n",
    "        self.radius = diameter / 2\n",
    "        print(self.radius)\n",
    "\n",
    "    def circumference(self):\n",
    "        return 2 * self.pi * self.radius"
   ]
  },
  {
   "cell_type": "code",
   "execution_count": 13,
   "id": "9ad676ea",
   "metadata": {},
   "outputs": [
    {
     "name": "stdout",
     "output_type": "stream",
     "text": [
      "6.0\n",
      "37.68\n"
     ]
    }
   ],
   "source": [
    "pizza = Circle(12)\n",
    "print(pizza.circumference())"
   ]
  },
  {
   "cell_type": "code",
   "execution_count": 14,
   "id": "a0fdeb07",
   "metadata": {},
   "outputs": [
    {
     "ename": "AttributeError",
     "evalue": "'Employee' object has no attribute '__salary'",
     "output_type": "error",
     "traceback": [
      "\u001b[1;31m---------------------------------------------------------------------------\u001b[0m",
      "\u001b[1;31mAttributeError\u001b[0m                            Traceback (most recent call last)",
      "Input \u001b[1;32mIn [14]\u001b[0m, in \u001b[0;36m<cell line: 11>\u001b[1;34m()\u001b[0m\n\u001b[0;32m      7\u001b[0m         \u001b[38;5;28mself\u001b[39m\u001b[38;5;241m.\u001b[39m__salary\u001b[38;5;241m=\u001b[39mval\n\u001b[0;32m      9\u001b[0m e1\u001b[38;5;241m=\u001b[39mEmployee(\u001b[38;5;124m\"\u001b[39m\u001b[38;5;124mRahul\u001b[39m\u001b[38;5;124m\"\u001b[39m,\u001b[38;5;241m200\u001b[39m)\n\u001b[1;32m---> 11\u001b[0m \u001b[38;5;28mprint\u001b[39m(\u001b[43me1\u001b[49m\u001b[38;5;241;43m.\u001b[39;49m\u001b[43m__salary\u001b[49m)\n",
      "\u001b[1;31mAttributeError\u001b[0m: 'Employee' object has no attribute '__salary'"
     ]
    }
   ],
   "source": [
    "class Employee:\n",
    "\n",
    "    def __init__(self, name, val):\n",
    "\n",
    "        self.__name=name\n",
    "\n",
    "        self.__salary=val\n",
    "\n",
    "e1=Employee(\"Rahul\",200)\n",
    "\n",
    "print(e1.__salary)"
   ]
  },
  {
   "cell_type": "code",
   "execution_count": 15,
   "id": "d9295df8",
   "metadata": {},
   "outputs": [
    {
     "name": "stdout",
     "output_type": "stream",
     "text": [
      "200\n"
     ]
    }
   ],
   "source": [
    "class Employee:\n",
    "\n",
    "    def __init__(self, name, val):\n",
    "\n",
    "        self._name=name\n",
    "\n",
    "        self._salary=val\n",
    "\n",
    "e1=Employee(\"Rahul\",200)\n",
    "\n",
    "print(e1._salary)"
   ]
  },
  {
   "cell_type": "code",
   "execution_count": 16,
   "id": "2109fbc3",
   "metadata": {},
   "outputs": [
    {
     "ename": "AttributeError",
     "evalue": "'Employee' object has no attribute 'salary'",
     "output_type": "error",
     "traceback": [
      "\u001b[1;31m---------------------------------------------------------------------------\u001b[0m",
      "\u001b[1;31mAttributeError\u001b[0m                            Traceback (most recent call last)",
      "Input \u001b[1;32mIn [16]\u001b[0m, in \u001b[0;36m<cell line: 11>\u001b[1;34m()\u001b[0m\n\u001b[0;32m      7\u001b[0m         \u001b[38;5;28mself\u001b[39m\u001b[38;5;241m.\u001b[39m_salary\u001b[38;5;241m=\u001b[39mval\n\u001b[0;32m      9\u001b[0m e1\u001b[38;5;241m=\u001b[39mEmployee(\u001b[38;5;124m\"\u001b[39m\u001b[38;5;124mRahul\u001b[39m\u001b[38;5;124m\"\u001b[39m,\u001b[38;5;241m200\u001b[39m)\n\u001b[1;32m---> 11\u001b[0m \u001b[38;5;28mprint\u001b[39m(\u001b[43me1\u001b[49m\u001b[38;5;241;43m.\u001b[39;49m\u001b[43msalary\u001b[49m)\n",
      "\u001b[1;31mAttributeError\u001b[0m: 'Employee' object has no attribute 'salary'"
     ]
    }
   ],
   "source": [
    "class Employee:\n",
    "\n",
    "    def __init__(self, name, val):\n",
    "\n",
    "        self._name=name\n",
    "\n",
    "        self._salary=val\n",
    "\n",
    "e1=Employee(\"Rahul\",200)\n",
    "\n",
    "print(e1.salary)"
   ]
  },
  {
   "cell_type": "code",
   "execution_count": 17,
   "id": "fa5091c6",
   "metadata": {},
   "outputs": [
    {
     "name": "stdout",
     "output_type": "stream",
     "text": [
      "13\n"
     ]
    }
   ],
   "source": [
    "class fruits:\n",
    "    def __init__(self, price):\n",
    "        self.price = price\n",
    "\n",
    "obj=fruits(50)\n",
    "obj.quantity=10\n",
    "obj.bags=2\n",
    "\n",
    "print(obj.quantity+len(obj.__dict__))"
   ]
  },
  {
   "cell_type": "code",
   "execution_count": 18,
   "id": "945b33f6",
   "metadata": {},
   "outputs": [
    {
     "data": {
      "text/plain": [
       "{'price': 50, 'quantity': 10, 'bags': 2}"
      ]
     },
     "execution_count": 18,
     "metadata": {},
     "output_type": "execute_result"
    }
   ],
   "source": [
    "obj.__dict__"
   ]
  },
  {
   "cell_type": "code",
   "execution_count": 19,
   "id": "8c36977d",
   "metadata": {},
   "outputs": [
    {
     "name": "stdout",
     "output_type": "stream",
     "text": [
      "Roll: 34 Marks: A None Age: 17\n"
     ]
    }
   ],
   "source": [
    "class Student:\n",
    "    def __init__(self,roll,marks):\n",
    "        self.roll = roll\n",
    "        self.marks=marks\n",
    "    def display(self):\n",
    "        print('Roll:', self.roll,'Marks:',self.marks, end=\" \")\n",
    "\n",
    "student1= Student(34,'A')\n",
    "student1.age=17\n",
    "print(student1.display(), 'Age:',student1.age)"
   ]
  },
  {
   "cell_type": "code",
   "execution_count": 21,
   "id": "f8f19036",
   "metadata": {},
   "outputs": [
    {
     "name": "stdout",
     "output_type": "stream",
     "text": [
      "Emma 10 Machine Learning\n"
     ]
    }
   ],
   "source": [
    "class Student:\n",
    "  # Class variable\n",
    "  subject_name = 'Math for Machine Learning'\n",
    "\n",
    "  # constructor\n",
    "  def __init__(self, name, roll_no):\n",
    "    self.name = name\n",
    "    self.roll_no = roll_no\n",
    "\n",
    "  # create Objects\n",
    "    #_____________________#blank1\n",
    "    #_____________________#blank2\n",
    "    s1 = Student('Emma', 10)\n",
    "    s1.subject_name = 'Machine Learning'\n",
    "\n",
    "print(s1.name, s1.roll_no, s1.subject_name)"
   ]
  },
  {
   "cell_type": "code",
   "execution_count": 22,
   "id": "1f32db87",
   "metadata": {},
   "outputs": [
    {
     "name": "stdout",
     "output_type": "stream",
     "text": [
      "Name: Sanjay Club: Real Madrid Sports: Football Name: Ravi Club: United Sports: Tennis "
     ]
    }
   ],
   "source": [
    "class Player:\n",
    "    \n",
    "  # class variables\n",
    "    club = 'United'\n",
    "    sport = 'Football'\n",
    "\n",
    "    def __init__(self, name):\n",
    "    # Instance variable\n",
    "        self.name = name\n",
    "\n",
    "\n",
    "    def show(self):\n",
    "        print('Name:', self.name, 'Club:', self.club, 'Sports:', self.sport, end=\" \")\n",
    "\n",
    "p1 = Player('Sanjay')\n",
    "p1.club = 'Real Madrid'\n",
    "p1.show()\n",
    "\n",
    "p2 = Player('Ravi')\n",
    "p2.sport = 'Tennis'\n",
    "p2.show()"
   ]
  },
  {
   "cell_type": "code",
   "execution_count": 24,
   "id": "093ae6eb",
   "metadata": {},
   "outputs": [
    {
     "name": "stdout",
     "output_type": "stream",
     "text": [
      "c\n",
      "B\n"
     ]
    }
   ],
   "source": [
    "class A:\n",
    "    def one(self):\n",
    "        print(\"c\")\n",
    "        return self.two()\n",
    "    def two(self):\n",
    "        return 'A'\n",
    "class B(A):\n",
    "    def two(self):\n",
    "        return 'B'\n",
    "obj= B()\n",
    "print(obj.one())"
   ]
  },
  {
   "cell_type": "code",
   "execution_count": 25,
   "id": "d9201584",
   "metadata": {},
   "outputs": [
    {
     "name": "stdout",
     "output_type": "stream",
     "text": [
      "5\n",
      "4\n"
     ]
    }
   ],
   "source": [
    "try:\n",
    "    print(a)\n",
    "except ValueError:\n",
    "    a=3\n",
    "    print(a)\n",
    "except:\n",
    "    a=5\n",
    "    print(a)\n",
    "finally:\n",
    "    a=4\n",
    "    print(a)"
   ]
  },
  {
   "cell_type": "code",
   "execution_count": 1,
   "id": "1e8549fd",
   "metadata": {},
   "outputs": [
    {
     "ename": "NameError",
     "evalue": "name 'a' is not defined",
     "output_type": "error",
     "traceback": [
      "\u001b[1;31m---------------------------------------------------------------------------\u001b[0m",
      "\u001b[1;31mNameError\u001b[0m                                 Traceback (most recent call last)",
      "Input \u001b[1;32mIn [1]\u001b[0m, in \u001b[0;36m<cell line: 1>\u001b[1;34m()\u001b[0m\n\u001b[1;32m----> 1\u001b[0m \u001b[38;5;28mprint\u001b[39m(\u001b[43ma\u001b[49m)\n",
      "\u001b[1;31mNameError\u001b[0m: name 'a' is not defined"
     ]
    }
   ],
   "source": [
    " print(a)"
   ]
  },
  {
   "cell_type": "code",
   "execution_count": 1,
   "id": "80cf2508",
   "metadata": {},
   "outputs": [
    {
     "name": "stdout",
     "output_type": "stream",
     "text": [
      "3\n",
      "4\n"
     ]
    }
   ],
   "source": [
    "try:\n",
    "  print(a)\n",
    "except NameError:\n",
    "  a=3\n",
    "  print(a)\n",
    "except:\n",
    "  a=5\n",
    "  print(a)\n",
    "finally:\n",
    "  a=4\n",
    "  print(a)"
   ]
  },
  {
   "cell_type": "code",
   "execution_count": 3,
   "id": "df140029",
   "metadata": {},
   "outputs": [
    {
     "data": {
      "text/plain": [
       "5"
      ]
     },
     "execution_count": 3,
     "metadata": {},
     "output_type": "execute_result"
    }
   ],
   "source": [
    "import random\n",
    "random.randint(3, 6)"
   ]
  },
  {
   "cell_type": "code",
   "execution_count": 42,
   "id": "b9338af2",
   "metadata": {},
   "outputs": [
    {
     "data": {
      "text/plain": [
       "4"
      ]
     },
     "execution_count": 42,
     "metadata": {},
     "output_type": "execute_result"
    }
   ],
   "source": [
    "random.randint(3, 6)"
   ]
  },
  {
   "cell_type": "code",
   "execution_count": 31,
   "id": "f223be99",
   "metadata": {},
   "outputs": [
    {
     "data": {
      "text/plain": [
       "6"
      ]
     },
     "execution_count": 31,
     "metadata": {},
     "output_type": "execute_result"
    }
   ],
   "source": [
    "random.choice([3, 6])"
   ]
  },
  {
   "cell_type": "code",
   "execution_count": 39,
   "id": "717ac85a",
   "metadata": {},
   "outputs": [
    {
     "data": {
      "text/plain": [
       "4"
      ]
     },
     "execution_count": 39,
     "metadata": {},
     "output_type": "execute_result"
    }
   ],
   "source": [
    "random.randrange(3, 6)"
   ]
  },
  {
   "cell_type": "code",
   "execution_count": 6,
   "id": "531cc4dc",
   "metadata": {},
   "outputs": [
    {
     "data": {
      "text/plain": [
       "3"
      ]
     },
     "execution_count": 6,
     "metadata": {},
     "output_type": "execute_result"
    }
   ],
   "source": [
    "3 + random.randrange(3)"
   ]
  },
  {
   "cell_type": "code",
   "execution_count": 7,
   "id": "de12b9e9",
   "metadata": {},
   "outputs": [
    {
     "data": {
      "text/plain": [
       "4"
      ]
     },
     "execution_count": 7,
     "metadata": {},
     "output_type": "execute_result"
    }
   ],
   "source": [
    "3 + random.randrange(4)"
   ]
  },
  {
   "cell_type": "code",
   "execution_count": 49,
   "id": "34f9b9ba",
   "metadata": {},
   "outputs": [
    {
     "data": {
      "text/plain": [
       "1"
      ]
     },
     "execution_count": 49,
     "metadata": {},
     "output_type": "execute_result"
    }
   ],
   "source": [
    "random.randrange(4)"
   ]
  },
  {
   "cell_type": "code",
   "execution_count": 45,
   "id": "e10d7588",
   "metadata": {},
   "outputs": [
    {
     "name": "stdout",
     "output_type": "stream",
     "text": [
      "C\n"
     ]
    }
   ],
   "source": [
    "\n",
    "x = \"WELCOME\"\n",
    "\n",
    "print(random.choice(x)) "
   ]
  },
  {
   "cell_type": "code",
   "execution_count": 1,
   "id": "f956113f",
   "metadata": {},
   "outputs": [
    {
     "name": "stdout",
     "output_type": "stream",
     "text": [
      "Variable x is not defined\n"
     ]
    }
   ],
   "source": [
    "try:\n",
    "    print(x)\n",
    "except NameError:                       #1\n",
    "      print(\"Variable x is not defined\")\n",
    "except:                                 #2\n",
    "      print(\"Something else went wrong\")"
   ]
  },
  {
   "cell_type": "code",
   "execution_count": 2,
   "id": "27e2dd1d",
   "metadata": {},
   "outputs": [],
   "source": [
    " from math import factorial\n",
    "  "
   ]
  },
  {
   "cell_type": "code",
   "execution_count": 4,
   "id": "00c3290c",
   "metadata": {},
   "outputs": [
    {
     "name": "stdout",
     "output_type": "stream",
     "text": [
      "120\n"
     ]
    }
   ],
   "source": [
    "print(factorial(5))"
   ]
  },
  {
   "cell_type": "code",
   "execution_count": 1,
   "id": "6043edff",
   "metadata": {},
   "outputs": [
    {
     "name": "stdout",
     "output_type": "stream",
     "text": [
      "Enter a number3\n"
     ]
    }
   ],
   "source": [
    "try:\n",
    "    n=int(input(\"Enter a number\"))\n",
    "    while 100%n==0:\n",
    "        print(\"Good\")\n",
    "    \n",
    "except ValueError:\n",
    "    print(\"Invalid\")"
   ]
  },
  {
   "cell_type": "code",
   "execution_count": 3,
   "id": "54e8034f",
   "metadata": {},
   "outputs": [
    {
     "name": "stdout",
     "output_type": "stream",
     "text": [
      "Enter a number3\n"
     ]
    }
   ],
   "source": [
    "n=int(input(\"Enter a number\"))"
   ]
  },
  {
   "cell_type": "code",
   "execution_count": 4,
   "id": "aca43cda",
   "metadata": {},
   "outputs": [
    {
     "name": "stdout",
     "output_type": "stream",
     "text": [
      "integer\n",
      "integer\n"
     ]
    }
   ],
   "source": [
    "def even(x):\n",
    "    try:\n",
    "        if x%2==0:\n",
    "              return \"even\"\n",
    "        else:\n",
    "              raise Exception\n",
    "    except:\n",
    "        return(\"odd\")\n",
    "    finally:\n",
    "        return \"integer\"\n",
    "\n",
    "print(even(5))    #A\n",
    "print(even(4))    #B"
   ]
  },
  {
   "cell_type": "code",
   "execution_count": 4,
   "id": "5fd4ca90",
   "metadata": {},
   "outputs": [
    {
     "ename": "IndentationError",
     "evalue": "expected an indented block (2761678072.py, line 25)",
     "output_type": "error",
     "traceback": [
      "\u001b[1;36m  Input \u001b[1;32mIn [4]\u001b[1;36m\u001b[0m\n\u001b[1;33m    class Unsupervised(MachineLearning):\u001b[0m\n\u001b[1;37m                                        ^\u001b[0m\n\u001b[1;31mIndentationError\u001b[0m\u001b[1;31m:\u001b[0m expected an indented block\n"
     ]
    }
   ],
   "source": [
    "class MachineLearning:\n",
    "    \n",
    "    def __init__(self,name,category):\n",
    "        self.name=name\n",
    "        self.category=category\n",
    "        \n",
    "    def getname(self):\n",
    "        return self.name\n",
    "        \n",
    "    def getcategory(self):\n",
    "        return self.category\n",
    "        \n",
    "    def print(self):\n",
    "        print(\"Name:\",self.name)\n",
    "        print(\"Category:\",self.category)\n",
    "\n",
    "\n",
    "class Supervised(MachineLearning):\n",
    "    def __init__(self,name,category):\n",
    "        super().__init__(name, category)\n",
    "    \n",
    "    def type(self):\n",
    "        #YOUR CODE GOES HERE\n",
    "\n",
    "class Unsupervised(MachineLearning):\n",
    "    def __init__(self,name,category):\n",
    "        super().__init__(name, category)\n",
    "    \n",
    "    def type(self):\n",
    "        #YOUR CODE GOES HERE\n",
    "\n",
    "def mlAnalogy(a,b,c,d):\n",
    "    '''\n",
    "    input=> a,b = name and category for Supervised class\n",
    "            c,d = name and category for Unsupervised class\n",
    "    output=> type() is called for both classes in the end, it should first print the Name and Category then the type of class in new lines\n",
    "    '''\n",
    "    \n",
    "    obj1=Supervised(a,b)\n",
    "    obj1.type()\n",
    "    obj2=Unsupervised(c,d)\n",
    "    obj2.type()\n",
    "\n",
    "    return None"
   ]
  },
  {
   "cell_type": "code",
   "execution_count": 29,
   "id": "17136f68",
   "metadata": {},
   "outputs": [],
   "source": [
    "class MachineLearning:\n",
    "    \n",
    "    def __init__(self,name,category):\n",
    "        self.name=name\n",
    "        self.category=category\n",
    "    def getname(self):\n",
    "        return self.name\n",
    "        \n",
    "    def getcategory(self):\n",
    "        return self.category\n",
    "\n",
    "    def print(self):\n",
    "        print(\"Name:\",self.name)\n",
    "        print(\"Category:\",self.category)\n",
    "\n",
    "         \n",
    "class Supervised(MachineLearning):\n",
    "    def __init__(self,name,category):\n",
    "        super().__init__(name, category)\n",
    "    \n",
    "    def type(self):\n",
    "        MachineLearning.print(self)\n",
    "        if self.category==\"Classification Algo\" or self.category==\"Regression algo\":\n",
    "            print(\"Supervised Learning Algorithm\")\n",
    "            \n",
    "        \n",
    "class Unsupervised(MachineLearning):\n",
    "    def __init__(self,name,category):\n",
    "        super().__init__(name, category)\n",
    "    \n",
    "    def type(self):\n",
    "        MachineLearning.print(self)\n",
    "        if self.category==\"Clustering Algo\" or self.category==\"classification  algo\":\n",
    "            print(\"Unsupervised Learning Algorithm\")\n",
    "\n",
    "def mlAnalogy(a,b,c,d):\n",
    "    '''\n",
    "    input=> a,b = name and category for Supervised class\n",
    "            c,d = name and category for Unsupervised class\n",
    "    output=> type() is called for both classes in the end, it should first print the Name and Category then the type of class in new lines\n",
    "    '''\n",
    "    \n",
    "    obj1=Supervised(a,b)\n",
    "    obj1.type()\n",
    "    obj2=Unsupervised(c,d)\n",
    "    obj2.type()\n",
    "\n",
    "    return None"
   ]
  },
  {
   "cell_type": "code",
   "execution_count": 30,
   "id": "26e8f833",
   "metadata": {},
   "outputs": [
    {
     "name": "stdout",
     "output_type": "stream",
     "text": [
      "Name: Logistic Regression\n",
      "Category: Classification Algo\n",
      "Supervised Learning Algorithm\n",
      "Name: k-Means\n",
      "Category: Clustering Algo\n",
      "Unsupervised Learning Algorithm\n"
     ]
    }
   ],
   "source": [
    "mlAnalogy('Logistic Regression','Classification Algo','k-Means','Clustering Algo')"
   ]
  },
  {
   "cell_type": "code",
   "execution_count": null,
   "id": "1406eda2",
   "metadata": {},
   "outputs": [],
   "source": [
    "    \n",
    "\"\"\"\n",
    "  a is list, b is string, c is integer\n",
    "  return the exception in msg \n",
    "\"\"\" "
   ]
  },
  {
   "cell_type": "code",
   "execution_count": 9,
   "id": "c4060df1",
   "metadata": {},
   "outputs": [],
   "source": [
    "import numpy as np\n",
    "def calc(a,b,c):\n",
    "    try:\n",
    "        print(len(a))\n",
    "        if (len(a)==0) : raise Exception\n",
    "        if not (b==\"Percentile\" or b== \"Quantile\"): raise Exception\n",
    "        if b==\"Percentile\":\n",
    "            print(\"Percentile\")\n",
    "            n=np.percentile(a,c)\n",
    "           \n",
    "        if b==\"Quantile\":\n",
    "            print(\"Quantile\")\n",
    "            n=np.quantile(a,c)\n",
    "    except ( Exception) as e:\n",
    "            #YOUR CODE GOES HERE\n",
    "        if(len(a)==0):\n",
    "            print(\"Null value passed\") \n",
    "        else: \n",
    "            print(\"Formula Error: Wrong Formula\")   \n",
    "\n",
    "    else:\n",
    "        print(n)\n"
   ]
  },
  {
   "cell_type": "code",
   "execution_count": 10,
   "id": "1bb2ddb3",
   "metadata": {},
   "outputs": [
    {
     "name": "stdout",
     "output_type": "stream",
     "text": [
      "0\n",
      "Null value passed\n"
     ]
    }
   ],
   "source": [
    "calc([], \"Percentile\",.75)"
   ]
  },
  {
   "cell_type": "code",
   "execution_count": 106,
   "id": "616f65e8",
   "metadata": {},
   "outputs": [
    {
     "name": "stdout",
     "output_type": "stream",
     "text": [
      "Sorry ! You are dividing by zero \n"
     ]
    }
   ],
   "source": [
    "def divide(x, y):\n",
    "    try:\n",
    "        # Floor Division : Gives only Fractional Part as Answer\n",
    "        result = x // y\n",
    "        print(\"Yeah ! Your answer is :\", result)\n",
    "    except ZeroDivisionError:\n",
    "        print(\"Sorry ! You are dividing by zero \")\n",
    " \n",
    "# Look at parameters and note the working of Program\n",
    "divide(3, 0)"
   ]
  },
  {
   "cell_type": "code",
   "execution_count": 13,
   "id": "5bb83e03",
   "metadata": {},
   "outputs": [
    {
     "name": "stdout",
     "output_type": "stream",
     "text": [
      "5 5 5 5 5 \n",
      "5 4 4 4 5 \n",
      "5 4 3 4 5 \n",
      "5 4 4 4 5 \n",
      "5 5 5 5 5 \n"
     ]
    }
   ],
   "source": [
    "n=5\n",
    "for i in range(n):\n",
    "    for j in range(n):\n",
    "        print(max(i,j,n-1-i,n-1-j)+1, end=\" \")\n",
    "        \n",
    "    print(end=\"\\n\")"
   ]
  },
  {
   "cell_type": "code",
   "execution_count": 2,
   "id": "9a02a187",
   "metadata": {},
   "outputs": [
    {
     "name": "stdout",
     "output_type": "stream",
     "text": [
      "49\n",
      "3\n",
      "15\n",
      "31\n",
      "84\n",
      "39\n",
      "4\n",
      "11\n",
      "78\n",
      "10\n",
      "94\n",
      "99\n",
      "36\n",
      "93\n",
      "67\n",
      "20\n",
      "60\n",
      "46\n",
      "32\n",
      "14\n",
      "81\n",
      "28\n",
      "30\n",
      "6\n",
      "34\n",
      "90\n",
      "23\n",
      "45\n",
      "79\n",
      "64\n",
      "56\n",
      "47\n",
      "21\n",
      "33\n",
      "16\n",
      "29\n",
      "65\n",
      "35\n",
      "17\n",
      "83\n",
      "62\n",
      "5\n",
      "7\n",
      "87\n",
      "44\n",
      "82\n",
      "9\n",
      "72\n",
      "19\n",
      "0\n",
      "70\n",
      "97\n",
      "2\n",
      "54\n",
      "41\n",
      "96\n",
      "55\n",
      "40\n",
      "24\n",
      "61\n",
      "77\n",
      "98\n",
      "38\n",
      "68\n",
      "12\n",
      "58\n",
      "71\n",
      "22\n",
      "48\n",
      "66\n",
      "95\n",
      "50\n",
      "74\n",
      "63\n",
      "89\n",
      "76\n",
      "51\n",
      "86\n",
      "88\n",
      "69\n",
      "13\n",
      "85\n",
      "57\n",
      "27\n",
      "8\n",
      "59\n",
      "75\n",
      "92\n",
      "37\n",
      "53\n",
      "80\n",
      "26\n",
      "52\n",
      "73\n",
      "42\n",
      "91\n",
      "25\n",
      "1\n",
      "18\n",
      "43\n"
     ]
    }
   ],
   "source": [
    "import random\n",
    "\n",
    "array = list(range(100))\n",
    "random.shuffle(array)\n",
    "while len(array) != 0:\n",
    "      print(array.pop())"
   ]
  },
  {
   "cell_type": "code",
   "execution_count": 3,
   "id": "68e91958",
   "metadata": {},
   "outputs": [
    {
     "name": "stdout",
     "output_type": "stream",
     "text": [
      "2.72\n"
     ]
    }
   ],
   "source": [
    "import math\n",
    "result = 1\n",
    "for i in range(1,7):\n",
    "     result += 1/(math.factorial(i))#blank1\n",
    "print(round(result,2))"
   ]
  },
  {
   "cell_type": "code",
   "execution_count": 6,
   "id": "59629a99",
   "metadata": {},
   "outputs": [
    {
     "name": "stdout",
     "output_type": "stream",
     "text": [
      "2.49\n"
     ]
    }
   ],
   "source": [
    "import math\n",
    "result = 1\n",
    "for i in range(1,7):\n",
    "     result += 1/(math.pow(i,2))#blank1\n",
    "print(round(result,2))"
   ]
  },
  {
   "cell_type": "code",
   "execution_count": 7,
   "id": "d39883b5",
   "metadata": {},
   "outputs": [],
   "source": [
    "import math\n",
    "import numpy as np\n",
    "a=[1,2,3,45]"
   ]
  },
  {
   "cell_type": "code",
   "execution_count": 8,
   "id": "3d954d7b",
   "metadata": {},
   "outputs": [
    {
     "ename": "NameError",
     "evalue": "name 'numpy' is not defined",
     "output_type": "error",
     "traceback": [
      "\u001b[1;31m---------------------------------------------------------------------------\u001b[0m",
      "\u001b[1;31mNameError\u001b[0m                                 Traceback (most recent call last)",
      "Input \u001b[1;32mIn [8]\u001b[0m, in \u001b[0;36m<cell line: 1>\u001b[1;34m()\u001b[0m\n\u001b[1;32m----> 1\u001b[0m \u001b[43mnumpy\u001b[49m\u001b[38;5;241m.\u001b[39mmean(a) \u001b[38;5;129;01mand\u001b[39;00m numpy\u001b[38;5;241m.\u001b[39mstd(a)\n",
      "\u001b[1;31mNameError\u001b[0m: name 'numpy' is not defined"
     ]
    }
   ],
   "source": [
    "numpy.mean(a) and numpy.std(a)"
   ]
  },
  {
   "cell_type": "code",
   "execution_count": 11,
   "id": "ae4e0621",
   "metadata": {},
   "outputs": [
    {
     "data": {
      "text/plain": [
       "12.75"
      ]
     },
     "execution_count": 11,
     "metadata": {},
     "output_type": "execute_result"
    }
   ],
   "source": [
    "np.mean(a)  "
   ]
  },
  {
   "cell_type": "code",
   "execution_count": 12,
   "id": "252732c0",
   "metadata": {},
   "outputs": [
    {
     "data": {
      "text/plain": [
       "18.632968094214082"
      ]
     },
     "execution_count": 12,
     "metadata": {},
     "output_type": "execute_result"
    }
   ],
   "source": [
    "np.std(a)"
   ]
  },
  {
   "cell_type": "code",
   "execution_count": 13,
   "id": "0d84407f",
   "metadata": {},
   "outputs": [
    {
     "ename": "AttributeError",
     "evalue": "module 'math' has no attribute 'mean'",
     "output_type": "error",
     "traceback": [
      "\u001b[1;31m---------------------------------------------------------------------------\u001b[0m",
      "\u001b[1;31mAttributeError\u001b[0m                            Traceback (most recent call last)",
      "Input \u001b[1;32mIn [13]\u001b[0m, in \u001b[0;36m<cell line: 1>\u001b[1;34m()\u001b[0m\n\u001b[1;32m----> 1\u001b[0m \u001b[43mmath\u001b[49m\u001b[38;5;241;43m.\u001b[39;49m\u001b[43mmean\u001b[49m(a)\n",
      "\u001b[1;31mAttributeError\u001b[0m: module 'math' has no attribute 'mean'"
     ]
    }
   ],
   "source": [
    "math.mean(a) "
   ]
  },
  {
   "cell_type": "code",
   "execution_count": 14,
   "id": "d02c4efb",
   "metadata": {},
   "outputs": [
    {
     "ename": "AttributeError",
     "evalue": "module 'math' has no attribute 'std'",
     "output_type": "error",
     "traceback": [
      "\u001b[1;31m---------------------------------------------------------------------------\u001b[0m",
      "\u001b[1;31mAttributeError\u001b[0m                            Traceback (most recent call last)",
      "Input \u001b[1;32mIn [14]\u001b[0m, in \u001b[0;36m<cell line: 1>\u001b[1;34m()\u001b[0m\n\u001b[1;32m----> 1\u001b[0m \u001b[43mmath\u001b[49m\u001b[38;5;241;43m.\u001b[39;49m\u001b[43mstd\u001b[49m(a)\n",
      "\u001b[1;31mAttributeError\u001b[0m: module 'math' has no attribute 'std'"
     ]
    }
   ],
   "source": [
    "math.std(a)"
   ]
  },
  {
   "cell_type": "code",
   "execution_count": 17,
   "id": "1405748e",
   "metadata": {},
   "outputs": [
    {
     "name": "stdout",
     "output_type": "stream",
     "text": [
      "Enter your name: fig\n",
      "Error occured : Name cannot have less than  5 characters\n"
     ]
    }
   ],
   "source": [
    "try:\n",
    "    name = input(\"Enter your name: \")\n",
    "    if len(name) < 5:\n",
    "        raise Exception(\"Name cannot have less than  5 characters\")\n",
    "    elif len(name)==5: \n",
    "        raise Exception(\"Name should have more than five characters\")\n",
    "\n",
    "except Exception as e:\n",
    "    print(\"Error occured :\",e)"
   ]
  },
  {
   "cell_type": "code",
   "execution_count": 18,
   "id": "ed896783",
   "metadata": {},
   "outputs": [],
   "source": [
    "class Props:\n",
    "    def __init__(self, x, y):\n",
    "        self.x = x\n",
    "        self.y = y"
   ]
  },
  {
   "cell_type": "code",
   "execution_count": 25,
   "id": "49ddb2b8",
   "metadata": {},
   "outputs": [],
   "source": [
    "class Ball(Props):\n",
    "    def __init__(self, x, y):\n",
    "        super().__init__(x, y)\n",
    "        self.shape = \"o\"\n",
    "        self.number = 1\n",
    "        self.vely = 0\n",
    "        self.velx = 0\n",
    "\n",
    "    def get_x(self):\n",
    "        return self.x\n",
    " \n",
    "    def get_y(self):\n",
    "        return self.y\n",
    "\n",
    "    def get_velx(self):\n",
    "        return self.velx\n",
    " \n",
    "    def get_vely(self):\n",
    "        return self.vely\n",
    "    \n",
    "    def inc_velx(self):\n",
    "        self.velx = self.velx+2\n",
    "    \n",
    "    def inc_vely(self):\n",
    "        self.vely = self.vely+1"
   ]
  },
  {
   "cell_type": "code",
   "execution_count": 27,
   "id": "2939f070",
   "metadata": {},
   "outputs": [
    {
     "name": "stdout",
     "output_type": "stream",
     "text": [
      "27 3 0 0\n"
     ]
    }
   ],
   "source": [
    "obj_ball = Ball(27,3)\n",
    "\n",
    "bx = obj_ball.get_x()\n",
    "by = obj_ball.get_y()\n",
    "b_velx = obj_ball.get_velx()\n",
    "b_vely = obj_ball.get_vely()\n",
    "obj_ball.inc_velx()\n",
    "print(bx, by, b_velx, b_vely)"
   ]
  },
  {
   "cell_type": "code",
   "execution_count": 29,
   "id": "b47235ce",
   "metadata": {},
   "outputs": [
    {
     "data": {
      "text/plain": [
       "4"
      ]
     },
     "execution_count": 29,
     "metadata": {},
     "output_type": "execute_result"
    }
   ],
   "source": [
    "obj_ball.inc_velx()\n",
    "obj_ball.velx"
   ]
  },
  {
   "cell_type": "code",
   "execution_count": 30,
   "id": "244e86f2",
   "metadata": {},
   "outputs": [
    {
     "name": "stdout",
     "output_type": "stream",
     "text": [
      "Rachel says, Grrrr!\n"
     ]
    }
   ],
   "source": [
    "class A:\n",
    "    def __init__(self, name, sound=\"Grrrr\"):\n",
    "        self.name = name\n",
    "        self.sound = sound\n",
    "\n",
    "    def make_noise(self):\n",
    "        print(\"{} says, {}\".format(self.name,self.sound))\n",
    "\n",
    "class B(A):\n",
    "    def __init__(self, name=\"Rachel\"):\n",
    "        super().__init__(name, \"Meow!\")\n",
    "\n",
    "    def make_noise(self,sound=\"Grrrr!\"):\n",
    "        print(\"{} says, {}\".format(self.name, sound))\n",
    "\n",
    "pet_cat = B()\n",
    "pet_cat.make_noise()"
   ]
  },
  {
   "cell_type": "code",
   "execution_count": 31,
   "id": "72225414",
   "metadata": {},
   "outputs": [
    {
     "name": "stdout",
     "output_type": "stream",
     "text": [
      "AI's check ML's check "
     ]
    }
   ],
   "source": [
    "class AI:\n",
    "    def check(self):\n",
    "        return \"AI's check\"\n",
    "    def display(self):\n",
    "        print(self.check(),end=\" \")\n",
    "\n",
    "class ML(AI):\n",
    "    def check(self):\n",
    "        return \"ML's check\"\n",
    "\n",
    "AI().display()\n",
    "ML().display()"
   ]
  },
  {
   "cell_type": "code",
   "execution_count": 7,
   "id": "8918f136",
   "metadata": {},
   "outputs": [],
   "source": [
    "arr =[64, 34, 25, 12, 22, 11, 90]"
   ]
  },
  {
   "cell_type": "code",
   "execution_count": 2,
   "id": "86fb093b",
   "metadata": {},
   "outputs": [
    {
     "data": {
      "text/plain": [
       "7"
      ]
     },
     "execution_count": 2,
     "metadata": {},
     "output_type": "execute_result"
    }
   ],
   "source": [
    "n=len(arr)\n",
    "n"
   ]
  },
  {
   "cell_type": "code",
   "execution_count": 8,
   "id": "0a8d63f2",
   "metadata": {},
   "outputs": [
    {
     "data": {
      "text/plain": [
       "[12, 25, 34, 64, 22, 11, 90]"
      ]
     },
     "execution_count": 8,
     "metadata": {},
     "output_type": "execute_result"
    }
   ],
   "source": [
    "\n",
    "for i in range(k-1):\n",
    "    for j in range(k-i-1):\n",
    "        if arr[j]>arr[j+1]:\n",
    "            arr[j],arr[j+1]=arr[j+1], arr[j]\n",
    "arr    "
   ]
  },
  {
   "cell_type": "code",
   "execution_count": 12,
   "id": "ba0c64b3",
   "metadata": {},
   "outputs": [
    {
     "data": {
      "text/plain": [
       "102"
      ]
     },
     "execution_count": 12,
     "metadata": {},
     "output_type": "execute_result"
    }
   ],
   "source": [
    "res=arr[0]+arr[-1]\n",
    "res"
   ]
  },
  {
   "cell_type": "code",
   "execution_count": 9,
   "id": "bbf404b6",
   "metadata": {},
   "outputs": [
    {
     "data": {
      "text/plain": [
       "90"
      ]
     },
     "execution_count": 9,
     "metadata": {},
     "output_type": "execute_result"
    }
   ],
   "source": [
    "arr[-1]"
   ]
  },
  {
   "cell_type": "code",
   "execution_count": 1,
   "id": "d1795042",
   "metadata": {},
   "outputs": [
    {
     "name": "stdout",
     "output_type": "stream",
     "text": [
      "1\n",
      "3\n",
      "5\n"
     ]
    }
   ],
   "source": [
    "i=0\n",
    "n=5\n",
    "\n",
    "while(i<n):\n",
    "    i+=1\n",
    "    if(i%2!=0):\n",
    "        print(i)"
   ]
  },
  {
   "cell_type": "code",
   "execution_count": 2,
   "id": "ba50fdff",
   "metadata": {},
   "outputs": [
    {
     "data": {
      "text/plain": [
       "0"
      ]
     },
     "execution_count": 2,
     "metadata": {},
     "output_type": "execute_result"
    }
   ],
   "source": []
  },
  {
   "cell_type": "code",
   "execution_count": null,
   "id": "6cb94d99",
   "metadata": {},
   "outputs": [],
   "source": []
  },
  {
   "cell_type": "code",
   "execution_count": 32,
   "id": "139b2d1e",
   "metadata": {},
   "outputs": [],
   "source": [
    "def insertionSort(arr,k):\n",
    "    \"\"\"\n",
    "    arr is the list and k is the iteration number\n",
    "    store the result with variable name res\n",
    "    \"\"\"\n",
    "    for i in range(0, k+1):\n",
    "        key = arr[i]\n",
    "        \n",
    "        j=i-1\n",
    "        while j>=0 and key < arr[j]:\n",
    "            arr[j+1] = arr[j]\n",
    "            j-=1\n",
    "        arr[j+1] = key\n",
    "        t=len(arr)//2\n",
    "        res=arr[t]\n",
    "    \n",
    "    return arr, res"
   ]
  },
  {
   "cell_type": "code",
   "execution_count": 33,
   "id": "edc82ee1",
   "metadata": {},
   "outputs": [
    {
     "data": {
      "text/plain": [
       "([1, 4, 5, 7, 12, 32, 34], 7)"
      ]
     },
     "execution_count": 33,
     "metadata": {},
     "output_type": "execute_result"
    }
   ],
   "source": [
    "insertionSort([12, 4, 5, 7, 1, 32, 34],4)"
   ]
  },
  {
   "cell_type": "code",
   "execution_count": 6,
   "id": "3d0b42e5",
   "metadata": {},
   "outputs": [
    {
     "data": {
      "text/plain": [
       "13"
      ]
     },
     "execution_count": 6,
     "metadata": {},
     "output_type": "execute_result"
    }
   ],
   "source": [
    "arr=[12, 11, 13, 5, 6]\n",
    "i=len(arr)//2\n",
    "arr[i]"
   ]
  },
  {
   "cell_type": "code",
   "execution_count": null,
   "id": "b9df0dbc",
   "metadata": {},
   "outputs": [],
   "source": []
  }
 ],
 "metadata": {
  "kernelspec": {
   "display_name": "Python 3 (ipykernel)",
   "language": "python",
   "name": "python3"
  },
  "language_info": {
   "codemirror_mode": {
    "name": "ipython",
    "version": 3
   },
   "file_extension": ".py",
   "mimetype": "text/x-python",
   "name": "python",
   "nbconvert_exporter": "python",
   "pygments_lexer": "ipython3",
   "version": "3.8.12"
  }
 },
 "nbformat": 4,
 "nbformat_minor": 5
}
