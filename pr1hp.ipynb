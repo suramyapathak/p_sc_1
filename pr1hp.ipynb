{
 "cells": [
  {
   "cell_type": "markdown",
   "id": "ff6a62eb",
   "metadata": {},
   "source": [
    "Create a class Student and initialize it with details marks in subject 1, credit of subject 1, marks in subject 2, and credit of subject 2.\n",
    "\n",
    "Create a function grade_point_average() for the Student class which computes the GPA rounded to two decimals, based on the following criteria of points in a subject :\n",
    "\n",
    "1. If marks>=90:10 points\n",
    "2. If 90>marks>=75: 9 points\n",
    "3. If 75>marks>=60: 8 points\n",
    "4. If 60>marks>=45: 7 points\n",
    "5. If marks<45: 0 points\n",
    "\n",
    "GPA = (points in subject 1 * credit of subject 1+ points in subject 2 * credit of subject 2) / ( credit of subject 1 + credit of subject 2)\n",
    "\n",
    "The points in a subject should be calculated according to the criteria mentioned in the question.\n",
    "Also, implement a special zero case to handle when credits of both subjects are 0, return \"Zero credits for both subjects\".\n",
    "\n",
    "Input Example:\n",
    "\n",
    "# class Student takes (marks1,marks2,credits1,credits2)\n",
    "(85, 76, 3, 4)\n",
    "\n",
    "Output Example:\n",
    "\n",
    "#output is GPA value\n",
    "9.0"
   ]
  },
  {
   "cell_type": "code",
   "execution_count": 17,
   "id": "93ff97e8",
   "metadata": {},
   "outputs": [],
   "source": [
    "class student:\n",
    "    \n",
    "    def __init__ (self, marks1,marks2,credits1, credits2):\n",
    "        self.marks1=marks1\n",
    "        self.marks2=marks2\n",
    "        self.credits1=credits1\n",
    "        self.credits2=credits2\n",
    "        \n",
    "        \n",
    "    def grade_point_average(self):\n",
    "        gpa=0\n",
    "\n",
    "        #YOUR CODE GOES HERE\n",
    "        i=0\n",
    "        points=[]\n",
    "        for a in (self.marks1, self.marks2):\n",
    "            if a<45:\n",
    "                points.append(0)\n",
    "            elif (a>44 and a<60):\n",
    "                points.append(7)\n",
    "            elif (a>59 and a<75):\n",
    "                points.append(8)\n",
    "            elif (a>74 and a<90):\n",
    "                points.append(9)\n",
    "            elif a>90:\n",
    "                points.append(10)\n",
    "            i+=1\n",
    "\n",
    "        if (self.credits1==0) and (self.credits2==0):\n",
    "            print(\"Zero credits for both subjects\")\n",
    "        else:\n",
    "            gpa=round(((points[0]*self.credits1) + (points[1]*self.credits2))/(self.credits1+self.credits2),2)\n",
    "            print(points[0],self.marks1 , points[1],self.marks2,self.credits1,self.credits2)\n",
    "        return gpa\n",
    "        \n",
    "        "
   ]
  },
  {
   "cell_type": "code",
   "execution_count": 18,
   "id": "80dd79b4",
   "metadata": {},
   "outputs": [
    {
     "data": {
      "text/plain": [
       "9.0"
      ]
     },
     "execution_count": 18,
     "metadata": {},
     "output_type": "execute_result"
    }
   ],
   "source": [
    "(9*3+9*4)/7"
   ]
  },
  {
   "cell_type": "code",
   "execution_count": 19,
   "id": "4b6f15f8",
   "metadata": {},
   "outputs": [],
   "source": [
    "s1=student(35, 92, 4, 5)"
   ]
  },
  {
   "cell_type": "code",
   "execution_count": 20,
   "id": "f108036b",
   "metadata": {},
   "outputs": [
    {
     "name": "stdout",
     "output_type": "stream",
     "text": [
      "0 35 10 92 4 5\n"
     ]
    },
    {
     "data": {
      "text/plain": [
       "5.56"
      ]
     },
     "execution_count": 20,
     "metadata": {},
     "output_type": "execute_result"
    }
   ],
   "source": [
    "s1.grade_point_average()"
   ]
  },
  {
   "cell_type": "code",
   "execution_count": null,
   "id": "1ace0cc9",
   "metadata": {},
   "outputs": [],
   "source": [
    "\n",
    "points=[]\n",
    "i=0\n",
    "\n",
    "\n",
    "for a in (marks1, marks2):\n",
    "   \n",
    "    if a<45:\n",
    "        points.append(0)\n",
    "    elif a>44 and a<60:\n",
    "        points.append(7)\n",
    "    elif a>59 and a<75:\n",
    "        points.append(8)\n",
    "    elif a>74 and a<90:\n",
    "        points.append(9)\n",
    "    elif a>90:\n",
    "        points.append(10)\n",
    "    i+=1"
   ]
  },
  {
   "cell_type": "code",
   "execution_count": null,
   "id": "7ce92ed8",
   "metadata": {},
   "outputs": [],
   "source": [
    "points[0]"
   ]
  },
  {
   "cell_type": "code",
   "execution_count": null,
   "id": "191c0dba",
   "metadata": {},
   "outputs": [],
   "source": []
  },
  {
   "cell_type": "code",
   "execution_count": null,
   "id": "64569a05",
   "metadata": {},
   "outputs": [],
   "source": []
  }
 ],
 "metadata": {
  "kernelspec": {
   "display_name": "Python 3 (ipykernel)",
   "language": "python",
   "name": "python3"
  },
  "language_info": {
   "codemirror_mode": {
    "name": "ipython",
    "version": 3
   },
   "file_extension": ".py",
   "mimetype": "text/x-python",
   "name": "python",
   "nbconvert_exporter": "python",
   "pygments_lexer": "ipython3",
   "version": "3.8.12"
  }
 },
 "nbformat": 4,
 "nbformat_minor": 5
}
